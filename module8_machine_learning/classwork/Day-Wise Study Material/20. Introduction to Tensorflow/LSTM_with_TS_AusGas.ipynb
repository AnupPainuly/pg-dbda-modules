{
  "nbformat": 4,
  "nbformat_minor": 0,
  "metadata": {
    "kernelspec": {
      "display_name": "Python 3",
      "language": "python",
      "name": "python3"
    },
    "language_info": {
      "codemirror_mode": {
        "name": "ipython",
        "version": 3
      },
      "file_extension": ".py",
      "mimetype": "text/x-python",
      "name": "python",
      "nbconvert_exporter": "python",
      "pygments_lexer": "ipython3",
      "version": "3.6.10"
    },
    "colab": {
      "provenance": []
    },
    "accelerator": "GPU",
    "gpuClass": "standard"
  },
  "cells": [
    {
      "cell_type": "markdown",
      "metadata": {
        "id": "VkIGpehwq1wF"
      },
      "source": [
        "Part 1 - Data Preprocessing"
      ]
    },
    {
      "cell_type": "code",
      "metadata": {
        "colab": {
          "base_uri": "https://localhost:8080/"
        },
        "id": "Cc_iZXebMIOP",
        "outputId": "fd636272-de88-4119-bcac-810623b6e215"
      },
      "source": [
        "from google.colab import drive\n",
        "drive.mount('/content/drive')"
      ],
      "execution_count": null,
      "outputs": [
        {
          "output_type": "stream",
          "name": "stdout",
          "text": [
            "Mounted at /content/drive\n"
          ]
        }
      ]
    },
    {
      "cell_type": "code",
      "metadata": {
        "colab": {
          "base_uri": "https://localhost:8080/",
          "height": 206
        },
        "id": "gFqkC13mq1wH",
        "outputId": "0be6fdde-f2da-423e-a4d5-8be4b549851d"
      },
      "source": [
        "import numpy as np\n",
        "import matplotlib.pyplot as plt\n",
        "import pandas as pd\n",
        "from sklearn.metrics import mean_squared_error\n",
        "# Importing the training set\n",
        "dataset_ts = pd.read_csv('/content/drive/MyDrive/Datasets/AusGas.csv')\n",
        "\n",
        "dataset_ts.head()"
      ],
      "execution_count": null,
      "outputs": [
        {
          "output_type": "execute_result",
          "data": {
            "text/plain": [
              "      Month  GasProd\n",
              "0  Jan-1956     1709\n",
              "1  Feb-1956     1646\n",
              "2  Mar-1956     1794\n",
              "3  Apr-1956     1878\n",
              "4  May-1956     2173"
            ],
            "text/html": [
              "\n",
              "  <div id=\"df-0d57ac8a-8fd7-4922-be6b-0b28822f9865\">\n",
              "    <div class=\"colab-df-container\">\n",
              "      <div>\n",
              "<style scoped>\n",
              "    .dataframe tbody tr th:only-of-type {\n",
              "        vertical-align: middle;\n",
              "    }\n",
              "\n",
              "    .dataframe tbody tr th {\n",
              "        vertical-align: top;\n",
              "    }\n",
              "\n",
              "    .dataframe thead th {\n",
              "        text-align: right;\n",
              "    }\n",
              "</style>\n",
              "<table border=\"1\" class=\"dataframe\">\n",
              "  <thead>\n",
              "    <tr style=\"text-align: right;\">\n",
              "      <th></th>\n",
              "      <th>Month</th>\n",
              "      <th>GasProd</th>\n",
              "    </tr>\n",
              "  </thead>\n",
              "  <tbody>\n",
              "    <tr>\n",
              "      <th>0</th>\n",
              "      <td>Jan-1956</td>\n",
              "      <td>1709</td>\n",
              "    </tr>\n",
              "    <tr>\n",
              "      <th>1</th>\n",
              "      <td>Feb-1956</td>\n",
              "      <td>1646</td>\n",
              "    </tr>\n",
              "    <tr>\n",
              "      <th>2</th>\n",
              "      <td>Mar-1956</td>\n",
              "      <td>1794</td>\n",
              "    </tr>\n",
              "    <tr>\n",
              "      <th>3</th>\n",
              "      <td>Apr-1956</td>\n",
              "      <td>1878</td>\n",
              "    </tr>\n",
              "    <tr>\n",
              "      <th>4</th>\n",
              "      <td>May-1956</td>\n",
              "      <td>2173</td>\n",
              "    </tr>\n",
              "  </tbody>\n",
              "</table>\n",
              "</div>\n",
              "      <button class=\"colab-df-convert\" onclick=\"convertToInteractive('df-0d57ac8a-8fd7-4922-be6b-0b28822f9865')\"\n",
              "              title=\"Convert this dataframe to an interactive table.\"\n",
              "              style=\"display:none;\">\n",
              "        \n",
              "  <svg xmlns=\"http://www.w3.org/2000/svg\" height=\"24px\"viewBox=\"0 0 24 24\"\n",
              "       width=\"24px\">\n",
              "    <path d=\"M0 0h24v24H0V0z\" fill=\"none\"/>\n",
              "    <path d=\"M18.56 5.44l.94 2.06.94-2.06 2.06-.94-2.06-.94-.94-2.06-.94 2.06-2.06.94zm-11 1L8.5 8.5l.94-2.06 2.06-.94-2.06-.94L8.5 2.5l-.94 2.06-2.06.94zm10 10l.94 2.06.94-2.06 2.06-.94-2.06-.94-.94-2.06-.94 2.06-2.06.94z\"/><path d=\"M17.41 7.96l-1.37-1.37c-.4-.4-.92-.59-1.43-.59-.52 0-1.04.2-1.43.59L10.3 9.45l-7.72 7.72c-.78.78-.78 2.05 0 2.83L4 21.41c.39.39.9.59 1.41.59.51 0 1.02-.2 1.41-.59l7.78-7.78 2.81-2.81c.8-.78.8-2.07 0-2.86zM5.41 20L4 18.59l7.72-7.72 1.47 1.35L5.41 20z\"/>\n",
              "  </svg>\n",
              "      </button>\n",
              "      \n",
              "  <style>\n",
              "    .colab-df-container {\n",
              "      display:flex;\n",
              "      flex-wrap:wrap;\n",
              "      gap: 12px;\n",
              "    }\n",
              "\n",
              "    .colab-df-convert {\n",
              "      background-color: #E8F0FE;\n",
              "      border: none;\n",
              "      border-radius: 50%;\n",
              "      cursor: pointer;\n",
              "      display: none;\n",
              "      fill: #1967D2;\n",
              "      height: 32px;\n",
              "      padding: 0 0 0 0;\n",
              "      width: 32px;\n",
              "    }\n",
              "\n",
              "    .colab-df-convert:hover {\n",
              "      background-color: #E2EBFA;\n",
              "      box-shadow: 0px 1px 2px rgba(60, 64, 67, 0.3), 0px 1px 3px 1px rgba(60, 64, 67, 0.15);\n",
              "      fill: #174EA6;\n",
              "    }\n",
              "\n",
              "    [theme=dark] .colab-df-convert {\n",
              "      background-color: #3B4455;\n",
              "      fill: #D2E3FC;\n",
              "    }\n",
              "\n",
              "    [theme=dark] .colab-df-convert:hover {\n",
              "      background-color: #434B5C;\n",
              "      box-shadow: 0px 1px 3px 1px rgba(0, 0, 0, 0.15);\n",
              "      filter: drop-shadow(0px 1px 2px rgba(0, 0, 0, 0.3));\n",
              "      fill: #FFFFFF;\n",
              "    }\n",
              "  </style>\n",
              "\n",
              "      <script>\n",
              "        const buttonEl =\n",
              "          document.querySelector('#df-0d57ac8a-8fd7-4922-be6b-0b28822f9865 button.colab-df-convert');\n",
              "        buttonEl.style.display =\n",
              "          google.colab.kernel.accessAllowed ? 'block' : 'none';\n",
              "\n",
              "        async function convertToInteractive(key) {\n",
              "          const element = document.querySelector('#df-0d57ac8a-8fd7-4922-be6b-0b28822f9865');\n",
              "          const dataTable =\n",
              "            await google.colab.kernel.invokeFunction('convertToInteractive',\n",
              "                                                     [key], {});\n",
              "          if (!dataTable) return;\n",
              "\n",
              "          const docLinkHtml = 'Like what you see? Visit the ' +\n",
              "            '<a target=\"_blank\" href=https://colab.research.google.com/notebooks/data_table.ipynb>data table notebook</a>'\n",
              "            + ' to learn more about interactive tables.';\n",
              "          element.innerHTML = '';\n",
              "          dataTable['output_type'] = 'display_data';\n",
              "          await google.colab.output.renderOutput(dataTable, element);\n",
              "          const docLink = document.createElement('div');\n",
              "          docLink.innerHTML = docLinkHtml;\n",
              "          element.appendChild(docLink);\n",
              "        }\n",
              "      </script>\n",
              "    </div>\n",
              "  </div>\n",
              "  "
            ]
          },
          "metadata": {},
          "execution_count": 2
        }
      ]
    },
    {
      "cell_type": "code",
      "source": [
        "dataset_ts.plot()\n",
        "plt.show()"
      ],
      "metadata": {
        "colab": {
          "base_uri": "https://localhost:8080/",
          "height": 430
        },
        "id": "3mmNAOYZclqs",
        "outputId": "25b83f0f-2202-45db-f64e-bda221f70d99"
      },
      "execution_count": null,
      "outputs": [
        {
          "output_type": "display_data",
          "data": {
            "text/plain": [
              "<Figure size 640x480 with 1 Axes>"
            ],
            "image/png": "[encoded data removed]"
          },
          "metadata": {}
        }
      ]
    },
    {
      "cell_type": "code",
      "metadata": {
        "colab": {
          "base_uri": "https://localhost:8080/"
        },
        "id": "czE6Ogy7q1wJ",
        "outputId": "4a096890-275c-4404-d0a4-1ba4cd4c473f"
      },
      "source": [
        "dataset_ts.shape"
      ],
      "execution_count": null,
      "outputs": [
        {
          "output_type": "execute_result",
          "data": {
            "text/plain": [
              "(476, 2)"
            ]
          },
          "metadata": {},
          "execution_count": 4
        }
      ]
    },
    {
      "cell_type": "code",
      "metadata": {
        "scrolled": true,
        "colab": {
          "base_uri": "https://localhost:8080/"
        },
        "id": "lLYqHgfrq1wK",
        "outputId": "72baa210-a1d1-45cc-ba62-63b0fdac7b80"
      },
      "source": [
        "dataset_train = dataset_ts.iloc[:450,:]\n",
        "dataset_train.shape"
      ],
      "execution_count": null,
      "outputs": [
        {
          "output_type": "execute_result",
          "data": {
            "text/plain": [
              "(450, 2)"
            ]
          },
          "metadata": {},
          "execution_count": 5
        }
      ]
    },
    {
      "cell_type": "code",
      "metadata": {
        "colab": {
          "base_uri": "https://localhost:8080/"
        },
        "id": "yMJAYV4aq1wL",
        "outputId": "e25847f1-971b-4f6d-bab7-a619416f3ee9"
      },
      "source": [
        "training_set = dataset_train.iloc[:, 1].values\n",
        "training_set[:5]"
      ],
      "execution_count": null,
      "outputs": [
        {
          "output_type": "execute_result",
          "data": {
            "text/plain": [
              "array([1709, 1646, 1794, 1878, 2173])"
            ]
          },
          "metadata": {},
          "execution_count": 6
        }
      ]
    },
    {
      "cell_type": "code",
      "metadata": {
        "colab": {
          "base_uri": "https://localhost:8080/"
        },
        "id": "yQuYNKbss6eS",
        "outputId": "6ce33823-47a6-48f5-8b5d-1a482e207deb"
      },
      "source": [
        "training_set.shape"
      ],
      "execution_count": null,
      "outputs": [
        {
          "output_type": "execute_result",
          "data": {
            "text/plain": [
              "(450,)"
            ]
          },
          "metadata": {},
          "execution_count": 7
        }
      ]
    },
    {
      "cell_type": "markdown",
      "metadata": {
        "id": "f4q4mZO4q1wN"
      },
      "source": [
        "Feature Scaling"
      ]
    },
    {
      "cell_type": "code",
      "metadata": {
        "id": "Zoej09RLq1wP"
      },
      "source": [
        "training_set = training_set.reshape(-1,1)\n",
        "from sklearn.preprocessing import MinMaxScaler\n",
        "sc = MinMaxScaler()\n",
        "training_set_scaled = sc.fit_transform(training_set)"
      ],
      "execution_count": null,
      "outputs": []
    },
    {
      "cell_type": "code",
      "metadata": {
        "colab": {
          "base_uri": "https://localhost:8080/"
        },
        "id": "HGjFUHh_q1wV",
        "outputId": "2bcff1ca-249e-4216-94ca-7161476784ba"
      },
      "source": [
        "training_set_scaled[:5]"
      ],
      "execution_count": null,
      "outputs": [
        {
          "output_type": "execute_result",
          "data": {
            "text/plain": [
              "array([[0.00103697],\n",
              "       [0.        ],\n",
              "       [0.00243605],\n",
              "       [0.00381868],\n",
              "       [0.00867433]])"
            ]
          },
          "metadata": {},
          "execution_count": 9
        }
      ]
    },
    {
      "cell_type": "markdown",
      "metadata": {
        "id": "dvArwWKNq1wZ"
      },
      "source": [
        "Creating a data structure with timesteps and 1 output"
      ]
    },
    {
      "cell_type": "code",
      "metadata": {
        "id": "4d4_UTSFq1wa",
        "colab": {
          "base_uri": "https://localhost:8080/"
        },
        "outputId": "2900d69e-9b60-4ef8-f906-98c8ea06ead4"
      },
      "source": [
        "timesteps=10\n",
        "trn_size = dataset_train.shape[0]\n",
        "trn_size"
      ],
      "execution_count": null,
      "outputs": [
        {
          "output_type": "execute_result",
          "data": {
            "text/plain": [
              "450"
            ]
          },
          "metadata": {},
          "execution_count": 10
        }
      ]
    },
    {
      "cell_type": "code",
      "metadata": {
        "id": "UmhBADDtq1wb"
      },
      "source": [
        "X_train = []\n",
        "y_train = []\n",
        "for i in range(timesteps, trn_size):\n",
        "    X_train.append(training_set_scaled[i-timesteps:i, 0])\n",
        "    y_train.append(training_set_scaled[i, 0])\n",
        "X_train, y_train = np.array(X_train), np.array(y_train)\n"
      ],
      "execution_count": null,
      "outputs": []
    },
    {
      "cell_type": "code",
      "metadata": {
        "colab": {
          "base_uri": "https://localhost:8080/"
        },
        "id": "dcaYzdbcq1wc",
        "outputId": "1f46ade6-bbff-4953-c928-be8b296297b7"
      },
      "source": [
        "X_train.shape"
      ],
      "execution_count": null,
      "outputs": [
        {
          "output_type": "execute_result",
          "data": {
            "text/plain": [
              "(440, 10)"
            ]
          },
          "metadata": {},
          "execution_count": 12
        }
      ]
    },
    {
      "cell_type": "code",
      "metadata": {
        "colab": {
          "base_uri": "https://localhost:8080/"
        },
        "id": "eIzTVa1dq1we",
        "outputId": "0cb560f9-4318-4e5a-d9b3-025e2f7e9ba3"
      },
      "source": [
        "X_train[:1]"
      ],
      "execution_count": null,
      "outputs": [
        {
          "output_type": "execute_result",
          "data": {
            "text/plain": [
              "array([[0.00103697, 0.        , 0.00243605, 0.00381868, 0.00867433,\n",
              "        0.01111038, 0.01352997, 0.01267406, 0.00885538, 0.00781842]])"
            ]
          },
          "metadata": {},
          "execution_count": 13
        }
      ]
    },
    {
      "cell_type": "code",
      "metadata": {
        "colab": {
          "base_uri": "https://localhost:8080/"
        },
        "id": "VpR06vgjq1wf",
        "outputId": "9d33e91a-89fe-4a3b-a7e5-bba82036fa46"
      },
      "source": [
        "y_train[:5]"
      ],
      "execution_count": null,
      "outputs": [
        {
          "output_type": "execute_result",
          "data": {
            "text/plain": [
              "array([0.0052013 , 0.00294631, 0.00172828, 0.00069131, 0.00450999])"
            ]
          },
          "metadata": {},
          "execution_count": 14
        }
      ]
    },
    {
      "cell_type": "code",
      "metadata": {
        "id": "Noogqqt-q1wf",
        "colab": {
          "base_uri": "https://localhost:8080/"
        },
        "outputId": "47981bf9-b228-4987-989c-faaf6e02417a"
      },
      "source": [
        "# Reshaping\n",
        "X_train = np.reshape(X_train, (X_train.shape[0], X_train.shape[1], 1))\n",
        "X_train.shape"
      ],
      "execution_count": null,
      "outputs": [
        {
          "output_type": "execute_result",
          "data": {
            "text/plain": [
              "(440, 10, 1)"
            ]
          },
          "metadata": {},
          "execution_count": 15
        }
      ]
    },
    {
      "cell_type": "markdown",
      "metadata": {
        "id": "SfCsHTW5q1wh"
      },
      "source": [
        "Part 2 - Building the RNN"
      ]
    },
    {
      "cell_type": "code",
      "metadata": {
        "id": "Ac1Hh7Hbq1wh"
      },
      "source": [
        "import tensorflow as tf\n",
        "from tensorflow import keras"
      ],
      "execution_count": null,
      "outputs": []
    },
    {
      "cell_type": "code",
      "metadata": {
        "colab": {
          "base_uri": "https://localhost:8080/"
        },
        "id": "J1WDhbA-q1wj",
        "outputId": "78fd9367-b45a-4b49-b9ab-b7bad7d43711"
      },
      "source": [
        "(X_train.shape[1],X_train.shape[2])"
      ],
      "execution_count": null,
      "outputs": [
        {
          "output_type": "execute_result",
          "data": {
            "text/plain": [
              "(10, 1)"
            ]
          },
          "metadata": {},
          "execution_count": 17
        }
      ]
    },
    {
      "cell_type": "markdown",
      "metadata": {
        "id": "5TkDKiPzq1wj"
      },
      "source": [
        "Initialising the RNN"
      ]
    },
    {
      "cell_type": "code",
      "source": [
        "tf.random.set_seed(seed=2023)\n",
        "model = keras.Sequential([\n",
        "   tf.keras.layers.LSTM(units=100,return_sequences = True,\n",
        "                            input_shape= (X_train.shape[1],X_train.shape[2]) ),\n",
        "   tf.keras.layers.LSTM(units=70,return_sequences = True ) ,\n",
        "   tf.keras.layers.LSTM(units=50 ) ,\n",
        "   tf.keras.layers.Dense(1)\n",
        "])\n",
        "model.compile(optimizer = 'adam', loss = 'mean_squared_error')"
      ],
      "metadata": {
        "id": "XMFWbHoffEWA"
      },
      "execution_count": null,
      "outputs": []
    },
    {
      "cell_type": "markdown",
      "source": [
        "(Old Syntax) <br>\n",
        "model.add(keras.layers.LSTM(units=100,return_sequences = True,\n",
        "                            input_shape= (X_train.shape[1],X_train.shape[2]) ))\n",
        "model.add(keras.layers.LSTM(units=70,return_sequences = True ))\n",
        "model.add(keras.layers.LSTM(units=50 ))\n",
        "\n",
        "model.add(keras.layers.Dense(1))\n",
        "\n",
        "model.compile(optimizer = 'adam', loss = 'mean_squared_error')"
      ],
      "metadata": {
        "id": "3tE1xePWfayy"
      }
    },
    {
      "cell_type": "code",
      "metadata": {
        "colab": {
          "base_uri": "https://localhost:8080/"
        },
        "id": "_-dzmh7_q1wl",
        "outputId": "fa32ddc4-da76-460f-d091-15a846f3f38c"
      },
      "source": [
        "model.summary()"
      ],
      "execution_count": null,
      "outputs": [
        {
          "output_type": "stream",
          "name": "stdout",
          "text": [
            "Model: \"sequential\"\n",
            "_________________________________________________________________\n",
            " Layer (type)                Output Shape              Param #   \n",
            "=================================================================\n",
            " lstm (LSTM)                 (None, 10, 100)           40800     \n",
            "                                                                 \n",
            " lstm_1 (LSTM)               (None, 10, 70)            47880     \n",
            "                                                                 \n",
            " lstm_2 (LSTM)               (None, 50)                24200     \n",
            "                                                                 \n",
            " dense (Dense)               (None, 1)                 51        \n",
            "                                                                 \n",
            "=================================================================\n",
            "Total params: 112,931\n",
            "Trainable params: 112,931\n",
            "Non-trainable params: 0\n",
            "_________________________________________________________________\n"
          ]
        }
      ]
    },
    {
      "cell_type": "markdown",
      "metadata": {
        "id": "Mvols4Ycq1wm"
      },
      "source": [
        "Fitting the RNN to the Training set"
      ]
    },
    {
      "cell_type": "code",
      "metadata": {
        "id": "5lw0wxMEq1wp",
        "colab": {
          "base_uri": "https://localhost:8080/"
        },
        "outputId": "ef1ba194-91f6-4826-e1ff-0594436fe41f"
      },
      "source": [
        "model.fit(X_train, y_train, epochs = 50, batch_size = 25)"
      ],
      "execution_count": null,
      "outputs": [
        {
          "output_type": "stream",
          "name": "stdout",
          "text": [
            "Epoch 1/50\n",
            "18/18 [==============================] - 11s 9ms/step - loss: 0.0573\n",
            "Epoch 2/50\n",
            "18/18 [==============================] - 0s 8ms/step - loss: 0.0116\n",
            "Epoch 3/50\n",
            "18/18 [==============================] - 0s 9ms/step - loss: 0.0081\n",
            "Epoch 4/50\n",
            "18/18 [==============================] - 0s 8ms/step - loss: 0.0080\n",
            "Epoch 5/50\n",
            "18/18 [==============================] - 0s 9ms/step - loss: 0.0078\n",
            "Epoch 6/50\n",
            "18/18 [==============================] - 0s 8ms/step - loss: 0.0075\n",
            "Epoch 7/50\n",
            "18/18 [==============================] - 0s 9ms/step - loss: 0.0071\n",
            "Epoch 8/50\n",
            "18/18 [==============================] - 0s 8ms/step - loss: 0.0074\n",
            "Epoch 9/50\n",
            "18/18 [==============================] - 0s 8ms/step - loss: 0.0074\n",
            "Epoch 10/50\n",
            "18/18 [==============================] - 0s 8ms/step - loss: 0.0070\n",
            "Epoch 11/50\n",
            "18/18 [==============================] - 0s 9ms/step - loss: 0.0070\n",
            "Epoch 12/50\n",
            "18/18 [==============================] - 0s 8ms/step - loss: 0.0075\n",
            "Epoch 13/50\n",
            "18/18 [==============================] - 0s 9ms/step - loss: 0.0075\n",
            "Epoch 14/50\n",
            "18/18 [==============================] - 0s 8ms/step - loss: 0.0072\n",
            "Epoch 15/50\n",
            "18/18 [==============================] - 0s 9ms/step - loss: 0.0072\n",
            "Epoch 16/50\n",
            "18/18 [==============================] - 0s 9ms/step - loss: 0.0071\n",
            "Epoch 17/50\n",
            "18/18 [==============================] - 0s 9ms/step - loss: 0.0068\n",
            "Epoch 18/50\n",
            "18/18 [==============================] - 0s 9ms/step - loss: 0.0075\n",
            "Epoch 19/50\n",
            "18/18 [==============================] - 0s 9ms/step - loss: 0.0081\n",
            "Epoch 20/50\n",
            "18/18 [==============================] - 0s 8ms/step - loss: 0.0072\n",
            "Epoch 21/50\n",
            "18/18 [==============================] - 0s 9ms/step - loss: 0.0070\n",
            "Epoch 22/50\n",
            "18/18 [==============================] - 0s 10ms/step - loss: 0.0068\n",
            "Epoch 23/50\n",
            "18/18 [==============================] - 0s 9ms/step - loss: 0.0086\n",
            "Epoch 24/50\n",
            "18/18 [==============================] - 0s 8ms/step - loss: 0.0072\n",
            "Epoch 25/50\n",
            "18/18 [==============================] - 0s 9ms/step - loss: 0.0065\n",
            "Epoch 26/50\n",
            "18/18 [==============================] - 0s 9ms/step - loss: 0.0065\n",
            "Epoch 27/50\n",
            "18/18 [==============================] - 0s 8ms/step - loss: 0.0060\n",
            "Epoch 28/50\n",
            "18/18 [==============================] - 0s 10ms/step - loss: 0.0061\n",
            "Epoch 29/50\n",
            "18/18 [==============================] - 0s 9ms/step - loss: 0.0051\n",
            "Epoch 30/50\n",
            "18/18 [==============================] - 0s 9ms/step - loss: 0.0072\n",
            "Epoch 31/50\n",
            "18/18 [==============================] - 0s 8ms/step - loss: 0.0051\n",
            "Epoch 32/50\n",
            "18/18 [==============================] - 0s 9ms/step - loss: 0.0040\n",
            "Epoch 33/50\n",
            "18/18 [==============================] - 0s 8ms/step - loss: 0.0036\n",
            "Epoch 34/50\n",
            "18/18 [==============================] - 0s 9ms/step - loss: 0.0029\n",
            "Epoch 35/50\n",
            "18/18 [==============================] - 0s 9ms/step - loss: 0.0023\n",
            "Epoch 36/50\n",
            "18/18 [==============================] - 0s 10ms/step - loss: 0.0020\n",
            "Epoch 37/50\n",
            "18/18 [==============================] - 0s 13ms/step - loss: 0.0017\n",
            "Epoch 38/50\n",
            "18/18 [==============================] - 0s 12ms/step - loss: 0.0017\n",
            "Epoch 39/50\n",
            "18/18 [==============================] - 0s 16ms/step - loss: 0.0015\n",
            "Epoch 40/50\n",
            "18/18 [==============================] - 0s 17ms/step - loss: 0.0015\n",
            "Epoch 41/50\n",
            "18/18 [==============================] - 0s 21ms/step - loss: 0.0021\n",
            "Epoch 42/50\n",
            "18/18 [==============================] - 0s 22ms/step - loss: 0.0020\n",
            "Epoch 43/50\n",
            "18/18 [==============================] - 0s 14ms/step - loss: 0.0015\n",
            "Epoch 44/50\n",
            "18/18 [==============================] - 0s 13ms/step - loss: 0.0015\n",
            "Epoch 45/50\n",
            "18/18 [==============================] - 0s 13ms/step - loss: 0.0013\n",
            "Epoch 46/50\n",
            "18/18 [==============================] - 0s 13ms/step - loss: 0.0012\n",
            "Epoch 47/50\n",
            "18/18 [==============================] - 0s 13ms/step - loss: 0.0012\n",
            "Epoch 48/50\n",
            "18/18 [==============================] - 0s 12ms/step - loss: 0.0011\n",
            "Epoch 49/50\n",
            "18/18 [==============================] - 0s 13ms/step - loss: 0.0015\n",
            "Epoch 50/50\n",
            "18/18 [==============================] - 0s 13ms/step - loss: 0.0013\n"
          ]
        },
        {
          "output_type": "execute_result",
          "data": {
            "text/plain": [
              "<keras.callbacks.History at 0x7fa3e095bee0>"
            ]
          },
          "metadata": {},
          "execution_count": 20
        }
      ]
    },
    {
      "cell_type": "markdown",
      "metadata": {
        "id": "L2U9Qh3Wq1wq"
      },
      "source": [
        "Part 3 - Making the predictions and visualising the results"
      ]
    },
    {
      "cell_type": "code",
      "metadata": {
        "colab": {
          "base_uri": "https://localhost:8080/"
        },
        "id": "u5-tDyf8q1wq",
        "outputId": "78302a1e-d898-49be-c0d1-6dbb49a0a842"
      },
      "source": [
        "dataset_test = dataset_ts.iloc[450:,:]\n",
        "test_set = dataset_test.iloc[:, 1].values\n",
        "test_set.shape"
      ],
      "execution_count": null,
      "outputs": [
        {
          "output_type": "execute_result",
          "data": {
            "text/plain": [
              "(26,)"
            ]
          },
          "metadata": {},
          "execution_count": 21
        }
      ]
    },
    {
      "cell_type": "code",
      "metadata": {
        "colab": {
          "base_uri": "https://localhost:8080/"
        },
        "id": "N-jZoCTHq1wr",
        "outputId": "179fc1d5-a667-4717-dc5c-bedce8933d3c"
      },
      "source": [
        "dataset_total = pd.concat((dataset_train['GasProd'], dataset_test['GasProd']), axis = 0)\n",
        "dataset_total"
      ],
      "execution_count": null,
      "outputs": [
        {
          "output_type": "execute_result",
          "data": {
            "text/plain": [
              "0       1709\n",
              "1       1646\n",
              "2       1794\n",
              "3       1878\n",
              "4       2173\n",
              "       ...  \n",
              "471    49013\n",
              "472    56624\n",
              "473    61739\n",
              "474    66600\n",
              "475    60054\n",
              "Name: GasProd, Length: 476, dtype: int64"
            ]
          },
          "metadata": {},
          "execution_count": 22
        }
      ]
    },
    {
      "cell_type": "code",
      "metadata": {
        "colab": {
          "base_uri": "https://localhost:8080/"
        },
        "id": "oERBaeI4q1ws",
        "outputId": "2ea56d88-d9d6-42ee-e044-610433145c39"
      },
      "source": [
        "inputs = dataset_total[len(dataset_total) - len(dataset_test) - timesteps:].values\n",
        "inputs = inputs.reshape(-1,1)\n",
        "len(inputs)"
      ],
      "execution_count": null,
      "outputs": [
        {
          "output_type": "execute_result",
          "data": {
            "text/plain": [
              "36"
            ]
          },
          "metadata": {},
          "execution_count": 24
        }
      ]
    },
    {
      "cell_type": "code",
      "metadata": {
        "colab": {
          "base_uri": "https://localhost:8080/"
        },
        "id": "iQIBVGzCq1ws",
        "outputId": "70adb2fb-065e-4f43-90ae-895518c7c84b"
      },
      "source": [
        "inputs = sc.transform(inputs)\n",
        "X_test = []\n",
        "for i in range(timesteps, len(inputs)):\n",
        "    X_test.append(inputs[i-timesteps:i, 0])\n",
        "X_test = np.array(X_test)\n",
        "X_test = np.reshape(X_test, (X_test.shape[0], X_test.shape[1], 1))\n",
        "X_test.shape"
      ],
      "execution_count": null,
      "outputs": [
        {
          "output_type": "execute_result",
          "data": {
            "text/plain": [
              "(26, 10, 1)"
            ]
          },
          "metadata": {},
          "execution_count": 25
        }
      ]
    },
    {
      "cell_type": "code",
      "metadata": {
        "id": "kzMib6Mqq1wt",
        "colab": {
          "base_uri": "https://localhost:8080/"
        },
        "outputId": "470195e7-160b-4a56-ce51-fee9b9841c58"
      },
      "source": [
        "predicted_values = model.predict(X_test)\n",
        "predicted_values"
      ],
      "execution_count": null,
      "outputs": [
        {
          "output_type": "stream",
          "name": "stdout",
          "text": [
            "1/1 [==============================] - 1s 1s/step\n"
          ]
        },
        {
          "output_type": "execute_result",
          "data": {
            "text/plain": [
              "array([[0.99266976],\n",
              "       [0.96462727],\n",
              "       [0.8501859 ],\n",
              "       [0.7306495 ],\n",
              "       [0.6521602 ],\n",
              "       [0.62973505],\n",
              "       [0.6314356 ],\n",
              "       [0.6515301 ],\n",
              "       [0.67523104],\n",
              "       [0.76071775],\n",
              "       [0.8200396 ],\n",
              "       [0.90750706],\n",
              "       [0.95285267],\n",
              "       [0.96341205],\n",
              "       [0.9386886 ],\n",
              "       [0.8450479 ],\n",
              "       [0.7534733 ],\n",
              "       [0.71342736],\n",
              "       [0.63285416],\n",
              "       [0.6196579 ],\n",
              "       [0.6581185 ],\n",
              "       [0.75613946],\n",
              "       [0.87617195],\n",
              "       [0.99361813],\n",
              "       [1.0387359 ],\n",
              "       [1.0313708 ]], dtype=float32)"
            ]
          },
          "metadata": {},
          "execution_count": 26
        }
      ]
    },
    {
      "cell_type": "code",
      "metadata": {
        "id": "P9b3IwiAq1wt",
        "colab": {
          "base_uri": "https://localhost:8080/"
        },
        "outputId": "c587d9be-a44b-4a84-a520-8eaccc0c00e8"
      },
      "source": [
        "predicted_values.shape"
      ],
      "execution_count": null,
      "outputs": [
        {
          "output_type": "execute_result",
          "data": {
            "text/plain": [
              "(26, 1)"
            ]
          },
          "metadata": {},
          "execution_count": 27
        }
      ]
    },
    {
      "cell_type": "code",
      "metadata": {
        "id": "NRkoTwQqq1wu",
        "colab": {
          "base_uri": "https://localhost:8080/"
        },
        "outputId": "8feac2d8-1845-41f7-d422-d27719c25deb"
      },
      "source": [
        "predicted_values = sc.inverse_transform(predicted_values)\n",
        "predicted_values"
      ],
      "execution_count": null,
      "outputs": [
        {
          "output_type": "execute_result",
          "data": {
            "text/plain": [
              "array([[61954.66 ],\n",
              "       [60250.965],\n",
              "       [53298.19 ],\n",
              "       [46035.88 ],\n",
              "       [41267.344],\n",
              "       [39904.926],\n",
              "       [40008.24 ],\n",
              "       [41229.06 ],\n",
              "       [42668.99 ],\n",
              "       [47862.65 ],\n",
              "       [51466.684],\n",
              "       [56780.684],\n",
              "       [59535.613],\n",
              "       [60177.137],\n",
              "       [58675.086],\n",
              "       [52986.04 ],\n",
              "       [47422.516],\n",
              "       [44989.566],\n",
              "       [40094.42 ],\n",
              "       [39292.695],\n",
              "       [41629.332],\n",
              "       [47584.496],\n",
              "       [54876.95 ],\n",
              "       [62012.273],\n",
              "       [64753.355],\n",
              "       [64305.895]], dtype=float32)"
            ]
          },
          "metadata": {},
          "execution_count": 28
        }
      ]
    },
    {
      "cell_type": "markdown",
      "metadata": {
        "id": "SLYUimjmq1wu"
      },
      "source": [
        "Visualising the results"
      ]
    },
    {
      "cell_type": "code",
      "metadata": {
        "colab": {
          "base_uri": "https://localhost:8080/",
          "height": 472
        },
        "id": "yXO1gomDq1wv",
        "outputId": "f7297b24-88e6-4509-a56a-6c10da9329ab"
      },
      "source": [
        "plt.plot(test_set, color = 'red', label = 'Real Gas Production')\n",
        "plt.plot(predicted_values, color = 'blue', label = 'Predicted Gas Production')\n",
        "plt.title('Gas Production Prediction')\n",
        "plt.xlabel('Time')\n",
        "plt.ylabel('Gas Production')\n",
        "plt.legend()\n",
        "plt.show()"
      ],
      "execution_count": null,
      "outputs": [
        {
          "output_type": "display_data",
          "data": {
            "text/plain": [
              "<Figure size 640x480 with 1 Axes>"
            ],
            "image/png": "[encoded data removed]"
          },
          "metadata": {}
        }
      ]
    },
    {
      "cell_type": "markdown",
      "metadata": {
        "id": "pB6tA_bDq1wv"
      },
      "source": [
        "Root Mean Square Error"
      ]
    },
    {
      "cell_type": "code",
      "metadata": {
        "colab": {
          "base_uri": "https://localhost:8080/"
        },
        "id": "46PFYCRtq1ww",
        "outputId": "87e70a61-27a3-41e8-b1d6-cd15a0283388"
      },
      "source": [
        "print(np.sqrt(mean_squared_error(predicted_values,test_set)))"
      ],
      "execution_count": null,
      "outputs": [
        {
          "output_type": "stream",
          "name": "stdout",
          "text": [
            "3227.4826721077197\n"
          ]
        }
      ]
    },
    {
      "cell_type": "code",
      "metadata": {
        "id": "AUciEeruq1ww"
      },
      "source": [],
      "execution_count": null,
      "outputs": []
    }
  ]
}