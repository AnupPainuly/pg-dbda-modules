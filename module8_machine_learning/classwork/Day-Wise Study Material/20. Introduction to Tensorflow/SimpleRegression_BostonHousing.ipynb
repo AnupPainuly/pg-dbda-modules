{
  "nbformat": 4,
  "nbformat_minor": 0,
  "metadata": {
    "kernelspec": {
      "display_name": "Python 3",
      "language": "python",
      "name": "python3"
    },
    "language_info": {
      "codemirror_mode": {
        "name": "ipython",
        "version": 3
      },
      "file_extension": ".py",
      "mimetype": "text/x-python",
      "name": "python",
      "nbconvert_exporter": "python",
      "pygments_lexer": "ipython3",
      "version": "3.6.10"
    },
    "colab": {
      "provenance": []
    },
    "accelerator": "GPU"
  },
  "cells": [
    {
      "cell_type": "markdown",
      "metadata": {
        "id": "6mIXTOOkCvIU"
      },
      "source": [
        "#  2. Keras for Simple Regression"
      ]
    },
    {
      "cell_type": "markdown",
      "metadata": {
        "id": "9bphwAXZCvIw"
      },
      "source": [
        "This notebook demonstrates the use of keras functions for simple regression problem, *Boston Housing*. The Boston Housing Dataset is a derived from information collected by the U.S. Census Service concerning housing in the area of Boston MA."
      ]
    },
    {
      "cell_type": "markdown",
      "metadata": {
        "id": "yD9qxXaTCvIz"
      },
      "source": [
        "Necessary Imports"
      ]
    },
    {
      "cell_type": "code",
      "metadata": {
        "colab": {
          "base_uri": "https://localhost:8080/"
        },
        "id": "4VC4FSZWDiwZ",
        "outputId": "3911b385-05e0-4de0-8b2b-dd57a4be098d"
      },
      "source": [
        "from google.colab import drive\n",
        "drive.mount('/content/drive')"
      ],
      "execution_count": null,
      "outputs": [
        {
          "output_type": "stream",
          "name": "stdout",
          "text": [
            "Mounted at /content/drive\n"
          ]
        }
      ]
    },
    {
      "cell_type": "code",
      "metadata": {
        "id": "Gx6ECF8lCvI0"
      },
      "source": [
        "import pandas as pd\n",
        "import tensorflow as tf\n",
        "import numpy as np\n",
        "import datetime"
      ],
      "execution_count": null,
      "outputs": []
    },
    {
      "cell_type": "markdown",
      "metadata": {
        "id": "Z47Yx5FHCvI1"
      },
      "source": [
        "Importing the file into **pandas** dataframe"
      ]
    },
    {
      "cell_type": "code",
      "metadata": {
        "colab": {
          "base_uri": "https://localhost:8080/",
          "height": 206
        },
        "id": "Li79eQSUCvI2",
        "outputId": "538f710b-96b4-410f-c506-24b0d5069c58"
      },
      "source": [
        "df = pd.read_csv(\"/content/drive/MyDrive/Datasets/Boston.csv\")\n",
        "df.head()"
      ],
      "execution_count": null,
      "outputs": [
        {
          "output_type": "execute_result",
          "data": {
            "text/plain": [
              "      crim    zn  indus  chas    nox     rm   age     dis  rad  tax  ptratio  \\\n",
              "0  0.00632  18.0   2.31     0  0.538  6.575  65.2  4.0900    1  296     15.3   \n",
              "1  0.02731   0.0   7.07     0  0.469  6.421  78.9  4.9671    2  242     17.8   \n",
              "2  0.02729   0.0   7.07     0  0.469  7.185  61.1  4.9671    2  242     17.8   \n",
              "3  0.03237   0.0   2.18     0  0.458  6.998  45.8  6.0622    3  222     18.7   \n",
              "4  0.06905   0.0   2.18     0  0.458  7.147  54.2  6.0622    3  222     18.7   \n",
              "\n",
              "    black  lstat  medv  \n",
              "0  396.90   4.98  24.0  \n",
              "1  396.90   9.14  21.6  \n",
              "2  392.83   4.03  34.7  \n",
              "3  394.63   2.94  33.4  \n",
              "4  396.90   5.33  36.2  "
            ],
            "text/html": [
              "\n",
              "  <div id=\"df-4460ff4d-6a15-481a-92d6-a4799242068f\">\n",
              "    <div class=\"colab-df-container\">\n",
              "      <div>\n",
              "<style scoped>\n",
              "    .dataframe tbody tr th:only-of-type {\n",
              "        vertical-align: middle;\n",
              "    }\n",
              "\n",
              "    .dataframe tbody tr th {\n",
              "        vertical-align: top;\n",
              "    }\n",
              "\n",
              "    .dataframe thead th {\n",
              "        text-align: right;\n",
              "    }\n",
              "</style>\n",
              "<table border=\"1\" class=\"dataframe\">\n",
              "  <thead>\n",
              "    <tr style=\"text-align: right;\">\n",
              "      <th></th>\n",
              "      <th>crim</th>\n",
              "      <th>zn</th>\n",
              "      <th>indus</th>\n",
              "      <th>chas</th>\n",
              "      <th>nox</th>\n",
              "      <th>rm</th>\n",
              "      <th>age</th>\n",
              "      <th>dis</th>\n",
              "      <th>rad</th>\n",
              "      <th>tax</th>\n",
              "      <th>ptratio</th>\n",
              "      <th>black</th>\n",
              "      <th>lstat</th>\n",
              "      <th>medv</th>\n",
              "    </tr>\n",
              "  </thead>\n",
              "  <tbody>\n",
              "    <tr>\n",
              "      <th>0</th>\n",
              "      <td>0.00632</td>\n",
              "      <td>18.0</td>\n",
              "      <td>2.31</td>\n",
              "      <td>0</td>\n",
              "      <td>0.538</td>\n",
              "      <td>6.575</td>\n",
              "      <td>65.2</td>\n",
              "      <td>4.0900</td>\n",
              "      <td>1</td>\n",
              "      <td>296</td>\n",
              "      <td>15.3</td>\n",
              "      <td>396.90</td>\n",
              "      <td>4.98</td>\n",
              "      <td>24.0</td>\n",
              "    </tr>\n",
              "    <tr>\n",
              "      <th>1</th>\n",
              "      <td>0.02731</td>\n",
              "      <td>0.0</td>\n",
              "      <td>7.07</td>\n",
              "      <td>0</td>\n",
              "      <td>0.469</td>\n",
              "      <td>6.421</td>\n",
              "      <td>78.9</td>\n",
              "      <td>4.9671</td>\n",
              "      <td>2</td>\n",
              "      <td>242</td>\n",
              "      <td>17.8</td>\n",
              "      <td>396.90</td>\n",
              "      <td>9.14</td>\n",
              "      <td>21.6</td>\n",
              "    </tr>\n",
              "    <tr>\n",
              "      <th>2</th>\n",
              "      <td>0.02729</td>\n",
              "      <td>0.0</td>\n",
              "      <td>7.07</td>\n",
              "      <td>0</td>\n",
              "      <td>0.469</td>\n",
              "      <td>7.185</td>\n",
              "      <td>61.1</td>\n",
              "      <td>4.9671</td>\n",
              "      <td>2</td>\n",
              "      <td>242</td>\n",
              "      <td>17.8</td>\n",
              "      <td>392.83</td>\n",
              "      <td>4.03</td>\n",
              "      <td>34.7</td>\n",
              "    </tr>\n",
              "    <tr>\n",
              "      <th>3</th>\n",
              "      <td>0.03237</td>\n",
              "      <td>0.0</td>\n",
              "      <td>2.18</td>\n",
              "      <td>0</td>\n",
              "      <td>0.458</td>\n",
              "      <td>6.998</td>\n",
              "      <td>45.8</td>\n",
              "      <td>6.0622</td>\n",
              "      <td>3</td>\n",
              "      <td>222</td>\n",
              "      <td>18.7</td>\n",
              "      <td>394.63</td>\n",
              "      <td>2.94</td>\n",
              "      <td>33.4</td>\n",
              "    </tr>\n",
              "    <tr>\n",
              "      <th>4</th>\n",
              "      <td>0.06905</td>\n",
              "      <td>0.0</td>\n",
              "      <td>2.18</td>\n",
              "      <td>0</td>\n",
              "      <td>0.458</td>\n",
              "      <td>7.147</td>\n",
              "      <td>54.2</td>\n",
              "      <td>6.0622</td>\n",
              "      <td>3</td>\n",
              "      <td>222</td>\n",
              "      <td>18.7</td>\n",
              "      <td>396.90</td>\n",
              "      <td>5.33</td>\n",
              "      <td>36.2</td>\n",
              "    </tr>\n",
              "  </tbody>\n",
              "</table>\n",
              "</div>\n",
              "      <button class=\"colab-df-convert\" onclick=\"convertToInteractive('df-4460ff4d-6a15-481a-92d6-a4799242068f')\"\n",
              "              title=\"Convert this dataframe to an interactive table.\"\n",
              "              style=\"display:none;\">\n",
              "        \n",
              "  <svg xmlns=\"http://www.w3.org/2000/svg\" height=\"24px\"viewBox=\"0 0 24 24\"\n",
              "       width=\"24px\">\n",
              "    <path d=\"M0 0h24v24H0V0z\" fill=\"none\"/>\n",
              "    <path d=\"M18.56 5.44l.94 2.06.94-2.06 2.06-.94-2.06-.94-.94-2.06-.94 2.06-2.06.94zm-11 1L8.5 8.5l.94-2.06 2.06-.94-2.06-.94L8.5 2.5l-.94 2.06-2.06.94zm10 10l.94 2.06.94-2.06 2.06-.94-2.06-.94-.94-2.06-.94 2.06-2.06.94z\"/><path d=\"M17.41 7.96l-1.37-1.37c-.4-.4-.92-.59-1.43-.59-.52 0-1.04.2-1.43.59L10.3 9.45l-7.72 7.72c-.78.78-.78 2.05 0 2.83L4 21.41c.39.39.9.59 1.41.59.51 0 1.02-.2 1.41-.59l7.78-7.78 2.81-2.81c.8-.78.8-2.07 0-2.86zM5.41 20L4 18.59l7.72-7.72 1.47 1.35L5.41 20z\"/>\n",
              "  </svg>\n",
              "      </button>\n",
              "      \n",
              "  <style>\n",
              "    .colab-df-container {\n",
              "      display:flex;\n",
              "      flex-wrap:wrap;\n",
              "      gap: 12px;\n",
              "    }\n",
              "\n",
              "    .colab-df-convert {\n",
              "      background-color: #E8F0FE;\n",
              "      border: none;\n",
              "      border-radius: 50%;\n",
              "      cursor: pointer;\n",
              "      display: none;\n",
              "      fill: #1967D2;\n",
              "      height: 32px;\n",
              "      padding: 0 0 0 0;\n",
              "      width: 32px;\n",
              "    }\n",
              "\n",
              "    .colab-df-convert:hover {\n",
              "      background-color: #E2EBFA;\n",
              "      box-shadow: 0px 1px 2px rgba(60, 64, 67, 0.3), 0px 1px 3px 1px rgba(60, 64, 67, 0.15);\n",
              "      fill: #174EA6;\n",
              "    }\n",
              "\n",
              "    [theme=dark] .colab-df-convert {\n",
              "      background-color: #3B4455;\n",
              "      fill: #D2E3FC;\n",
              "    }\n",
              "\n",
              "    [theme=dark] .colab-df-convert:hover {\n",
              "      background-color: #434B5C;\n",
              "      box-shadow: 0px 1px 3px 1px rgba(0, 0, 0, 0.15);\n",
              "      filter: drop-shadow(0px 1px 2px rgba(0, 0, 0, 0.3));\n",
              "      fill: #FFFFFF;\n",
              "    }\n",
              "  </style>\n",
              "\n",
              "      <script>\n",
              "        const buttonEl =\n",
              "          document.querySelector('#df-4460ff4d-6a15-481a-92d6-a4799242068f button.colab-df-convert');\n",
              "        buttonEl.style.display =\n",
              "          google.colab.kernel.accessAllowed ? 'block' : 'none';\n",
              "\n",
              "        async function convertToInteractive(key) {\n",
              "          const element = document.querySelector('#df-4460ff4d-6a15-481a-92d6-a4799242068f');\n",
              "          const dataTable =\n",
              "            await google.colab.kernel.invokeFunction('convertToInteractive',\n",
              "                                                     [key], {});\n",
              "          if (!dataTable) return;\n",
              "\n",
              "          const docLinkHtml = 'Like what you see? Visit the ' +\n",
              "            '<a target=\"_blank\" href=https://colab.research.google.com/notebooks/data_table.ipynb>data table notebook</a>'\n",
              "            + ' to learn more about interactive tables.';\n",
              "          element.innerHTML = '';\n",
              "          dataTable['output_type'] = 'display_data';\n",
              "          await google.colab.output.renderOutput(dataTable, element);\n",
              "          const docLink = document.createElement('div');\n",
              "          docLink.innerHTML = docLinkHtml;\n",
              "          element.appendChild(docLink);\n",
              "        }\n",
              "      </script>\n",
              "    </div>\n",
              "  </div>\n",
              "  "
            ]
          },
          "metadata": {},
          "execution_count": 3
        }
      ]
    },
    {
      "cell_type": "markdown",
      "metadata": {
        "id": "bGQlDmKTCvI5"
      },
      "source": [
        "For the column **Boston** which is a response variable, the hot encoding / dummying needs to be done."
      ]
    },
    {
      "cell_type": "code",
      "metadata": {
        "colab": {
          "base_uri": "https://localhost:8080/"
        },
        "id": "7NCrgDZuCvI7",
        "outputId": "3a03e85c-093c-4d7d-b2e1-c569f9e66134"
      },
      "source": [
        "df.shape"
      ],
      "execution_count": null,
      "outputs": [
        {
          "output_type": "execute_result",
          "data": {
            "text/plain": [
              "(506, 14)"
            ]
          },
          "metadata": {},
          "execution_count": 4
        }
      ]
    },
    {
      "cell_type": "code",
      "source": [
        "X = df.iloc[:,:-1]\n",
        "y = df.iloc[:,-1]"
      ],
      "metadata": {
        "id": "3QPDMlprlQT6"
      },
      "execution_count": null,
      "outputs": []
    },
    {
      "cell_type": "code",
      "source": [
        "X.columns"
      ],
      "metadata": {
        "colab": {
          "base_uri": "https://localhost:8080/"
        },
        "id": "F5NG5vv1lam5",
        "outputId": "613d5491-c4a6-4344-f6dc-9b8fa3806d34"
      },
      "execution_count": null,
      "outputs": [
        {
          "output_type": "execute_result",
          "data": {
            "text/plain": [
              "Index(['crim', 'zn', 'indus', 'chas', 'nox', 'rm', 'age', 'dis', 'rad', 'tax',\n",
              "       'ptratio', 'black', 'lstat'],\n",
              "      dtype='object')"
            ]
          },
          "metadata": {},
          "execution_count": 6
        }
      ]
    },
    {
      "cell_type": "code",
      "source": [
        "y.head()"
      ],
      "metadata": {
        "colab": {
          "base_uri": "https://localhost:8080/"
        },
        "id": "rj9WPcNtlbyx",
        "outputId": "66090080-1fac-4de0-eee5-949f1c967834"
      },
      "execution_count": null,
      "outputs": [
        {
          "output_type": "execute_result",
          "data": {
            "text/plain": [
              "0    24.0\n",
              "1    21.6\n",
              "2    34.7\n",
              "3    33.4\n",
              "4    36.2\n",
              "Name: medv, dtype: float64"
            ]
          },
          "metadata": {},
          "execution_count": 7
        }
      ]
    },
    {
      "cell_type": "markdown",
      "metadata": {
        "id": "O_mwyPt5CvJA"
      },
      "source": [
        "We now, split the data into train and test"
      ]
    },
    {
      "cell_type": "code",
      "metadata": {
        "id": "TU8WBiV1CvJB"
      },
      "source": [
        "from sklearn.model_selection import train_test_split\n",
        "X_train, X_test, y_train, y_test = train_test_split(X, y, test_size = 0.3,random_state=2023)"
      ],
      "execution_count": null,
      "outputs": []
    },
    {
      "cell_type": "markdown",
      "source": [
        "Converting pandas objects to numpy:"
      ],
      "metadata": {
        "id": "Zq0WTgIMqFkD"
      }
    },
    {
      "cell_type": "code",
      "source": [
        "y_train = y_train.values\n",
        "y_test = y_test.values"
      ],
      "metadata": {
        "id": "kxRWkVklmEIJ"
      },
      "execution_count": null,
      "outputs": []
    },
    {
      "cell_type": "markdown",
      "metadata": {
        "id": "5V7HaGQICvI8"
      },
      "source": [
        "Scaling the data"
      ]
    },
    {
      "cell_type": "code",
      "metadata": {
        "id": "PqCWB7_9CvI9"
      },
      "source": [
        "from sklearn.preprocessing import MinMaxScaler\n",
        "scaler_X = MinMaxScaler()\n",
        "scaler_y = MinMaxScaler()\n",
        "X_trn_scl = scaler_X.fit_transform(X_train)\n",
        "y_trn_scl = scaler_y.fit_transform(y_train.reshape(-1,1))\n",
        "y_tst_scl = scaler_y.transform(y_test.reshape(-1,1))\n",
        "X_tst_scl = scaler_X.transform(X_test)"
      ],
      "execution_count": null,
      "outputs": []
    },
    {
      "cell_type": "code",
      "metadata": {
        "colab": {
          "base_uri": "https://localhost:8080/"
        },
        "id": "qKfGf1MECvI-",
        "outputId": "ac70af47-833d-4009-b53e-1ff1415fb804"
      },
      "source": [
        "X_trn_scl.shape"
      ],
      "execution_count": null,
      "outputs": [
        {
          "output_type": "execute_result",
          "data": {
            "text/plain": [
              "(354, 13)"
            ]
          },
          "metadata": {},
          "execution_count": 23
        }
      ]
    },
    {
      "cell_type": "code",
      "metadata": {
        "colab": {
          "base_uri": "https://localhost:8080/"
        },
        "id": "SsJ2PeZVCvI_",
        "outputId": "1236272d-4cc2-438c-9511-d984b4f8ea43"
      },
      "source": [
        "X_tst_scl.shape"
      ],
      "execution_count": null,
      "outputs": [
        {
          "output_type": "execute_result",
          "data": {
            "text/plain": [
              "(152, 13)"
            ]
          },
          "metadata": {},
          "execution_count": 24
        }
      ]
    },
    {
      "cell_type": "code",
      "source": [
        "y_trn_scl.shape"
      ],
      "metadata": {
        "colab": {
          "base_uri": "https://localhost:8080/"
        },
        "id": "eOrdMbwLmULl",
        "outputId": "69aea6f9-de9b-4f22-823c-4e37bb823d6a"
      },
      "execution_count": null,
      "outputs": [
        {
          "output_type": "execute_result",
          "data": {
            "text/plain": [
              "(354, 1)"
            ]
          },
          "metadata": {},
          "execution_count": 25
        }
      ]
    },
    {
      "cell_type": "markdown",
      "metadata": {
        "id": "zHqs9XqKCvJD"
      },
      "source": [
        "Let us now define the neural network through which we plan to build the MLP model"
      ]
    },
    {
      "cell_type": "code",
      "metadata": {
        "id": "5tW5pL8WCvJE"
      },
      "source": [
        "import numpy as np\n",
        "from tensorflow.keras.models import Sequential\n",
        "from tensorflow.keras.layers import Dense, Activation\n",
        "from tensorflow.keras import metrics"
      ],
      "execution_count": null,
      "outputs": []
    },
    {
      "cell_type": "markdown",
      "metadata": {
        "id": "tV4TaQtMCvJE"
      },
      "source": [
        "**Model Definition:**"
      ]
    },
    {
      "cell_type": "code",
      "metadata": {
        "id": "85gQCjjJCvJF"
      },
      "source": [
        "tf.random.set_seed(2023)\n",
        "model = tf.keras.models.Sequential([\n",
        "    tf.keras.layers.Dense(8, activation='relu',input_shape=(13,)),\n",
        "    tf.keras.layers.Dense(6, activation='relu'),\n",
        "    tf.keras.layers.Dense(3, activation='relu'),\n",
        "    tf.keras.layers.Dense(1, activation='relu')\n",
        "])"
      ],
      "execution_count": null,
      "outputs": []
    },
    {
      "cell_type": "code",
      "metadata": {
        "id": "fCL3ehIACvJH"
      },
      "source": [
        "model.compile(optimizer='sgd', loss='mean_squared_error',metrics=['mae'])"
      ],
      "execution_count": null,
      "outputs": []
    },
    {
      "cell_type": "markdown",
      "metadata": {
        "id": "O3oUfG0rCvJH"
      },
      "source": [
        "**Model Fitting:**"
      ]
    },
    {
      "cell_type": "code",
      "metadata": {
        "id": "-fi84N8tCvJI",
        "colab": {
          "base_uri": "https://localhost:8080/"
        },
        "outputId": "7a5a43f0-c602-4253-a109-36af26c4540f"
      },
      "source": [
        "history = model.fit( X_trn_scl,y_trn_scl,validation_data=(X_tst_scl,y_tst_scl),verbose=2, epochs=500)"
      ],
      "execution_count": null,
      "outputs": [
        {
          "output_type": "stream",
          "name": "stdout",
          "text": [
            "Epoch 1/500\n",
            "12/12 - 5s - loss: 0.1477 - mae: 0.3281 - val_loss: 0.1372 - val_mae: 0.3048 - 5s/epoch - 389ms/step\n",
            "Epoch 2/500\n",
            "12/12 - 0s - loss: 0.1028 - mae: 0.2605 - val_loss: 0.0984 - val_mae: 0.2413 - 83ms/epoch - 7ms/step\n",
            "Epoch 3/500\n",
            "12/12 - 0s - loss: 0.0749 - mae: 0.2125 - val_loss: 0.0774 - val_mae: 0.2056 - 74ms/epoch - 6ms/step\n",
            "Epoch 4/500\n",
            "12/12 - 0s - loss: 0.0598 - mae: 0.1821 - val_loss: 0.0645 - val_mae: 0.1829 - 82ms/epoch - 7ms/step\n",
            "Epoch 5/500\n",
            "12/12 - 0s - loss: 0.0508 - mae: 0.1626 - val_loss: 0.0555 - val_mae: 0.1679 - 74ms/epoch - 6ms/step\n",
            "Epoch 6/500\n",
            "12/12 - 0s - loss: 0.0450 - mae: 0.1499 - val_loss: 0.0513 - val_mae: 0.1614 - 84ms/epoch - 7ms/step\n",
            "Epoch 7/500\n",
            "12/12 - 0s - loss: 0.0424 - mae: 0.1438 - val_loss: 0.0481 - val_mae: 0.1572 - 75ms/epoch - 6ms/step\n",
            "Epoch 8/500\n",
            "12/12 - 0s - loss: 0.0405 - mae: 0.1398 - val_loss: 0.0464 - val_mae: 0.1559 - 76ms/epoch - 6ms/step\n",
            "Epoch 9/500\n",
            "12/12 - 0s - loss: 0.0396 - mae: 0.1383 - val_loss: 0.0453 - val_mae: 0.1551 - 90ms/epoch - 7ms/step\n",
            "Epoch 10/500\n",
            "12/12 - 0s - loss: 0.0390 - mae: 0.1378 - val_loss: 0.0446 - val_mae: 0.1551 - 76ms/epoch - 6ms/step\n",
            "Epoch 11/500\n",
            "12/12 - 0s - loss: 0.0387 - mae: 0.1376 - val_loss: 0.0439 - val_mae: 0.1554 - 80ms/epoch - 7ms/step\n",
            "Epoch 12/500\n",
            "12/12 - 0s - loss: 0.0385 - mae: 0.1382 - val_loss: 0.0436 - val_mae: 0.1557 - 94ms/epoch - 8ms/step\n",
            "Epoch 13/500\n",
            "12/12 - 0s - loss: 0.0383 - mae: 0.1386 - val_loss: 0.0435 - val_mae: 0.1555 - 86ms/epoch - 7ms/step\n",
            "Epoch 14/500\n",
            "12/12 - 0s - loss: 0.0382 - mae: 0.1384 - val_loss: 0.0432 - val_mae: 0.1559 - 86ms/epoch - 7ms/step\n",
            "Epoch 15/500\n",
            "12/12 - 0s - loss: 0.0383 - mae: 0.1396 - val_loss: 0.0427 - val_mae: 0.1557 - 81ms/epoch - 7ms/step\n",
            "Epoch 16/500\n",
            "12/12 - 0s - loss: 0.0382 - mae: 0.1403 - val_loss: 0.0430 - val_mae: 0.1553 - 78ms/epoch - 6ms/step\n",
            "Epoch 17/500\n",
            "12/12 - 0s - loss: 0.0380 - mae: 0.1387 - val_loss: 0.0432 - val_mae: 0.1545 - 78ms/epoch - 7ms/step\n",
            "Epoch 18/500\n",
            "12/12 - 0s - loss: 0.0379 - mae: 0.1374 - val_loss: 0.0429 - val_mae: 0.1543 - 78ms/epoch - 6ms/step\n",
            "Epoch 19/500\n",
            "12/12 - 0s - loss: 0.0378 - mae: 0.1375 - val_loss: 0.0428 - val_mae: 0.1540 - 68ms/epoch - 6ms/step\n",
            "Epoch 20/500\n",
            "12/12 - 0s - loss: 0.0377 - mae: 0.1373 - val_loss: 0.0428 - val_mae: 0.1532 - 68ms/epoch - 6ms/step\n",
            "Epoch 21/500\n",
            "12/12 - 0s - loss: 0.0377 - mae: 0.1364 - val_loss: 0.0427 - val_mae: 0.1529 - 68ms/epoch - 6ms/step\n",
            "Epoch 22/500\n",
            "12/12 - 0s - loss: 0.0376 - mae: 0.1363 - val_loss: 0.0427 - val_mae: 0.1527 - 79ms/epoch - 7ms/step\n",
            "Epoch 23/500\n",
            "12/12 - 0s - loss: 0.0376 - mae: 0.1363 - val_loss: 0.0423 - val_mae: 0.1525 - 81ms/epoch - 7ms/step\n",
            "Epoch 24/500\n",
            "12/12 - 0s - loss: 0.0375 - mae: 0.1365 - val_loss: 0.0424 - val_mae: 0.1523 - 76ms/epoch - 6ms/step\n",
            "Epoch 25/500\n",
            "12/12 - 0s - loss: 0.0374 - mae: 0.1359 - val_loss: 0.0423 - val_mae: 0.1518 - 72ms/epoch - 6ms/step\n",
            "Epoch 26/500\n",
            "12/12 - 0s - loss: 0.0374 - mae: 0.1357 - val_loss: 0.0422 - val_mae: 0.1518 - 91ms/epoch - 8ms/step\n",
            "Epoch 27/500\n",
            "12/12 - 0s - loss: 0.0373 - mae: 0.1358 - val_loss: 0.0422 - val_mae: 0.1513 - 72ms/epoch - 6ms/step\n",
            "Epoch 28/500\n",
            "12/12 - 0s - loss: 0.0373 - mae: 0.1352 - val_loss: 0.0417 - val_mae: 0.1516 - 64ms/epoch - 5ms/step\n",
            "Epoch 29/500\n",
            "12/12 - 0s - loss: 0.0372 - mae: 0.1360 - val_loss: 0.0417 - val_mae: 0.1512 - 65ms/epoch - 5ms/step\n",
            "Epoch 30/500\n",
            "12/12 - 0s - loss: 0.0371 - mae: 0.1356 - val_loss: 0.0416 - val_mae: 0.1509 - 76ms/epoch - 6ms/step\n",
            "Epoch 31/500\n",
            "12/12 - 0s - loss: 0.0371 - mae: 0.1353 - val_loss: 0.0411 - val_mae: 0.1507 - 68ms/epoch - 6ms/step\n",
            "Epoch 32/500\n",
            "12/12 - 0s - loss: 0.0370 - mae: 0.1356 - val_loss: 0.0410 - val_mae: 0.1506 - 69ms/epoch - 6ms/step\n",
            "Epoch 33/500\n",
            "12/12 - 0s - loss: 0.0370 - mae: 0.1359 - val_loss: 0.0409 - val_mae: 0.1504 - 82ms/epoch - 7ms/step\n",
            "Epoch 34/500\n",
            "12/12 - 0s - loss: 0.0369 - mae: 0.1357 - val_loss: 0.0409 - val_mae: 0.1499 - 69ms/epoch - 6ms/step\n",
            "Epoch 35/500\n",
            "12/12 - 0s - loss: 0.0369 - mae: 0.1354 - val_loss: 0.0411 - val_mae: 0.1499 - 79ms/epoch - 7ms/step\n",
            "Epoch 36/500\n",
            "12/12 - 0s - loss: 0.0367 - mae: 0.1346 - val_loss: 0.0416 - val_mae: 0.1495 - 68ms/epoch - 6ms/step\n",
            "Epoch 37/500\n",
            "12/12 - 0s - loss: 0.0368 - mae: 0.1335 - val_loss: 0.0416 - val_mae: 0.1495 - 86ms/epoch - 7ms/step\n",
            "Epoch 38/500\n",
            "12/12 - 0s - loss: 0.0368 - mae: 0.1336 - val_loss: 0.0408 - val_mae: 0.1489 - 63ms/epoch - 5ms/step\n",
            "Epoch 39/500\n",
            "12/12 - 0s - loss: 0.0366 - mae: 0.1338 - val_loss: 0.0410 - val_mae: 0.1489 - 75ms/epoch - 6ms/step\n",
            "Epoch 40/500\n",
            "12/12 - 0s - loss: 0.0365 - mae: 0.1335 - val_loss: 0.0410 - val_mae: 0.1485 - 99ms/epoch - 8ms/step\n",
            "Epoch 41/500\n",
            "12/12 - 0s - loss: 0.0365 - mae: 0.1332 - val_loss: 0.0408 - val_mae: 0.1484 - 66ms/epoch - 6ms/step\n",
            "Epoch 42/500\n",
            "12/12 - 0s - loss: 0.0364 - mae: 0.1331 - val_loss: 0.0408 - val_mae: 0.1482 - 68ms/epoch - 6ms/step\n",
            "Epoch 43/500\n",
            "12/12 - 0s - loss: 0.0364 - mae: 0.1331 - val_loss: 0.0403 - val_mae: 0.1485 - 72ms/epoch - 6ms/step\n",
            "Epoch 44/500\n",
            "12/12 - 0s - loss: 0.0364 - mae: 0.1341 - val_loss: 0.0400 - val_mae: 0.1484 - 69ms/epoch - 6ms/step\n",
            "Epoch 45/500\n",
            "12/12 - 0s - loss: 0.0363 - mae: 0.1342 - val_loss: 0.0399 - val_mae: 0.1481 - 95ms/epoch - 8ms/step\n",
            "Epoch 46/500\n",
            "12/12 - 0s - loss: 0.0363 - mae: 0.1342 - val_loss: 0.0401 - val_mae: 0.1478 - 72ms/epoch - 6ms/step\n",
            "Epoch 47/500\n",
            "12/12 - 0s - loss: 0.0362 - mae: 0.1334 - val_loss: 0.0400 - val_mae: 0.1475 - 79ms/epoch - 7ms/step\n",
            "Epoch 48/500\n",
            "12/12 - 0s - loss: 0.0361 - mae: 0.1331 - val_loss: 0.0397 - val_mae: 0.1473 - 73ms/epoch - 6ms/step\n",
            "Epoch 49/500\n",
            "12/12 - 0s - loss: 0.0361 - mae: 0.1335 - val_loss: 0.0396 - val_mae: 0.1471 - 69ms/epoch - 6ms/step\n",
            "Epoch 50/500\n",
            "12/12 - 0s - loss: 0.0361 - mae: 0.1334 - val_loss: 0.0395 - val_mae: 0.1469 - 70ms/epoch - 6ms/step\n",
            "Epoch 51/500\n",
            "12/12 - 0s - loss: 0.0360 - mae: 0.1333 - val_loss: 0.0394 - val_mae: 0.1468 - 78ms/epoch - 7ms/step\n",
            "Epoch 52/500\n",
            "12/12 - 0s - loss: 0.0360 - mae: 0.1334 - val_loss: 0.0395 - val_mae: 0.1462 - 65ms/epoch - 5ms/step\n",
            "Epoch 53/500\n",
            "12/12 - 0s - loss: 0.0359 - mae: 0.1327 - val_loss: 0.0392 - val_mae: 0.1460 - 67ms/epoch - 6ms/step\n",
            "Epoch 54/500\n",
            "12/12 - 0s - loss: 0.0359 - mae: 0.1330 - val_loss: 0.0395 - val_mae: 0.1451 - 69ms/epoch - 6ms/step\n",
            "Epoch 55/500\n",
            "12/12 - 0s - loss: 0.0358 - mae: 0.1317 - val_loss: 0.0394 - val_mae: 0.1452 - 69ms/epoch - 6ms/step\n",
            "Epoch 56/500\n",
            "12/12 - 0s - loss: 0.0358 - mae: 0.1315 - val_loss: 0.0391 - val_mae: 0.1452 - 80ms/epoch - 7ms/step\n",
            "Epoch 57/500\n",
            "12/12 - 0s - loss: 0.0357 - mae: 0.1321 - val_loss: 0.0393 - val_mae: 0.1449 - 98ms/epoch - 8ms/step\n",
            "Epoch 58/500\n",
            "12/12 - 0s - loss: 0.0357 - mae: 0.1315 - val_loss: 0.0392 - val_mae: 0.1448 - 114ms/epoch - 10ms/step\n",
            "Epoch 59/500\n",
            "12/12 - 0s - loss: 0.0356 - mae: 0.1313 - val_loss: 0.0391 - val_mae: 0.1447 - 113ms/epoch - 9ms/step\n",
            "Epoch 60/500\n",
            "12/12 - 0s - loss: 0.0356 - mae: 0.1316 - val_loss: 0.0392 - val_mae: 0.1444 - 148ms/epoch - 12ms/step\n",
            "Epoch 61/500\n",
            "12/12 - 0s - loss: 0.0356 - mae: 0.1310 - val_loss: 0.0395 - val_mae: 0.1445 - 108ms/epoch - 9ms/step\n",
            "Epoch 62/500\n",
            "12/12 - 0s - loss: 0.0356 - mae: 0.1307 - val_loss: 0.0393 - val_mae: 0.1444 - 111ms/epoch - 9ms/step\n",
            "Epoch 63/500\n",
            "12/12 - 0s - loss: 0.0355 - mae: 0.1304 - val_loss: 0.0393 - val_mae: 0.1443 - 105ms/epoch - 9ms/step\n",
            "Epoch 64/500\n",
            "12/12 - 0s - loss: 0.0355 - mae: 0.1303 - val_loss: 0.0386 - val_mae: 0.1448 - 115ms/epoch - 10ms/step\n",
            "Epoch 65/500\n",
            "12/12 - 0s - loss: 0.0354 - mae: 0.1317 - val_loss: 0.0384 - val_mae: 0.1455 - 101ms/epoch - 8ms/step\n",
            "Epoch 66/500\n",
            "12/12 - 0s - loss: 0.0354 - mae: 0.1323 - val_loss: 0.0385 - val_mae: 0.1451 - 110ms/epoch - 9ms/step\n",
            "Epoch 67/500\n",
            "12/12 - 0s - loss: 0.0353 - mae: 0.1321 - val_loss: 0.0383 - val_mae: 0.1454 - 101ms/epoch - 8ms/step\n",
            "Epoch 68/500\n",
            "12/12 - 0s - loss: 0.0353 - mae: 0.1324 - val_loss: 0.0381 - val_mae: 0.1460 - 103ms/epoch - 9ms/step\n",
            "Epoch 69/500\n",
            "12/12 - 0s - loss: 0.0354 - mae: 0.1338 - val_loss: 0.0383 - val_mae: 0.1445 - 99ms/epoch - 8ms/step\n",
            "Epoch 70/500\n",
            "12/12 - 0s - loss: 0.0352 - mae: 0.1314 - val_loss: 0.0380 - val_mae: 0.1444 - 100ms/epoch - 8ms/step\n",
            "Epoch 71/500\n",
            "12/12 - 0s - loss: 0.0352 - mae: 0.1317 - val_loss: 0.0381 - val_mae: 0.1438 - 115ms/epoch - 10ms/step\n",
            "Epoch 72/500\n",
            "12/12 - 0s - loss: 0.0351 - mae: 0.1308 - val_loss: 0.0376 - val_mae: 0.1441 - 105ms/epoch - 9ms/step\n",
            "Epoch 73/500\n",
            "12/12 - 0s - loss: 0.0351 - mae: 0.1324 - val_loss: 0.0376 - val_mae: 0.1437 - 118ms/epoch - 10ms/step\n",
            "Epoch 74/500\n",
            "12/12 - 0s - loss: 0.0351 - mae: 0.1315 - val_loss: 0.0379 - val_mae: 0.1432 - 101ms/epoch - 8ms/step\n",
            "Epoch 75/500\n",
            "12/12 - 0s - loss: 0.0350 - mae: 0.1307 - val_loss: 0.0381 - val_mae: 0.1430 - 102ms/epoch - 8ms/step\n",
            "Epoch 76/500\n",
            "12/12 - 0s - loss: 0.0350 - mae: 0.1299 - val_loss: 0.0376 - val_mae: 0.1431 - 104ms/epoch - 9ms/step\n",
            "Epoch 77/500\n",
            "12/12 - 0s - loss: 0.0349 - mae: 0.1305 - val_loss: 0.0376 - val_mae: 0.1428 - 103ms/epoch - 9ms/step\n",
            "Epoch 78/500\n",
            "12/12 - 0s - loss: 0.0349 - mae: 0.1305 - val_loss: 0.0374 - val_mae: 0.1435 - 94ms/epoch - 8ms/step\n",
            "Epoch 79/500\n",
            "12/12 - 0s - loss: 0.0349 - mae: 0.1313 - val_loss: 0.0374 - val_mae: 0.1433 - 100ms/epoch - 8ms/step\n",
            "Epoch 80/500\n",
            "12/12 - 0s - loss: 0.0348 - mae: 0.1309 - val_loss: 0.0372 - val_mae: 0.1440 - 146ms/epoch - 12ms/step\n",
            "Epoch 81/500\n",
            "12/12 - 0s - loss: 0.0349 - mae: 0.1320 - val_loss: 0.0373 - val_mae: 0.1434 - 105ms/epoch - 9ms/step\n",
            "Epoch 82/500\n",
            "12/12 - 0s - loss: 0.0348 - mae: 0.1310 - val_loss: 0.0374 - val_mae: 0.1426 - 115ms/epoch - 10ms/step\n",
            "Epoch 83/500\n",
            "12/12 - 0s - loss: 0.0347 - mae: 0.1303 - val_loss: 0.0374 - val_mae: 0.1423 - 101ms/epoch - 8ms/step\n",
            "Epoch 84/500\n",
            "12/12 - 0s - loss: 0.0347 - mae: 0.1299 - val_loss: 0.0375 - val_mae: 0.1420 - 103ms/epoch - 9ms/step\n",
            "Epoch 85/500\n",
            "12/12 - 0s - loss: 0.0346 - mae: 0.1293 - val_loss: 0.0375 - val_mae: 0.1419 - 102ms/epoch - 9ms/step\n",
            "Epoch 86/500\n",
            "12/12 - 0s - loss: 0.0346 - mae: 0.1290 - val_loss: 0.0371 - val_mae: 0.1421 - 103ms/epoch - 9ms/step\n",
            "Epoch 87/500\n",
            "12/12 - 0s - loss: 0.0346 - mae: 0.1299 - val_loss: 0.0371 - val_mae: 0.1418 - 100ms/epoch - 8ms/step\n",
            "Epoch 88/500\n",
            "12/12 - 0s - loss: 0.0345 - mae: 0.1295 - val_loss: 0.0372 - val_mae: 0.1413 - 84ms/epoch - 7ms/step\n",
            "Epoch 89/500\n",
            "12/12 - 0s - loss: 0.0345 - mae: 0.1287 - val_loss: 0.0373 - val_mae: 0.1411 - 78ms/epoch - 6ms/step\n",
            "Epoch 90/500\n",
            "12/12 - 0s - loss: 0.0344 - mae: 0.1284 - val_loss: 0.0367 - val_mae: 0.1421 - 76ms/epoch - 6ms/step\n",
            "Epoch 91/500\n",
            "12/12 - 0s - loss: 0.0344 - mae: 0.1301 - val_loss: 0.0368 - val_mae: 0.1418 - 66ms/epoch - 6ms/step\n",
            "Epoch 92/500\n",
            "12/12 - 0s - loss: 0.0344 - mae: 0.1295 - val_loss: 0.0363 - val_mae: 0.1422 - 81ms/epoch - 7ms/step\n",
            "Epoch 93/500\n",
            "12/12 - 0s - loss: 0.0344 - mae: 0.1304 - val_loss: 0.0364 - val_mae: 0.1417 - 66ms/epoch - 5ms/step\n",
            "Epoch 94/500\n",
            "12/12 - 0s - loss: 0.0343 - mae: 0.1296 - val_loss: 0.0364 - val_mae: 0.1414 - 66ms/epoch - 6ms/step\n",
            "Epoch 95/500\n",
            "12/12 - 0s - loss: 0.0343 - mae: 0.1296 - val_loss: 0.0365 - val_mae: 0.1406 - 73ms/epoch - 6ms/step\n",
            "Epoch 96/500\n",
            "12/12 - 0s - loss: 0.0342 - mae: 0.1287 - val_loss: 0.0366 - val_mae: 0.1402 - 67ms/epoch - 6ms/step\n",
            "Epoch 97/500\n",
            "12/12 - 0s - loss: 0.0341 - mae: 0.1280 - val_loss: 0.0363 - val_mae: 0.1402 - 66ms/epoch - 6ms/step\n",
            "Epoch 98/500\n",
            "12/12 - 0s - loss: 0.0341 - mae: 0.1287 - val_loss: 0.0364 - val_mae: 0.1400 - 72ms/epoch - 6ms/step\n",
            "Epoch 99/500\n",
            "12/12 - 0s - loss: 0.0340 - mae: 0.1281 - val_loss: 0.0365 - val_mae: 0.1397 - 79ms/epoch - 7ms/step\n",
            "Epoch 100/500\n",
            "12/12 - 0s - loss: 0.0340 - mae: 0.1274 - val_loss: 0.0363 - val_mae: 0.1395 - 66ms/epoch - 5ms/step\n",
            "Epoch 101/500\n",
            "12/12 - 0s - loss: 0.0340 - mae: 0.1277 - val_loss: 0.0360 - val_mae: 0.1392 - 77ms/epoch - 6ms/step\n",
            "Epoch 102/500\n",
            "12/12 - 0s - loss: 0.0339 - mae: 0.1281 - val_loss: 0.0360 - val_mae: 0.1390 - 66ms/epoch - 5ms/step\n",
            "Epoch 103/500\n",
            "12/12 - 0s - loss: 0.0339 - mae: 0.1279 - val_loss: 0.0360 - val_mae: 0.1388 - 86ms/epoch - 7ms/step\n",
            "Epoch 104/500\n",
            "12/12 - 0s - loss: 0.0338 - mae: 0.1274 - val_loss: 0.0359 - val_mae: 0.1387 - 77ms/epoch - 6ms/step\n",
            "Epoch 105/500\n",
            "12/12 - 0s - loss: 0.0338 - mae: 0.1273 - val_loss: 0.0357 - val_mae: 0.1387 - 69ms/epoch - 6ms/step\n",
            "Epoch 106/500\n",
            "12/12 - 0s - loss: 0.0337 - mae: 0.1276 - val_loss: 0.0357 - val_mae: 0.1384 - 68ms/epoch - 6ms/step\n",
            "Epoch 107/500\n",
            "12/12 - 0s - loss: 0.0337 - mae: 0.1275 - val_loss: 0.0356 - val_mae: 0.1383 - 70ms/epoch - 6ms/step\n",
            "Epoch 108/500\n",
            "12/12 - 0s - loss: 0.0336 - mae: 0.1272 - val_loss: 0.0355 - val_mae: 0.1381 - 80ms/epoch - 7ms/step\n",
            "Epoch 109/500\n",
            "12/12 - 0s - loss: 0.0336 - mae: 0.1272 - val_loss: 0.0353 - val_mae: 0.1382 - 67ms/epoch - 6ms/step\n",
            "Epoch 110/500\n",
            "12/12 - 0s - loss: 0.0335 - mae: 0.1277 - val_loss: 0.0354 - val_mae: 0.1379 - 71ms/epoch - 6ms/step\n",
            "Epoch 111/500\n",
            "12/12 - 0s - loss: 0.0335 - mae: 0.1271 - val_loss: 0.0352 - val_mae: 0.1380 - 87ms/epoch - 7ms/step\n",
            "Epoch 112/500\n",
            "12/12 - 0s - loss: 0.0334 - mae: 0.1274 - val_loss: 0.0352 - val_mae: 0.1373 - 69ms/epoch - 6ms/step\n",
            "Epoch 113/500\n",
            "12/12 - 0s - loss: 0.0334 - mae: 0.1271 - val_loss: 0.0351 - val_mae: 0.1369 - 69ms/epoch - 6ms/step\n",
            "Epoch 114/500\n",
            "12/12 - 0s - loss: 0.0332 - mae: 0.1268 - val_loss: 0.0352 - val_mae: 0.1363 - 79ms/epoch - 7ms/step\n",
            "Epoch 115/500\n",
            "12/12 - 0s - loss: 0.0332 - mae: 0.1263 - val_loss: 0.0352 - val_mae: 0.1361 - 78ms/epoch - 6ms/step\n",
            "Epoch 116/500\n",
            "12/12 - 0s - loss: 0.0331 - mae: 0.1260 - val_loss: 0.0348 - val_mae: 0.1362 - 79ms/epoch - 7ms/step\n",
            "Epoch 117/500\n",
            "12/12 - 0s - loss: 0.0329 - mae: 0.1267 - val_loss: 0.0347 - val_mae: 0.1357 - 69ms/epoch - 6ms/step\n",
            "Epoch 118/500\n",
            "12/12 - 0s - loss: 0.0328 - mae: 0.1262 - val_loss: 0.0344 - val_mae: 0.1354 - 72ms/epoch - 6ms/step\n",
            "Epoch 119/500\n",
            "12/12 - 0s - loss: 0.0327 - mae: 0.1262 - val_loss: 0.0340 - val_mae: 0.1357 - 80ms/epoch - 7ms/step\n",
            "Epoch 120/500\n",
            "12/12 - 0s - loss: 0.0325 - mae: 0.1270 - val_loss: 0.0339 - val_mae: 0.1352 - 67ms/epoch - 6ms/step\n",
            "Epoch 121/500\n",
            "12/12 - 0s - loss: 0.0324 - mae: 0.1265 - val_loss: 0.0340 - val_mae: 0.1345 - 74ms/epoch - 6ms/step\n",
            "Epoch 122/500\n",
            "12/12 - 0s - loss: 0.0322 - mae: 0.1256 - val_loss: 0.0341 - val_mae: 0.1339 - 69ms/epoch - 6ms/step\n",
            "Epoch 123/500\n",
            "12/12 - 0s - loss: 0.0321 - mae: 0.1248 - val_loss: 0.0338 - val_mae: 0.1340 - 72ms/epoch - 6ms/step\n",
            "Epoch 124/500\n",
            "12/12 - 0s - loss: 0.0320 - mae: 0.1251 - val_loss: 0.0338 - val_mae: 0.1334 - 77ms/epoch - 6ms/step\n",
            "Epoch 125/500\n",
            "12/12 - 0s - loss: 0.0319 - mae: 0.1247 - val_loss: 0.0337 - val_mae: 0.1329 - 83ms/epoch - 7ms/step\n",
            "Epoch 126/500\n",
            "12/12 - 0s - loss: 0.0317 - mae: 0.1237 - val_loss: 0.0330 - val_mae: 0.1333 - 65ms/epoch - 5ms/step\n",
            "Epoch 127/500\n",
            "12/12 - 0s - loss: 0.0316 - mae: 0.1257 - val_loss: 0.0326 - val_mae: 0.1350 - 87ms/epoch - 7ms/step\n",
            "Epoch 128/500\n",
            "12/12 - 0s - loss: 0.0317 - mae: 0.1279 - val_loss: 0.0326 - val_mae: 0.1333 - 76ms/epoch - 6ms/step\n",
            "Epoch 129/500\n",
            "12/12 - 0s - loss: 0.0314 - mae: 0.1260 - val_loss: 0.0325 - val_mae: 0.1325 - 77ms/epoch - 6ms/step\n",
            "Epoch 130/500\n",
            "12/12 - 0s - loss: 0.0313 - mae: 0.1252 - val_loss: 0.0325 - val_mae: 0.1319 - 78ms/epoch - 6ms/step\n",
            "Epoch 131/500\n",
            "12/12 - 0s - loss: 0.0311 - mae: 0.1250 - val_loss: 0.0323 - val_mae: 0.1314 - 67ms/epoch - 6ms/step\n",
            "Epoch 132/500\n",
            "12/12 - 0s - loss: 0.0310 - mae: 0.1242 - val_loss: 0.0319 - val_mae: 0.1318 - 74ms/epoch - 6ms/step\n",
            "Epoch 133/500\n",
            "12/12 - 0s - loss: 0.0310 - mae: 0.1254 - val_loss: 0.0320 - val_mae: 0.1307 - 79ms/epoch - 7ms/step\n",
            "Epoch 134/500\n",
            "12/12 - 0s - loss: 0.0308 - mae: 0.1240 - val_loss: 0.0319 - val_mae: 0.1302 - 70ms/epoch - 6ms/step\n",
            "Epoch 135/500\n",
            "12/12 - 0s - loss: 0.0306 - mae: 0.1233 - val_loss: 0.0316 - val_mae: 0.1304 - 78ms/epoch - 7ms/step\n",
            "Epoch 136/500\n",
            "12/12 - 0s - loss: 0.0306 - mae: 0.1244 - val_loss: 0.0314 - val_mae: 0.1299 - 72ms/epoch - 6ms/step\n",
            "Epoch 137/500\n",
            "12/12 - 0s - loss: 0.0305 - mae: 0.1239 - val_loss: 0.0315 - val_mae: 0.1284 - 66ms/epoch - 6ms/step\n",
            "Epoch 138/500\n",
            "12/12 - 0s - loss: 0.0302 - mae: 0.1225 - val_loss: 0.0313 - val_mae: 0.1283 - 77ms/epoch - 6ms/step\n",
            "Epoch 139/500\n",
            "12/12 - 0s - loss: 0.0301 - mae: 0.1225 - val_loss: 0.0314 - val_mae: 0.1274 - 69ms/epoch - 6ms/step\n",
            "Epoch 140/500\n",
            "12/12 - 0s - loss: 0.0300 - mae: 0.1215 - val_loss: 0.0315 - val_mae: 0.1263 - 76ms/epoch - 6ms/step\n",
            "Epoch 141/500\n",
            "12/12 - 0s - loss: 0.0298 - mae: 0.1206 - val_loss: 0.0315 - val_mae: 0.1258 - 79ms/epoch - 7ms/step\n",
            "Epoch 142/500\n",
            "12/12 - 0s - loss: 0.0297 - mae: 0.1200 - val_loss: 0.0315 - val_mae: 0.1253 - 74ms/epoch - 6ms/step\n",
            "Epoch 143/500\n",
            "12/12 - 0s - loss: 0.0296 - mae: 0.1197 - val_loss: 0.0310 - val_mae: 0.1252 - 67ms/epoch - 6ms/step\n",
            "Epoch 144/500\n",
            "12/12 - 0s - loss: 0.0294 - mae: 0.1201 - val_loss: 0.0310 - val_mae: 0.1248 - 77ms/epoch - 6ms/step\n",
            "Epoch 145/500\n",
            "12/12 - 0s - loss: 0.0293 - mae: 0.1196 - val_loss: 0.0308 - val_mae: 0.1246 - 69ms/epoch - 6ms/step\n",
            "Epoch 146/500\n",
            "12/12 - 0s - loss: 0.0292 - mae: 0.1190 - val_loss: 0.0302 - val_mae: 0.1266 - 69ms/epoch - 6ms/step\n",
            "Epoch 147/500\n",
            "12/12 - 0s - loss: 0.0292 - mae: 0.1221 - val_loss: 0.0301 - val_mae: 0.1253 - 72ms/epoch - 6ms/step\n",
            "Epoch 148/500\n",
            "12/12 - 0s - loss: 0.0289 - mae: 0.1210 - val_loss: 0.0302 - val_mae: 0.1238 - 79ms/epoch - 7ms/step\n",
            "Epoch 149/500\n",
            "12/12 - 0s - loss: 0.0287 - mae: 0.1191 - val_loss: 0.0297 - val_mae: 0.1245 - 78ms/epoch - 6ms/step\n",
            "Epoch 150/500\n",
            "12/12 - 0s - loss: 0.0286 - mae: 0.1208 - val_loss: 0.0299 - val_mae: 0.1231 - 67ms/epoch - 6ms/step\n",
            "Epoch 151/500\n",
            "12/12 - 0s - loss: 0.0284 - mae: 0.1183 - val_loss: 0.0298 - val_mae: 0.1226 - 86ms/epoch - 7ms/step\n",
            "Epoch 152/500\n",
            "12/12 - 0s - loss: 0.0283 - mae: 0.1180 - val_loss: 0.0297 - val_mae: 0.1220 - 70ms/epoch - 6ms/step\n",
            "Epoch 153/500\n",
            "12/12 - 0s - loss: 0.0282 - mae: 0.1178 - val_loss: 0.0299 - val_mae: 0.1212 - 65ms/epoch - 5ms/step\n",
            "Epoch 154/500\n",
            "12/12 - 0s - loss: 0.0280 - mae: 0.1166 - val_loss: 0.0300 - val_mae: 0.1208 - 64ms/epoch - 5ms/step\n",
            "Epoch 155/500\n",
            "12/12 - 0s - loss: 0.0279 - mae: 0.1161 - val_loss: 0.0297 - val_mae: 0.1205 - 79ms/epoch - 7ms/step\n",
            "Epoch 156/500\n",
            "12/12 - 0s - loss: 0.0278 - mae: 0.1159 - val_loss: 0.0288 - val_mae: 0.1220 - 69ms/epoch - 6ms/step\n",
            "Epoch 157/500\n",
            "12/12 - 0s - loss: 0.0277 - mae: 0.1179 - val_loss: 0.0289 - val_mae: 0.1203 - 74ms/epoch - 6ms/step\n",
            "Epoch 158/500\n",
            "12/12 - 0s - loss: 0.0274 - mae: 0.1163 - val_loss: 0.0287 - val_mae: 0.1201 - 79ms/epoch - 7ms/step\n",
            "Epoch 159/500\n",
            "12/12 - 0s - loss: 0.0273 - mae: 0.1161 - val_loss: 0.0288 - val_mae: 0.1193 - 67ms/epoch - 6ms/step\n",
            "Epoch 160/500\n",
            "12/12 - 0s - loss: 0.0272 - mae: 0.1156 - val_loss: 0.0281 - val_mae: 0.1200 - 67ms/epoch - 6ms/step\n",
            "Epoch 161/500\n",
            "12/12 - 0s - loss: 0.0270 - mae: 0.1163 - val_loss: 0.0281 - val_mae: 0.1194 - 78ms/epoch - 7ms/step\n",
            "Epoch 162/500\n",
            "12/12 - 0s - loss: 0.0269 - mae: 0.1161 - val_loss: 0.0281 - val_mae: 0.1186 - 66ms/epoch - 6ms/step\n",
            "Epoch 163/500\n",
            "12/12 - 0s - loss: 0.0267 - mae: 0.1151 - val_loss: 0.0281 - val_mae: 0.1181 - 87ms/epoch - 7ms/step\n",
            "Epoch 164/500\n",
            "12/12 - 0s - loss: 0.0266 - mae: 0.1146 - val_loss: 0.0281 - val_mae: 0.1177 - 83ms/epoch - 7ms/step\n",
            "Epoch 165/500\n",
            "12/12 - 0s - loss: 0.0265 - mae: 0.1143 - val_loss: 0.0282 - val_mae: 0.1172 - 70ms/epoch - 6ms/step\n",
            "Epoch 166/500\n",
            "12/12 - 0s - loss: 0.0264 - mae: 0.1136 - val_loss: 0.0275 - val_mae: 0.1174 - 71ms/epoch - 6ms/step\n",
            "Epoch 167/500\n",
            "12/12 - 0s - loss: 0.0263 - mae: 0.1144 - val_loss: 0.0275 - val_mae: 0.1169 - 70ms/epoch - 6ms/step\n",
            "Epoch 168/500\n",
            "12/12 - 0s - loss: 0.0261 - mae: 0.1139 - val_loss: 0.0276 - val_mae: 0.1164 - 79ms/epoch - 7ms/step\n",
            "Epoch 169/500\n",
            "12/12 - 0s - loss: 0.0260 - mae: 0.1128 - val_loss: 0.0268 - val_mae: 0.1171 - 69ms/epoch - 6ms/step\n",
            "Epoch 170/500\n",
            "12/12 - 0s - loss: 0.0259 - mae: 0.1144 - val_loss: 0.0268 - val_mae: 0.1163 - 67ms/epoch - 6ms/step\n",
            "Epoch 171/500\n",
            "12/12 - 0s - loss: 0.0257 - mae: 0.1141 - val_loss: 0.0267 - val_mae: 0.1159 - 77ms/epoch - 6ms/step\n",
            "Epoch 172/500\n",
            "12/12 - 0s - loss: 0.0256 - mae: 0.1138 - val_loss: 0.0268 - val_mae: 0.1152 - 80ms/epoch - 7ms/step\n",
            "Epoch 173/500\n",
            "12/12 - 0s - loss: 0.0255 - mae: 0.1124 - val_loss: 0.0266 - val_mae: 0.1150 - 74ms/epoch - 6ms/step\n",
            "Epoch 174/500\n",
            "12/12 - 0s - loss: 0.0254 - mae: 0.1130 - val_loss: 0.0262 - val_mae: 0.1158 - 83ms/epoch - 7ms/step\n",
            "Epoch 175/500\n",
            "12/12 - 0s - loss: 0.0253 - mae: 0.1140 - val_loss: 0.0263 - val_mae: 0.1145 - 70ms/epoch - 6ms/step\n",
            "Epoch 176/500\n",
            "12/12 - 0s - loss: 0.0251 - mae: 0.1123 - val_loss: 0.0264 - val_mae: 0.1140 - 69ms/epoch - 6ms/step\n",
            "Epoch 177/500\n",
            "12/12 - 0s - loss: 0.0250 - mae: 0.1115 - val_loss: 0.0259 - val_mae: 0.1143 - 72ms/epoch - 6ms/step\n",
            "Epoch 178/500\n",
            "12/12 - 0s - loss: 0.0249 - mae: 0.1127 - val_loss: 0.0261 - val_mae: 0.1134 - 78ms/epoch - 6ms/step\n",
            "Epoch 179/500\n",
            "12/12 - 0s - loss: 0.0248 - mae: 0.1115 - val_loss: 0.0259 - val_mae: 0.1134 - 71ms/epoch - 6ms/step\n",
            "Epoch 180/500\n",
            "12/12 - 0s - loss: 0.0247 - mae: 0.1111 - val_loss: 0.0257 - val_mae: 0.1133 - 73ms/epoch - 6ms/step\n",
            "Epoch 181/500\n",
            "12/12 - 0s - loss: 0.0246 - mae: 0.1117 - val_loss: 0.0256 - val_mae: 0.1131 - 70ms/epoch - 6ms/step\n",
            "Epoch 182/500\n",
            "12/12 - 0s - loss: 0.0245 - mae: 0.1114 - val_loss: 0.0258 - val_mae: 0.1122 - 69ms/epoch - 6ms/step\n",
            "Epoch 183/500\n",
            "12/12 - 0s - loss: 0.0243 - mae: 0.1100 - val_loss: 0.0255 - val_mae: 0.1123 - 67ms/epoch - 6ms/step\n",
            "Epoch 184/500\n",
            "12/12 - 0s - loss: 0.0242 - mae: 0.1104 - val_loss: 0.0254 - val_mae: 0.1123 - 75ms/epoch - 6ms/step\n",
            "Epoch 185/500\n",
            "12/12 - 0s - loss: 0.0241 - mae: 0.1107 - val_loss: 0.0254 - val_mae: 0.1117 - 77ms/epoch - 6ms/step\n",
            "Epoch 186/500\n",
            "12/12 - 0s - loss: 0.0240 - mae: 0.1102 - val_loss: 0.0254 - val_mae: 0.1111 - 78ms/epoch - 7ms/step\n",
            "Epoch 187/500\n",
            "12/12 - 0s - loss: 0.0240 - mae: 0.1094 - val_loss: 0.0253 - val_mae: 0.1110 - 71ms/epoch - 6ms/step\n",
            "Epoch 188/500\n",
            "12/12 - 0s - loss: 0.0239 - mae: 0.1093 - val_loss: 0.0252 - val_mae: 0.1107 - 67ms/epoch - 6ms/step\n",
            "Epoch 189/500\n",
            "12/12 - 0s - loss: 0.0238 - mae: 0.1095 - val_loss: 0.0252 - val_mae: 0.1104 - 80ms/epoch - 7ms/step\n",
            "Epoch 190/500\n",
            "12/12 - 0s - loss: 0.0237 - mae: 0.1087 - val_loss: 0.0246 - val_mae: 0.1118 - 82ms/epoch - 7ms/step\n",
            "Epoch 191/500\n",
            "12/12 - 0s - loss: 0.0236 - mae: 0.1107 - val_loss: 0.0244 - val_mae: 0.1116 - 70ms/epoch - 6ms/step\n",
            "Epoch 192/500\n",
            "12/12 - 0s - loss: 0.0235 - mae: 0.1103 - val_loss: 0.0245 - val_mae: 0.1106 - 72ms/epoch - 6ms/step\n",
            "Epoch 193/500\n",
            "12/12 - 0s - loss: 0.0234 - mae: 0.1094 - val_loss: 0.0241 - val_mae: 0.1125 - 74ms/epoch - 6ms/step\n",
            "Epoch 194/500\n",
            "12/12 - 0s - loss: 0.0234 - mae: 0.1107 - val_loss: 0.0243 - val_mae: 0.1102 - 86ms/epoch - 7ms/step\n",
            "Epoch 195/500\n",
            "12/12 - 0s - loss: 0.0232 - mae: 0.1086 - val_loss: 0.0245 - val_mae: 0.1093 - 82ms/epoch - 7ms/step\n",
            "Epoch 196/500\n",
            "12/12 - 0s - loss: 0.0231 - mae: 0.1081 - val_loss: 0.0238 - val_mae: 0.1120 - 67ms/epoch - 6ms/step\n",
            "Epoch 197/500\n",
            "12/12 - 0s - loss: 0.0231 - mae: 0.1105 - val_loss: 0.0238 - val_mae: 0.1100 - 68ms/epoch - 6ms/step\n",
            "Epoch 198/500\n",
            "12/12 - 0s - loss: 0.0229 - mae: 0.1089 - val_loss: 0.0239 - val_mae: 0.1088 - 74ms/epoch - 6ms/step\n",
            "Epoch 199/500\n",
            "12/12 - 0s - loss: 0.0228 - mae: 0.1076 - val_loss: 0.0238 - val_mae: 0.1091 - 92ms/epoch - 8ms/step\n",
            "Epoch 200/500\n",
            "12/12 - 0s - loss: 0.0227 - mae: 0.1081 - val_loss: 0.0238 - val_mae: 0.1083 - 73ms/epoch - 6ms/step\n",
            "Epoch 201/500\n",
            "12/12 - 0s - loss: 0.0226 - mae: 0.1071 - val_loss: 0.0240 - val_mae: 0.1076 - 77ms/epoch - 6ms/step\n",
            "Epoch 202/500\n",
            "12/12 - 0s - loss: 0.0226 - mae: 0.1060 - val_loss: 0.0240 - val_mae: 0.1074 - 80ms/epoch - 7ms/step\n",
            "Epoch 203/500\n",
            "12/12 - 0s - loss: 0.0225 - mae: 0.1058 - val_loss: 0.0241 - val_mae: 0.1071 - 67ms/epoch - 6ms/step\n",
            "Epoch 204/500\n",
            "12/12 - 0s - loss: 0.0224 - mae: 0.1051 - val_loss: 0.0233 - val_mae: 0.1076 - 80ms/epoch - 7ms/step\n",
            "Epoch 205/500\n",
            "12/12 - 0s - loss: 0.0223 - mae: 0.1064 - val_loss: 0.0233 - val_mae: 0.1072 - 71ms/epoch - 6ms/step\n",
            "Epoch 206/500\n",
            "12/12 - 0s - loss: 0.0222 - mae: 0.1062 - val_loss: 0.0236 - val_mae: 0.1064 - 81ms/epoch - 7ms/step\n",
            "Epoch 207/500\n",
            "12/12 - 0s - loss: 0.0221 - mae: 0.1047 - val_loss: 0.0235 - val_mae: 0.1062 - 67ms/epoch - 6ms/step\n",
            "Epoch 208/500\n",
            "12/12 - 0s - loss: 0.0220 - mae: 0.1049 - val_loss: 0.0233 - val_mae: 0.1063 - 69ms/epoch - 6ms/step\n",
            "Epoch 209/500\n",
            "12/12 - 0s - loss: 0.0219 - mae: 0.1049 - val_loss: 0.0231 - val_mae: 0.1063 - 80ms/epoch - 7ms/step\n",
            "Epoch 210/500\n",
            "12/12 - 0s - loss: 0.0218 - mae: 0.1049 - val_loss: 0.0232 - val_mae: 0.1057 - 81ms/epoch - 7ms/step\n",
            "Epoch 211/500\n",
            "12/12 - 0s - loss: 0.0217 - mae: 0.1044 - val_loss: 0.0230 - val_mae: 0.1057 - 83ms/epoch - 7ms/step\n",
            "Epoch 212/500\n",
            "12/12 - 0s - loss: 0.0216 - mae: 0.1042 - val_loss: 0.0228 - val_mae: 0.1059 - 72ms/epoch - 6ms/step\n",
            "Epoch 213/500\n",
            "12/12 - 0s - loss: 0.0215 - mae: 0.1043 - val_loss: 0.0227 - val_mae: 0.1056 - 87ms/epoch - 7ms/step\n",
            "Epoch 214/500\n",
            "12/12 - 0s - loss: 0.0215 - mae: 0.1037 - val_loss: 0.0227 - val_mae: 0.1053 - 102ms/epoch - 8ms/step\n",
            "Epoch 215/500\n",
            "12/12 - 0s - loss: 0.0214 - mae: 0.1036 - val_loss: 0.0227 - val_mae: 0.1049 - 101ms/epoch - 8ms/step\n",
            "Epoch 216/500\n",
            "12/12 - 0s - loss: 0.0213 - mae: 0.1036 - val_loss: 0.0225 - val_mae: 0.1050 - 113ms/epoch - 9ms/step\n",
            "Epoch 217/500\n",
            "12/12 - 0s - loss: 0.0212 - mae: 0.1033 - val_loss: 0.0224 - val_mae: 0.1048 - 130ms/epoch - 11ms/step\n",
            "Epoch 218/500\n",
            "12/12 - 0s - loss: 0.0211 - mae: 0.1030 - val_loss: 0.0223 - val_mae: 0.1046 - 104ms/epoch - 9ms/step\n",
            "Epoch 219/500\n",
            "12/12 - 0s - loss: 0.0210 - mae: 0.1027 - val_loss: 0.0224 - val_mae: 0.1042 - 106ms/epoch - 9ms/step\n",
            "Epoch 220/500\n",
            "12/12 - 0s - loss: 0.0210 - mae: 0.1025 - val_loss: 0.0216 - val_mae: 0.1062 - 109ms/epoch - 9ms/step\n",
            "Epoch 221/500\n",
            "12/12 - 0s - loss: 0.0210 - mae: 0.1047 - val_loss: 0.0216 - val_mae: 0.1051 - 148ms/epoch - 12ms/step\n",
            "Epoch 222/500\n",
            "12/12 - 0s - loss: 0.0208 - mae: 0.1035 - val_loss: 0.0218 - val_mae: 0.1039 - 109ms/epoch - 9ms/step\n",
            "Epoch 223/500\n",
            "12/12 - 0s - loss: 0.0207 - mae: 0.1021 - val_loss: 0.0220 - val_mae: 0.1034 - 94ms/epoch - 8ms/step\n",
            "Epoch 224/500\n",
            "12/12 - 0s - loss: 0.0207 - mae: 0.1016 - val_loss: 0.0215 - val_mae: 0.1043 - 94ms/epoch - 8ms/step\n",
            "Epoch 225/500\n",
            "12/12 - 0s - loss: 0.0206 - mae: 0.1024 - val_loss: 0.0216 - val_mae: 0.1034 - 97ms/epoch - 8ms/step\n",
            "Epoch 226/500\n",
            "12/12 - 0s - loss: 0.0205 - mae: 0.1013 - val_loss: 0.0216 - val_mae: 0.1031 - 110ms/epoch - 9ms/step\n",
            "Epoch 227/500\n",
            "12/12 - 0s - loss: 0.0205 - mae: 0.1012 - val_loss: 0.0215 - val_mae: 0.1030 - 154ms/epoch - 13ms/step\n",
            "Epoch 228/500\n",
            "12/12 - 0s - loss: 0.0203 - mae: 0.1016 - val_loss: 0.0216 - val_mae: 0.1027 - 107ms/epoch - 9ms/step\n",
            "Epoch 229/500\n",
            "12/12 - 0s - loss: 0.0203 - mae: 0.1005 - val_loss: 0.0214 - val_mae: 0.1025 - 103ms/epoch - 9ms/step\n",
            "Epoch 230/500\n",
            "12/12 - 0s - loss: 0.0202 - mae: 0.1006 - val_loss: 0.0208 - val_mae: 0.1033 - 102ms/epoch - 9ms/step\n",
            "Epoch 231/500\n",
            "12/12 - 0s - loss: 0.0202 - mae: 0.1019 - val_loss: 0.0208 - val_mae: 0.1024 - 105ms/epoch - 9ms/step\n",
            "Epoch 232/500\n",
            "12/12 - 0s - loss: 0.0200 - mae: 0.1008 - val_loss: 0.0211 - val_mae: 0.1018 - 99ms/epoch - 8ms/step\n",
            "Epoch 233/500\n",
            "12/12 - 0s - loss: 0.0200 - mae: 0.0998 - val_loss: 0.0215 - val_mae: 0.1019 - 112ms/epoch - 9ms/step\n",
            "Epoch 234/500\n",
            "12/12 - 0s - loss: 0.0201 - mae: 0.0990 - val_loss: 0.0210 - val_mae: 0.1015 - 106ms/epoch - 9ms/step\n",
            "Epoch 235/500\n",
            "12/12 - 0s - loss: 0.0198 - mae: 0.0995 - val_loss: 0.0206 - val_mae: 0.1016 - 100ms/epoch - 8ms/step\n",
            "Epoch 236/500\n",
            "12/12 - 0s - loss: 0.0198 - mae: 0.0999 - val_loss: 0.0205 - val_mae: 0.1014 - 95ms/epoch - 8ms/step\n",
            "Epoch 237/500\n",
            "12/12 - 0s - loss: 0.0197 - mae: 0.0995 - val_loss: 0.0205 - val_mae: 0.1011 - 103ms/epoch - 9ms/step\n",
            "Epoch 238/500\n",
            "12/12 - 0s - loss: 0.0196 - mae: 0.0991 - val_loss: 0.0203 - val_mae: 0.1009 - 99ms/epoch - 8ms/step\n",
            "Epoch 239/500\n",
            "12/12 - 0s - loss: 0.0195 - mae: 0.0991 - val_loss: 0.0205 - val_mae: 0.1006 - 100ms/epoch - 8ms/step\n",
            "Epoch 240/500\n",
            "12/12 - 0s - loss: 0.0194 - mae: 0.0982 - val_loss: 0.0203 - val_mae: 0.1005 - 99ms/epoch - 8ms/step\n",
            "Epoch 241/500\n",
            "12/12 - 0s - loss: 0.0193 - mae: 0.0987 - val_loss: 0.0209 - val_mae: 0.1004 - 109ms/epoch - 9ms/step\n",
            "Epoch 242/500\n",
            "12/12 - 0s - loss: 0.0193 - mae: 0.0971 - val_loss: 0.0202 - val_mae: 0.0999 - 103ms/epoch - 9ms/step\n",
            "Epoch 243/500\n",
            "12/12 - 0s - loss: 0.0191 - mae: 0.0974 - val_loss: 0.0202 - val_mae: 0.0997 - 100ms/epoch - 8ms/step\n",
            "Epoch 244/500\n",
            "12/12 - 0s - loss: 0.0191 - mae: 0.0975 - val_loss: 0.0199 - val_mae: 0.0995 - 120ms/epoch - 10ms/step\n",
            "Epoch 245/500\n",
            "12/12 - 0s - loss: 0.0190 - mae: 0.0976 - val_loss: 0.0199 - val_mae: 0.0993 - 100ms/epoch - 8ms/step\n",
            "Epoch 246/500\n",
            "12/12 - 0s - loss: 0.0189 - mae: 0.0972 - val_loss: 0.0198 - val_mae: 0.0990 - 69ms/epoch - 6ms/step\n",
            "Epoch 247/500\n",
            "12/12 - 0s - loss: 0.0188 - mae: 0.0969 - val_loss: 0.0199 - val_mae: 0.0989 - 83ms/epoch - 7ms/step\n",
            "Epoch 248/500\n",
            "12/12 - 0s - loss: 0.0188 - mae: 0.0964 - val_loss: 0.0198 - val_mae: 0.0987 - 71ms/epoch - 6ms/step\n",
            "Epoch 249/500\n",
            "12/12 - 0s - loss: 0.0187 - mae: 0.0966 - val_loss: 0.0197 - val_mae: 0.0985 - 77ms/epoch - 6ms/step\n",
            "Epoch 250/500\n",
            "12/12 - 0s - loss: 0.0187 - mae: 0.0967 - val_loss: 0.0197 - val_mae: 0.0983 - 70ms/epoch - 6ms/step\n",
            "Epoch 251/500\n",
            "12/12 - 0s - loss: 0.0186 - mae: 0.0958 - val_loss: 0.0195 - val_mae: 0.0981 - 78ms/epoch - 7ms/step\n",
            "Epoch 252/500\n",
            "12/12 - 0s - loss: 0.0186 - mae: 0.0961 - val_loss: 0.0192 - val_mae: 0.0979 - 70ms/epoch - 6ms/step\n",
            "Epoch 253/500\n",
            "12/12 - 0s - loss: 0.0185 - mae: 0.0963 - val_loss: 0.0192 - val_mae: 0.0976 - 69ms/epoch - 6ms/step\n",
            "Epoch 254/500\n",
            "12/12 - 0s - loss: 0.0184 - mae: 0.0957 - val_loss: 0.0188 - val_mae: 0.0980 - 78ms/epoch - 6ms/step\n",
            "Epoch 255/500\n",
            "12/12 - 0s - loss: 0.0183 - mae: 0.0969 - val_loss: 0.0190 - val_mae: 0.0973 - 76ms/epoch - 6ms/step\n",
            "Epoch 256/500\n",
            "12/12 - 0s - loss: 0.0183 - mae: 0.0957 - val_loss: 0.0189 - val_mae: 0.0971 - 71ms/epoch - 6ms/step\n",
            "Epoch 257/500\n",
            "12/12 - 0s - loss: 0.0182 - mae: 0.0957 - val_loss: 0.0191 - val_mae: 0.0969 - 77ms/epoch - 6ms/step\n",
            "Epoch 258/500\n",
            "12/12 - 0s - loss: 0.0182 - mae: 0.0951 - val_loss: 0.0187 - val_mae: 0.0968 - 70ms/epoch - 6ms/step\n",
            "Epoch 259/500\n",
            "12/12 - 0s - loss: 0.0181 - mae: 0.0953 - val_loss: 0.0185 - val_mae: 0.0967 - 72ms/epoch - 6ms/step\n",
            "Epoch 260/500\n",
            "12/12 - 0s - loss: 0.0180 - mae: 0.0959 - val_loss: 0.0188 - val_mae: 0.0963 - 78ms/epoch - 7ms/step\n",
            "Epoch 261/500\n",
            "12/12 - 0s - loss: 0.0180 - mae: 0.0943 - val_loss: 0.0187 - val_mae: 0.0961 - 82ms/epoch - 7ms/step\n",
            "Epoch 262/500\n",
            "12/12 - 0s - loss: 0.0179 - mae: 0.0944 - val_loss: 0.0184 - val_mae: 0.0958 - 79ms/epoch - 7ms/step\n",
            "Epoch 263/500\n",
            "12/12 - 0s - loss: 0.0178 - mae: 0.0946 - val_loss: 0.0181 - val_mae: 0.1004 - 71ms/epoch - 6ms/step\n",
            "Epoch 264/500\n",
            "12/12 - 0s - loss: 0.0182 - mae: 0.0989 - val_loss: 0.0180 - val_mae: 0.0970 - 84ms/epoch - 7ms/step\n",
            "Epoch 265/500\n",
            "12/12 - 0s - loss: 0.0178 - mae: 0.0958 - val_loss: 0.0180 - val_mae: 0.0962 - 80ms/epoch - 7ms/step\n",
            "Epoch 266/500\n",
            "12/12 - 0s - loss: 0.0177 - mae: 0.0952 - val_loss: 0.0180 - val_mae: 0.0953 - 80ms/epoch - 7ms/step\n",
            "Epoch 267/500\n",
            "12/12 - 0s - loss: 0.0176 - mae: 0.0948 - val_loss: 0.0181 - val_mae: 0.0950 - 169ms/epoch - 14ms/step\n",
            "Epoch 268/500\n",
            "12/12 - 0s - loss: 0.0175 - mae: 0.0939 - val_loss: 0.0179 - val_mae: 0.0950 - 139ms/epoch - 12ms/step\n",
            "Epoch 269/500\n",
            "12/12 - 0s - loss: 0.0175 - mae: 0.0943 - val_loss: 0.0180 - val_mae: 0.0947 - 139ms/epoch - 12ms/step\n",
            "Epoch 270/500\n",
            "12/12 - 0s - loss: 0.0174 - mae: 0.0936 - val_loss: 0.0179 - val_mae: 0.0945 - 155ms/epoch - 13ms/step\n",
            "Epoch 271/500\n",
            "12/12 - 0s - loss: 0.0173 - mae: 0.0935 - val_loss: 0.0178 - val_mae: 0.0943 - 155ms/epoch - 13ms/step\n",
            "Epoch 272/500\n",
            "12/12 - 0s - loss: 0.0173 - mae: 0.0936 - val_loss: 0.0180 - val_mae: 0.0942 - 152ms/epoch - 13ms/step\n",
            "Epoch 273/500\n",
            "12/12 - 0s - loss: 0.0173 - mae: 0.0929 - val_loss: 0.0179 - val_mae: 0.0941 - 116ms/epoch - 10ms/step\n",
            "Epoch 274/500\n",
            "12/12 - 0s - loss: 0.0172 - mae: 0.0924 - val_loss: 0.0176 - val_mae: 0.0938 - 110ms/epoch - 9ms/step\n",
            "Epoch 275/500\n",
            "12/12 - 0s - loss: 0.0171 - mae: 0.0929 - val_loss: 0.0175 - val_mae: 0.0936 - 253ms/epoch - 21ms/step\n",
            "Epoch 276/500\n",
            "12/12 - 0s - loss: 0.0170 - mae: 0.0931 - val_loss: 0.0175 - val_mae: 0.0935 - 140ms/epoch - 12ms/step\n",
            "Epoch 277/500\n",
            "12/12 - 0s - loss: 0.0170 - mae: 0.0926 - val_loss: 0.0175 - val_mae: 0.0934 - 114ms/epoch - 10ms/step\n",
            "Epoch 278/500\n",
            "12/12 - 0s - loss: 0.0170 - mae: 0.0926 - val_loss: 0.0175 - val_mae: 0.0933 - 121ms/epoch - 10ms/step\n",
            "Epoch 279/500\n",
            "12/12 - 0s - loss: 0.0169 - mae: 0.0923 - val_loss: 0.0175 - val_mae: 0.0931 - 144ms/epoch - 12ms/step\n",
            "Epoch 280/500\n",
            "12/12 - 0s - loss: 0.0169 - mae: 0.0922 - val_loss: 0.0170 - val_mae: 0.0931 - 233ms/epoch - 19ms/step\n",
            "Epoch 281/500\n",
            "12/12 - 0s - loss: 0.0168 - mae: 0.0927 - val_loss: 0.0167 - val_mae: 0.0936 - 246ms/epoch - 20ms/step\n",
            "Epoch 282/500\n",
            "12/12 - 0s - loss: 0.0168 - mae: 0.0932 - val_loss: 0.0169 - val_mae: 0.0927 - 311ms/epoch - 26ms/step\n",
            "Epoch 283/500\n",
            "12/12 - 0s - loss: 0.0167 - mae: 0.0921 - val_loss: 0.0168 - val_mae: 0.0926 - 162ms/epoch - 14ms/step\n",
            "Epoch 284/500\n",
            "12/12 - 0s - loss: 0.0166 - mae: 0.0920 - val_loss: 0.0167 - val_mae: 0.0923 - 122ms/epoch - 10ms/step\n",
            "Epoch 285/500\n",
            "12/12 - 0s - loss: 0.0166 - mae: 0.0922 - val_loss: 0.0168 - val_mae: 0.0921 - 119ms/epoch - 10ms/step\n",
            "Epoch 286/500\n",
            "12/12 - 0s - loss: 0.0165 - mae: 0.0916 - val_loss: 0.0171 - val_mae: 0.0920 - 145ms/epoch - 12ms/step\n",
            "Epoch 287/500\n",
            "12/12 - 0s - loss: 0.0165 - mae: 0.0909 - val_loss: 0.0170 - val_mae: 0.0917 - 121ms/epoch - 10ms/step\n",
            "Epoch 288/500\n",
            "12/12 - 0s - loss: 0.0164 - mae: 0.0909 - val_loss: 0.0168 - val_mae: 0.0914 - 136ms/epoch - 11ms/step\n",
            "Epoch 289/500\n",
            "12/12 - 0s - loss: 0.0163 - mae: 0.0910 - val_loss: 0.0169 - val_mae: 0.0914 - 129ms/epoch - 11ms/step\n",
            "Epoch 290/500\n",
            "12/12 - 0s - loss: 0.0163 - mae: 0.0903 - val_loss: 0.0163 - val_mae: 0.0910 - 167ms/epoch - 14ms/step\n",
            "Epoch 291/500\n",
            "12/12 - 0s - loss: 0.0162 - mae: 0.0915 - val_loss: 0.0166 - val_mae: 0.0908 - 213ms/epoch - 18ms/step\n",
            "Epoch 292/500\n",
            "12/12 - 0s - loss: 0.0162 - mae: 0.0905 - val_loss: 0.0161 - val_mae: 0.0907 - 231ms/epoch - 19ms/step\n",
            "Epoch 293/500\n",
            "12/12 - 0s - loss: 0.0161 - mae: 0.0910 - val_loss: 0.0161 - val_mae: 0.0905 - 117ms/epoch - 10ms/step\n",
            "Epoch 294/500\n",
            "12/12 - 0s - loss: 0.0161 - mae: 0.0908 - val_loss: 0.0160 - val_mae: 0.0904 - 161ms/epoch - 13ms/step\n",
            "Epoch 295/500\n",
            "12/12 - 0s - loss: 0.0160 - mae: 0.0907 - val_loss: 0.0162 - val_mae: 0.0901 - 204ms/epoch - 17ms/step\n",
            "Epoch 296/500\n",
            "12/12 - 0s - loss: 0.0160 - mae: 0.0899 - val_loss: 0.0162 - val_mae: 0.0899 - 166ms/epoch - 14ms/step\n",
            "Epoch 297/500\n",
            "12/12 - 0s - loss: 0.0160 - mae: 0.0899 - val_loss: 0.0164 - val_mae: 0.0900 - 177ms/epoch - 15ms/step\n",
            "Epoch 298/500\n",
            "12/12 - 0s - loss: 0.0159 - mae: 0.0894 - val_loss: 0.0157 - val_mae: 0.0896 - 161ms/epoch - 13ms/step\n",
            "Epoch 299/500\n",
            "12/12 - 0s - loss: 0.0159 - mae: 0.0904 - val_loss: 0.0160 - val_mae: 0.0895 - 90ms/epoch - 8ms/step\n",
            "Epoch 300/500\n",
            "12/12 - 0s - loss: 0.0158 - mae: 0.0896 - val_loss: 0.0161 - val_mae: 0.0895 - 78ms/epoch - 6ms/step\n",
            "Epoch 301/500\n",
            "12/12 - 0s - loss: 0.0158 - mae: 0.0890 - val_loss: 0.0159 - val_mae: 0.0891 - 70ms/epoch - 6ms/step\n",
            "Epoch 302/500\n",
            "12/12 - 0s - loss: 0.0157 - mae: 0.0891 - val_loss: 0.0162 - val_mae: 0.0894 - 79ms/epoch - 7ms/step\n",
            "Epoch 303/500\n",
            "12/12 - 0s - loss: 0.0157 - mae: 0.0887 - val_loss: 0.0158 - val_mae: 0.0887 - 79ms/epoch - 7ms/step\n",
            "Epoch 304/500\n",
            "12/12 - 0s - loss: 0.0156 - mae: 0.0889 - val_loss: 0.0153 - val_mae: 0.0886 - 70ms/epoch - 6ms/step\n",
            "Epoch 305/500\n",
            "12/12 - 0s - loss: 0.0155 - mae: 0.0893 - val_loss: 0.0153 - val_mae: 0.0883 - 71ms/epoch - 6ms/step\n",
            "Epoch 306/500\n",
            "12/12 - 0s - loss: 0.0154 - mae: 0.0889 - val_loss: 0.0153 - val_mae: 0.0881 - 84ms/epoch - 7ms/step\n",
            "Epoch 307/500\n",
            "12/12 - 0s - loss: 0.0154 - mae: 0.0887 - val_loss: 0.0152 - val_mae: 0.0879 - 81ms/epoch - 7ms/step\n",
            "Epoch 308/500\n",
            "12/12 - 0s - loss: 0.0154 - mae: 0.0883 - val_loss: 0.0152 - val_mae: 0.0878 - 92ms/epoch - 8ms/step\n",
            "Epoch 309/500\n",
            "12/12 - 0s - loss: 0.0153 - mae: 0.0886 - val_loss: 0.0153 - val_mae: 0.0877 - 91ms/epoch - 8ms/step\n",
            "Epoch 310/500\n",
            "12/12 - 0s - loss: 0.0153 - mae: 0.0877 - val_loss: 0.0159 - val_mae: 0.0888 - 92ms/epoch - 8ms/step\n",
            "Epoch 311/500\n",
            "12/12 - 0s - loss: 0.0154 - mae: 0.0873 - val_loss: 0.0150 - val_mae: 0.0872 - 92ms/epoch - 8ms/step\n",
            "Epoch 312/500\n",
            "12/12 - 0s - loss: 0.0153 - mae: 0.0880 - val_loss: 0.0149 - val_mae: 0.0870 - 88ms/epoch - 7ms/step\n",
            "Epoch 313/500\n",
            "12/12 - 0s - loss: 0.0151 - mae: 0.0878 - val_loss: 0.0148 - val_mae: 0.0870 - 81ms/epoch - 7ms/step\n",
            "Epoch 314/500\n",
            "12/12 - 0s - loss: 0.0151 - mae: 0.0877 - val_loss: 0.0146 - val_mae: 0.0871 - 82ms/epoch - 7ms/step\n",
            "Epoch 315/500\n",
            "12/12 - 0s - loss: 0.0151 - mae: 0.0884 - val_loss: 0.0148 - val_mae: 0.0866 - 85ms/epoch - 7ms/step\n",
            "Epoch 316/500\n",
            "12/12 - 0s - loss: 0.0150 - mae: 0.0875 - val_loss: 0.0147 - val_mae: 0.0864 - 94ms/epoch - 8ms/step\n",
            "Epoch 317/500\n",
            "12/12 - 0s - loss: 0.0150 - mae: 0.0869 - val_loss: 0.0144 - val_mae: 0.0865 - 234ms/epoch - 19ms/step\n",
            "Epoch 318/500\n",
            "12/12 - 0s - loss: 0.0149 - mae: 0.0880 - val_loss: 0.0147 - val_mae: 0.0864 - 153ms/epoch - 13ms/step\n",
            "Epoch 319/500\n",
            "12/12 - 0s - loss: 0.0148 - mae: 0.0862 - val_loss: 0.0145 - val_mae: 0.0860 - 160ms/epoch - 13ms/step\n",
            "Epoch 320/500\n",
            "12/12 - 0s - loss: 0.0148 - mae: 0.0866 - val_loss: 0.0145 - val_mae: 0.0859 - 147ms/epoch - 12ms/step\n",
            "Epoch 321/500\n",
            "12/12 - 0s - loss: 0.0147 - mae: 0.0863 - val_loss: 0.0143 - val_mae: 0.0858 - 119ms/epoch - 10ms/step\n",
            "Epoch 322/500\n",
            "12/12 - 0s - loss: 0.0147 - mae: 0.0866 - val_loss: 0.0144 - val_mae: 0.0857 - 199ms/epoch - 17ms/step\n",
            "Epoch 323/500\n",
            "12/12 - 0s - loss: 0.0147 - mae: 0.0859 - val_loss: 0.0142 - val_mae: 0.0856 - 237ms/epoch - 20ms/step\n",
            "Epoch 324/500\n",
            "12/12 - 0s - loss: 0.0146 - mae: 0.0864 - val_loss: 0.0142 - val_mae: 0.0854 - 318ms/epoch - 27ms/step\n",
            "Epoch 325/500\n",
            "12/12 - 0s - loss: 0.0146 - mae: 0.0862 - val_loss: 0.0139 - val_mae: 0.0860 - 295ms/epoch - 25ms/step\n",
            "Epoch 326/500\n",
            "12/12 - 0s - loss: 0.0147 - mae: 0.0874 - val_loss: 0.0143 - val_mae: 0.0851 - 277ms/epoch - 23ms/step\n",
            "Epoch 327/500\n",
            "12/12 - 0s - loss: 0.0145 - mae: 0.0848 - val_loss: 0.0142 - val_mae: 0.0849 - 288ms/epoch - 24ms/step\n",
            "Epoch 328/500\n",
            "12/12 - 0s - loss: 0.0144 - mae: 0.0848 - val_loss: 0.0140 - val_mae: 0.0846 - 195ms/epoch - 16ms/step\n",
            "Epoch 329/500\n",
            "12/12 - 0s - loss: 0.0144 - mae: 0.0852 - val_loss: 0.0141 - val_mae: 0.0846 - 198ms/epoch - 16ms/step\n",
            "Epoch 330/500\n",
            "12/12 - 0s - loss: 0.0143 - mae: 0.0847 - val_loss: 0.0144 - val_mae: 0.0851 - 192ms/epoch - 16ms/step\n",
            "Epoch 331/500\n",
            "12/12 - 0s - loss: 0.0144 - mae: 0.0842 - val_loss: 0.0143 - val_mae: 0.0849 - 235ms/epoch - 20ms/step\n",
            "Epoch 332/500\n",
            "12/12 - 0s - loss: 0.0143 - mae: 0.0837 - val_loss: 0.0140 - val_mae: 0.0843 - 217ms/epoch - 18ms/step\n",
            "Epoch 333/500\n",
            "12/12 - 0s - loss: 0.0142 - mae: 0.0839 - val_loss: 0.0142 - val_mae: 0.0845 - 130ms/epoch - 11ms/step\n",
            "Epoch 334/500\n",
            "12/12 - 0s - loss: 0.0142 - mae: 0.0837 - val_loss: 0.0142 - val_mae: 0.0846 - 165ms/epoch - 14ms/step\n",
            "Epoch 335/500\n",
            "12/12 - 0s - loss: 0.0142 - mae: 0.0834 - val_loss: 0.0138 - val_mae: 0.0838 - 103ms/epoch - 9ms/step\n",
            "Epoch 336/500\n",
            "12/12 - 0s - loss: 0.0141 - mae: 0.0839 - val_loss: 0.0137 - val_mae: 0.0836 - 120ms/epoch - 10ms/step\n",
            "Epoch 337/500\n",
            "12/12 - 0s - loss: 0.0141 - mae: 0.0837 - val_loss: 0.0137 - val_mae: 0.0836 - 185ms/epoch - 15ms/step\n",
            "Epoch 338/500\n",
            "12/12 - 0s - loss: 0.0140 - mae: 0.0836 - val_loss: 0.0138 - val_mae: 0.0836 - 166ms/epoch - 14ms/step\n",
            "Epoch 339/500\n",
            "12/12 - 0s - loss: 0.0140 - mae: 0.0834 - val_loss: 0.0138 - val_mae: 0.0836 - 252ms/epoch - 21ms/step\n",
            "Epoch 340/500\n",
            "12/12 - 0s - loss: 0.0140 - mae: 0.0832 - val_loss: 0.0138 - val_mae: 0.0838 - 218ms/epoch - 18ms/step\n",
            "Epoch 341/500\n",
            "12/12 - 0s - loss: 0.0140 - mae: 0.0827 - val_loss: 0.0135 - val_mae: 0.0829 - 149ms/epoch - 12ms/step\n",
            "Epoch 342/500\n",
            "12/12 - 0s - loss: 0.0139 - mae: 0.0828 - val_loss: 0.0135 - val_mae: 0.0828 - 122ms/epoch - 10ms/step\n",
            "Epoch 343/500\n",
            "12/12 - 0s - loss: 0.0138 - mae: 0.0824 - val_loss: 0.0138 - val_mae: 0.0832 - 123ms/epoch - 10ms/step\n",
            "Epoch 344/500\n",
            "12/12 - 0s - loss: 0.0138 - mae: 0.0819 - val_loss: 0.0138 - val_mae: 0.0834 - 162ms/epoch - 13ms/step\n",
            "Epoch 345/500\n",
            "12/12 - 0s - loss: 0.0138 - mae: 0.0818 - val_loss: 0.0138 - val_mae: 0.0831 - 117ms/epoch - 10ms/step\n",
            "Epoch 346/500\n",
            "12/12 - 0s - loss: 0.0138 - mae: 0.0816 - val_loss: 0.0133 - val_mae: 0.0824 - 165ms/epoch - 14ms/step\n",
            "Epoch 347/500\n",
            "12/12 - 0s - loss: 0.0137 - mae: 0.0824 - val_loss: 0.0134 - val_mae: 0.0824 - 81ms/epoch - 7ms/step\n",
            "Epoch 348/500\n",
            "12/12 - 0s - loss: 0.0137 - mae: 0.0817 - val_loss: 0.0131 - val_mae: 0.0823 - 79ms/epoch - 7ms/step\n",
            "Epoch 349/500\n",
            "12/12 - 0s - loss: 0.0137 - mae: 0.0826 - val_loss: 0.0131 - val_mae: 0.0822 - 70ms/epoch - 6ms/step\n",
            "Epoch 350/500\n",
            "12/12 - 0s - loss: 0.0137 - mae: 0.0825 - val_loss: 0.0133 - val_mae: 0.0822 - 70ms/epoch - 6ms/step\n",
            "Epoch 351/500\n",
            "12/12 - 0s - loss: 0.0136 - mae: 0.0816 - val_loss: 0.0135 - val_mae: 0.0826 - 85ms/epoch - 7ms/step\n",
            "Epoch 352/500\n",
            "12/12 - 0s - loss: 0.0136 - mae: 0.0810 - val_loss: 0.0128 - val_mae: 0.0822 - 69ms/epoch - 6ms/step\n",
            "Epoch 353/500\n",
            "12/12 - 0s - loss: 0.0135 - mae: 0.0825 - val_loss: 0.0133 - val_mae: 0.0822 - 90ms/epoch - 7ms/step\n",
            "Epoch 354/500\n",
            "12/12 - 0s - loss: 0.0135 - mae: 0.0808 - val_loss: 0.0134 - val_mae: 0.0825 - 81ms/epoch - 7ms/step\n",
            "Epoch 355/500\n",
            "12/12 - 0s - loss: 0.0135 - mae: 0.0808 - val_loss: 0.0130 - val_mae: 0.0818 - 82ms/epoch - 7ms/step\n",
            "Epoch 356/500\n",
            "12/12 - 0s - loss: 0.0134 - mae: 0.0809 - val_loss: 0.0131 - val_mae: 0.0818 - 71ms/epoch - 6ms/step\n",
            "Epoch 357/500\n",
            "12/12 - 0s - loss: 0.0134 - mae: 0.0805 - val_loss: 0.0127 - val_mae: 0.0819 - 75ms/epoch - 6ms/step\n",
            "Epoch 358/500\n",
            "12/12 - 0s - loss: 0.0134 - mae: 0.0820 - val_loss: 0.0129 - val_mae: 0.0815 - 83ms/epoch - 7ms/step\n",
            "Epoch 359/500\n",
            "12/12 - 0s - loss: 0.0134 - mae: 0.0811 - val_loss: 0.0130 - val_mae: 0.0815 - 81ms/epoch - 7ms/step\n",
            "Epoch 360/500\n",
            "12/12 - 0s - loss: 0.0133 - mae: 0.0807 - val_loss: 0.0130 - val_mae: 0.0815 - 89ms/epoch - 7ms/step\n",
            "Epoch 361/500\n",
            "12/12 - 0s - loss: 0.0133 - mae: 0.0808 - val_loss: 0.0135 - val_mae: 0.0826 - 84ms/epoch - 7ms/step\n",
            "Epoch 362/500\n",
            "12/12 - 0s - loss: 0.0133 - mae: 0.0798 - val_loss: 0.0133 - val_mae: 0.0821 - 73ms/epoch - 6ms/step\n",
            "Epoch 363/500\n",
            "12/12 - 0s - loss: 0.0133 - mae: 0.0798 - val_loss: 0.0128 - val_mae: 0.0813 - 89ms/epoch - 7ms/step\n",
            "Epoch 364/500\n",
            "12/12 - 0s - loss: 0.0132 - mae: 0.0805 - val_loss: 0.0128 - val_mae: 0.0812 - 83ms/epoch - 7ms/step\n",
            "Epoch 365/500\n",
            "12/12 - 0s - loss: 0.0132 - mae: 0.0801 - val_loss: 0.0132 - val_mae: 0.0818 - 83ms/epoch - 7ms/step\n",
            "Epoch 366/500\n",
            "12/12 - 0s - loss: 0.0132 - mae: 0.0794 - val_loss: 0.0130 - val_mae: 0.0815 - 70ms/epoch - 6ms/step\n",
            "Epoch 367/500\n",
            "12/12 - 0s - loss: 0.0131 - mae: 0.0795 - val_loss: 0.0129 - val_mae: 0.0870 - 96ms/epoch - 8ms/step\n",
            "Epoch 368/500\n",
            "12/12 - 0s - loss: 0.0138 - mae: 0.0859 - val_loss: 0.0126 - val_mae: 0.0817 - 81ms/epoch - 7ms/step\n",
            "Epoch 369/500\n",
            "12/12 - 0s - loss: 0.0133 - mae: 0.0812 - val_loss: 0.0126 - val_mae: 0.0814 - 73ms/epoch - 6ms/step\n",
            "Epoch 370/500\n",
            "12/12 - 0s - loss: 0.0132 - mae: 0.0809 - val_loss: 0.0126 - val_mae: 0.0811 - 82ms/epoch - 7ms/step\n",
            "Epoch 371/500\n",
            "12/12 - 0s - loss: 0.0131 - mae: 0.0808 - val_loss: 0.0128 - val_mae: 0.0812 - 82ms/epoch - 7ms/step\n",
            "Epoch 372/500\n",
            "12/12 - 0s - loss: 0.0130 - mae: 0.0791 - val_loss: 0.0127 - val_mae: 0.0810 - 71ms/epoch - 6ms/step\n",
            "Epoch 373/500\n",
            "12/12 - 0s - loss: 0.0130 - mae: 0.0802 - val_loss: 0.0140 - val_mae: 0.0843 - 71ms/epoch - 6ms/step\n",
            "Epoch 374/500\n",
            "12/12 - 0s - loss: 0.0132 - mae: 0.0787 - val_loss: 0.0130 - val_mae: 0.0814 - 81ms/epoch - 7ms/step\n",
            "Epoch 375/500\n",
            "12/12 - 0s - loss: 0.0130 - mae: 0.0791 - val_loss: 0.0127 - val_mae: 0.0807 - 73ms/epoch - 6ms/step\n",
            "Epoch 376/500\n",
            "12/12 - 0s - loss: 0.0130 - mae: 0.0795 - val_loss: 0.0140 - val_mae: 0.0845 - 72ms/epoch - 6ms/step\n",
            "Epoch 377/500\n",
            "12/12 - 0s - loss: 0.0132 - mae: 0.0780 - val_loss: 0.0131 - val_mae: 0.0815 - 79ms/epoch - 7ms/step\n",
            "Epoch 378/500\n",
            "12/12 - 0s - loss: 0.0129 - mae: 0.0786 - val_loss: 0.0127 - val_mae: 0.0807 - 72ms/epoch - 6ms/step\n",
            "Epoch 379/500\n",
            "12/12 - 0s - loss: 0.0129 - mae: 0.0785 - val_loss: 0.0123 - val_mae: 0.0803 - 79ms/epoch - 7ms/step\n",
            "Epoch 380/500\n",
            "12/12 - 0s - loss: 0.0129 - mae: 0.0797 - val_loss: 0.0126 - val_mae: 0.0804 - 71ms/epoch - 6ms/step\n",
            "Epoch 381/500\n",
            "12/12 - 0s - loss: 0.0128 - mae: 0.0789 - val_loss: 0.0131 - val_mae: 0.0816 - 74ms/epoch - 6ms/step\n",
            "Epoch 382/500\n",
            "12/12 - 0s - loss: 0.0128 - mae: 0.0781 - val_loss: 0.0125 - val_mae: 0.0804 - 75ms/epoch - 6ms/step\n",
            "Epoch 383/500\n",
            "12/12 - 0s - loss: 0.0128 - mae: 0.0785 - val_loss: 0.0126 - val_mae: 0.0805 - 71ms/epoch - 6ms/step\n",
            "Epoch 384/500\n",
            "12/12 - 0s - loss: 0.0127 - mae: 0.0778 - val_loss: 0.0123 - val_mae: 0.0802 - 80ms/epoch - 7ms/step\n",
            "Epoch 385/500\n",
            "12/12 - 0s - loss: 0.0127 - mae: 0.0785 - val_loss: 0.0127 - val_mae: 0.0807 - 81ms/epoch - 7ms/step\n",
            "Epoch 386/500\n",
            "12/12 - 0s - loss: 0.0127 - mae: 0.0777 - val_loss: 0.0123 - val_mae: 0.0800 - 75ms/epoch - 6ms/step\n",
            "Epoch 387/500\n",
            "12/12 - 0s - loss: 0.0127 - mae: 0.0785 - val_loss: 0.0123 - val_mae: 0.0844 - 81ms/epoch - 7ms/step\n",
            "Epoch 388/500\n",
            "12/12 - 0s - loss: 0.0131 - mae: 0.0841 - val_loss: 0.0121 - val_mae: 0.0808 - 75ms/epoch - 6ms/step\n",
            "Epoch 389/500\n",
            "12/12 - 0s - loss: 0.0128 - mae: 0.0807 - val_loss: 0.0126 - val_mae: 0.0806 - 85ms/epoch - 7ms/step\n",
            "Epoch 390/500\n",
            "12/12 - 0s - loss: 0.0126 - mae: 0.0779 - val_loss: 0.0125 - val_mae: 0.0804 - 80ms/epoch - 7ms/step\n",
            "Epoch 391/500\n",
            "12/12 - 0s - loss: 0.0126 - mae: 0.0778 - val_loss: 0.0123 - val_mae: 0.0801 - 72ms/epoch - 6ms/step\n",
            "Epoch 392/500\n",
            "12/12 - 0s - loss: 0.0126 - mae: 0.0785 - val_loss: 0.0124 - val_mae: 0.0803 - 79ms/epoch - 7ms/step\n",
            "Epoch 393/500\n",
            "12/12 - 0s - loss: 0.0125 - mae: 0.0778 - val_loss: 0.0126 - val_mae: 0.0808 - 81ms/epoch - 7ms/step\n",
            "Epoch 394/500\n",
            "12/12 - 0s - loss: 0.0125 - mae: 0.0775 - val_loss: 0.0127 - val_mae: 0.0811 - 84ms/epoch - 7ms/step\n",
            "Epoch 395/500\n",
            "12/12 - 0s - loss: 0.0125 - mae: 0.0774 - val_loss: 0.0123 - val_mae: 0.0800 - 69ms/epoch - 6ms/step\n",
            "Epoch 396/500\n",
            "12/12 - 0s - loss: 0.0125 - mae: 0.0775 - val_loss: 0.0124 - val_mae: 0.0802 - 69ms/epoch - 6ms/step\n",
            "Epoch 397/500\n",
            "12/12 - 0s - loss: 0.0125 - mae: 0.0773 - val_loss: 0.0124 - val_mae: 0.0800 - 72ms/epoch - 6ms/step\n",
            "Epoch 398/500\n",
            "12/12 - 0s - loss: 0.0124 - mae: 0.0771 - val_loss: 0.0123 - val_mae: 0.0800 - 69ms/epoch - 6ms/step\n",
            "Epoch 399/500\n",
            "12/12 - 0s - loss: 0.0124 - mae: 0.0774 - val_loss: 0.0126 - val_mae: 0.0808 - 73ms/epoch - 6ms/step\n",
            "Epoch 400/500\n",
            "12/12 - 0s - loss: 0.0124 - mae: 0.0769 - val_loss: 0.0124 - val_mae: 0.0801 - 83ms/epoch - 7ms/step\n",
            "Epoch 401/500\n",
            "12/12 - 0s - loss: 0.0123 - mae: 0.0766 - val_loss: 0.0121 - val_mae: 0.0796 - 83ms/epoch - 7ms/step\n",
            "Epoch 402/500\n",
            "12/12 - 0s - loss: 0.0123 - mae: 0.0773 - val_loss: 0.0122 - val_mae: 0.0797 - 73ms/epoch - 6ms/step\n",
            "Epoch 403/500\n",
            "12/12 - 0s - loss: 0.0123 - mae: 0.0768 - val_loss: 0.0121 - val_mae: 0.0796 - 71ms/epoch - 6ms/step\n",
            "Epoch 404/500\n",
            "12/12 - 0s - loss: 0.0123 - mae: 0.0767 - val_loss: 0.0121 - val_mae: 0.0796 - 81ms/epoch - 7ms/step\n",
            "Epoch 405/500\n",
            "12/12 - 0s - loss: 0.0123 - mae: 0.0767 - val_loss: 0.0121 - val_mae: 0.0796 - 70ms/epoch - 6ms/step\n",
            "Epoch 406/500\n",
            "12/12 - 0s - loss: 0.0122 - mae: 0.0768 - val_loss: 0.0122 - val_mae: 0.0799 - 70ms/epoch - 6ms/step\n",
            "Epoch 407/500\n",
            "12/12 - 0s - loss: 0.0122 - mae: 0.0760 - val_loss: 0.0117 - val_mae: 0.0809 - 82ms/epoch - 7ms/step\n",
            "Epoch 408/500\n",
            "12/12 - 0s - loss: 0.0124 - mae: 0.0800 - val_loss: 0.0119 - val_mae: 0.0795 - 81ms/epoch - 7ms/step\n",
            "Epoch 409/500\n",
            "12/12 - 0s - loss: 0.0122 - mae: 0.0771 - val_loss: 0.0116 - val_mae: 0.0797 - 81ms/epoch - 7ms/step\n",
            "Epoch 410/500\n",
            "12/12 - 0s - loss: 0.0122 - mae: 0.0780 - val_loss: 0.0119 - val_mae: 0.0794 - 90ms/epoch - 7ms/step\n",
            "Epoch 411/500\n",
            "12/12 - 0s - loss: 0.0122 - mae: 0.0768 - val_loss: 0.0115 - val_mae: 0.0799 - 74ms/epoch - 6ms/step\n",
            "Epoch 412/500\n",
            "12/12 - 0s - loss: 0.0122 - mae: 0.0788 - val_loss: 0.0117 - val_mae: 0.0792 - 68ms/epoch - 6ms/step\n",
            "Epoch 413/500\n",
            "12/12 - 0s - loss: 0.0121 - mae: 0.0767 - val_loss: 0.0122 - val_mae: 0.0802 - 83ms/epoch - 7ms/step\n",
            "Epoch 414/500\n",
            "12/12 - 0s - loss: 0.0121 - mae: 0.0761 - val_loss: 0.0120 - val_mae: 0.0795 - 71ms/epoch - 6ms/step\n",
            "Epoch 415/500\n",
            "12/12 - 0s - loss: 0.0121 - mae: 0.0760 - val_loss: 0.0117 - val_mae: 0.0790 - 81ms/epoch - 7ms/step\n",
            "Epoch 416/500\n",
            "12/12 - 0s - loss: 0.0120 - mae: 0.0765 - val_loss: 0.0119 - val_mae: 0.0793 - 98ms/epoch - 8ms/step\n",
            "Epoch 417/500\n",
            "12/12 - 0s - loss: 0.0120 - mae: 0.0759 - val_loss: 0.0118 - val_mae: 0.0792 - 71ms/epoch - 6ms/step\n",
            "Epoch 418/500\n",
            "12/12 - 0s - loss: 0.0120 - mae: 0.0755 - val_loss: 0.0116 - val_mae: 0.0787 - 70ms/epoch - 6ms/step\n",
            "Epoch 419/500\n",
            "12/12 - 0s - loss: 0.0120 - mae: 0.0765 - val_loss: 0.0118 - val_mae: 0.0791 - 70ms/epoch - 6ms/step\n",
            "Epoch 420/500\n",
            "12/12 - 0s - loss: 0.0119 - mae: 0.0754 - val_loss: 0.0115 - val_mae: 0.0786 - 71ms/epoch - 6ms/step\n",
            "Epoch 421/500\n",
            "12/12 - 0s - loss: 0.0120 - mae: 0.0765 - val_loss: 0.0118 - val_mae: 0.0790 - 75ms/epoch - 6ms/step\n",
            "Epoch 422/500\n",
            "12/12 - 0s - loss: 0.0119 - mae: 0.0755 - val_loss: 0.0113 - val_mae: 0.0785 - 72ms/epoch - 6ms/step\n",
            "Epoch 423/500\n",
            "12/12 - 0s - loss: 0.0119 - mae: 0.0768 - val_loss: 0.0117 - val_mae: 0.0788 - 74ms/epoch - 6ms/step\n",
            "Epoch 424/500\n",
            "12/12 - 0s - loss: 0.0119 - mae: 0.0759 - val_loss: 0.0115 - val_mae: 0.0784 - 83ms/epoch - 7ms/step\n",
            "Epoch 425/500\n",
            "12/12 - 0s - loss: 0.0119 - mae: 0.0759 - val_loss: 0.0114 - val_mae: 0.0784 - 70ms/epoch - 6ms/step\n",
            "Epoch 426/500\n",
            "12/12 - 0s - loss: 0.0118 - mae: 0.0761 - val_loss: 0.0123 - val_mae: 0.0807 - 69ms/epoch - 6ms/step\n",
            "Epoch 427/500\n",
            "12/12 - 0s - loss: 0.0119 - mae: 0.0748 - val_loss: 0.0120 - val_mae: 0.0797 - 77ms/epoch - 6ms/step\n",
            "Epoch 428/500\n",
            "12/12 - 0s - loss: 0.0118 - mae: 0.0750 - val_loss: 0.0123 - val_mae: 0.0806 - 75ms/epoch - 6ms/step\n",
            "Epoch 429/500\n",
            "12/12 - 0s - loss: 0.0119 - mae: 0.0747 - val_loss: 0.0122 - val_mae: 0.0803 - 83ms/epoch - 7ms/step\n",
            "Epoch 430/500\n",
            "12/12 - 0s - loss: 0.0118 - mae: 0.0747 - val_loss: 0.0119 - val_mae: 0.0794 - 85ms/epoch - 7ms/step\n",
            "Epoch 431/500\n",
            "12/12 - 0s - loss: 0.0118 - mae: 0.0744 - val_loss: 0.0113 - val_mae: 0.0780 - 83ms/epoch - 7ms/step\n",
            "Epoch 432/500\n",
            "12/12 - 0s - loss: 0.0117 - mae: 0.0753 - val_loss: 0.0113 - val_mae: 0.0780 - 82ms/epoch - 7ms/step\n",
            "Epoch 433/500\n",
            "12/12 - 0s - loss: 0.0117 - mae: 0.0751 - val_loss: 0.0115 - val_mae: 0.0783 - 82ms/epoch - 7ms/step\n",
            "Epoch 434/500\n",
            "12/12 - 0s - loss: 0.0117 - mae: 0.0749 - val_loss: 0.0116 - val_mae: 0.0784 - 81ms/epoch - 7ms/step\n",
            "Epoch 435/500\n",
            "12/12 - 0s - loss: 0.0117 - mae: 0.0747 - val_loss: 0.0114 - val_mae: 0.0781 - 73ms/epoch - 6ms/step\n",
            "Epoch 436/500\n",
            "12/12 - 0s - loss: 0.0116 - mae: 0.0746 - val_loss: 0.0115 - val_mae: 0.0782 - 84ms/epoch - 7ms/step\n",
            "Epoch 437/500\n",
            "12/12 - 0s - loss: 0.0116 - mae: 0.0743 - val_loss: 0.0113 - val_mae: 0.0778 - 79ms/epoch - 7ms/step\n",
            "Epoch 438/500\n",
            "12/12 - 0s - loss: 0.0116 - mae: 0.0748 - val_loss: 0.0115 - val_mae: 0.0782 - 72ms/epoch - 6ms/step\n",
            "Epoch 439/500\n",
            "12/12 - 0s - loss: 0.0116 - mae: 0.0744 - val_loss: 0.0114 - val_mae: 0.0780 - 80ms/epoch - 7ms/step\n",
            "Epoch 440/500\n",
            "12/12 - 0s - loss: 0.0115 - mae: 0.0742 - val_loss: 0.0110 - val_mae: 0.0775 - 83ms/epoch - 7ms/step\n",
            "Epoch 441/500\n",
            "12/12 - 0s - loss: 0.0116 - mae: 0.0751 - val_loss: 0.0111 - val_mae: 0.0775 - 83ms/epoch - 7ms/step\n",
            "Epoch 442/500\n",
            "12/12 - 0s - loss: 0.0115 - mae: 0.0745 - val_loss: 0.0111 - val_mae: 0.0775 - 89ms/epoch - 7ms/step\n",
            "Epoch 443/500\n",
            "12/12 - 0s - loss: 0.0115 - mae: 0.0747 - val_loss: 0.0116 - val_mae: 0.0783 - 88ms/epoch - 7ms/step\n",
            "Epoch 444/500\n",
            "12/12 - 0s - loss: 0.0115 - mae: 0.0738 - val_loss: 0.0114 - val_mae: 0.0779 - 85ms/epoch - 7ms/step\n",
            "Epoch 445/500\n",
            "12/12 - 0s - loss: 0.0115 - mae: 0.0741 - val_loss: 0.0114 - val_mae: 0.0780 - 82ms/epoch - 7ms/step\n",
            "Epoch 446/500\n",
            "12/12 - 0s - loss: 0.0115 - mae: 0.0741 - val_loss: 0.0111 - val_mae: 0.0773 - 79ms/epoch - 7ms/step\n",
            "Epoch 447/500\n",
            "12/12 - 0s - loss: 0.0114 - mae: 0.0745 - val_loss: 0.0113 - val_mae: 0.0777 - 85ms/epoch - 7ms/step\n",
            "Epoch 448/500\n",
            "12/12 - 0s - loss: 0.0115 - mae: 0.0742 - val_loss: 0.0116 - val_mae: 0.0785 - 75ms/epoch - 6ms/step\n",
            "Epoch 449/500\n",
            "12/12 - 0s - loss: 0.0115 - mae: 0.0737 - val_loss: 0.0113 - val_mae: 0.0775 - 85ms/epoch - 7ms/step\n",
            "Epoch 450/500\n",
            "12/12 - 0s - loss: 0.0114 - mae: 0.0740 - val_loss: 0.0113 - val_mae: 0.0776 - 83ms/epoch - 7ms/step\n",
            "Epoch 451/500\n",
            "12/12 - 0s - loss: 0.0114 - mae: 0.0739 - val_loss: 0.0112 - val_mae: 0.0775 - 77ms/epoch - 6ms/step\n",
            "Epoch 452/500\n",
            "12/12 - 0s - loss: 0.0114 - mae: 0.0740 - val_loss: 0.0110 - val_mae: 0.0771 - 83ms/epoch - 7ms/step\n",
            "Epoch 453/500\n",
            "12/12 - 0s - loss: 0.0114 - mae: 0.0743 - val_loss: 0.0110 - val_mae: 0.0771 - 85ms/epoch - 7ms/step\n",
            "Epoch 454/500\n",
            "12/12 - 0s - loss: 0.0114 - mae: 0.0744 - val_loss: 0.0111 - val_mae: 0.0772 - 74ms/epoch - 6ms/step\n",
            "Epoch 455/500\n",
            "12/12 - 0s - loss: 0.0113 - mae: 0.0738 - val_loss: 0.0111 - val_mae: 0.0772 - 80ms/epoch - 7ms/step\n",
            "Epoch 456/500\n",
            "12/12 - 0s - loss: 0.0113 - mae: 0.0737 - val_loss: 0.0109 - val_mae: 0.0768 - 100ms/epoch - 8ms/step\n",
            "Epoch 457/500\n",
            "12/12 - 0s - loss: 0.0113 - mae: 0.0745 - val_loss: 0.0109 - val_mae: 0.0768 - 107ms/epoch - 9ms/step\n",
            "Epoch 458/500\n",
            "12/12 - 0s - loss: 0.0113 - mae: 0.0744 - val_loss: 0.0110 - val_mae: 0.0769 - 101ms/epoch - 8ms/step\n",
            "Epoch 459/500\n",
            "12/12 - 0s - loss: 0.0113 - mae: 0.0739 - val_loss: 0.0108 - val_mae: 0.0768 - 107ms/epoch - 9ms/step\n",
            "Epoch 460/500\n",
            "12/12 - 0s - loss: 0.0113 - mae: 0.0741 - val_loss: 0.0112 - val_mae: 0.0772 - 101ms/epoch - 8ms/step\n",
            "Epoch 461/500\n",
            "12/12 - 0s - loss: 0.0113 - mae: 0.0734 - val_loss: 0.0107 - val_mae: 0.0778 - 104ms/epoch - 9ms/step\n",
            "Epoch 462/500\n",
            "12/12 - 0s - loss: 0.0114 - mae: 0.0758 - val_loss: 0.0109 - val_mae: 0.0770 - 118ms/epoch - 10ms/step\n",
            "Epoch 463/500\n",
            "12/12 - 0s - loss: 0.0113 - mae: 0.0740 - val_loss: 0.0110 - val_mae: 0.0770 - 105ms/epoch - 9ms/step\n",
            "Epoch 464/500\n",
            "12/12 - 0s - loss: 0.0112 - mae: 0.0736 - val_loss: 0.0110 - val_mae: 0.0770 - 129ms/epoch - 11ms/step\n",
            "Epoch 465/500\n",
            "12/12 - 0s - loss: 0.0112 - mae: 0.0733 - val_loss: 0.0107 - val_mae: 0.0767 - 108ms/epoch - 9ms/step\n",
            "Epoch 466/500\n",
            "12/12 - 0s - loss: 0.0112 - mae: 0.0746 - val_loss: 0.0112 - val_mae: 0.0774 - 103ms/epoch - 9ms/step\n",
            "Epoch 467/500\n",
            "12/12 - 0s - loss: 0.0112 - mae: 0.0729 - val_loss: 0.0109 - val_mae: 0.0768 - 98ms/epoch - 8ms/step\n",
            "Epoch 468/500\n",
            "12/12 - 0s - loss: 0.0112 - mae: 0.0733 - val_loss: 0.0109 - val_mae: 0.0769 - 104ms/epoch - 9ms/step\n",
            "Epoch 469/500\n",
            "12/12 - 0s - loss: 0.0111 - mae: 0.0730 - val_loss: 0.0109 - val_mae: 0.0767 - 103ms/epoch - 9ms/step\n",
            "Epoch 470/500\n",
            "12/12 - 0s - loss: 0.0111 - mae: 0.0732 - val_loss: 0.0108 - val_mae: 0.0766 - 104ms/epoch - 9ms/step\n",
            "Epoch 471/500\n",
            "12/12 - 0s - loss: 0.0112 - mae: 0.0735 - val_loss: 0.0107 - val_mae: 0.0766 - 119ms/epoch - 10ms/step\n",
            "Epoch 472/500\n",
            "12/12 - 0s - loss: 0.0111 - mae: 0.0738 - val_loss: 0.0109 - val_mae: 0.0767 - 143ms/epoch - 12ms/step\n",
            "Epoch 473/500\n",
            "12/12 - 0s - loss: 0.0111 - mae: 0.0732 - val_loss: 0.0108 - val_mae: 0.0766 - 109ms/epoch - 9ms/step\n",
            "Epoch 474/500\n",
            "12/12 - 0s - loss: 0.0111 - mae: 0.0732 - val_loss: 0.0108 - val_mae: 0.0766 - 97ms/epoch - 8ms/step\n",
            "Epoch 475/500\n",
            "12/12 - 0s - loss: 0.0111 - mae: 0.0731 - val_loss: 0.0107 - val_mae: 0.0764 - 108ms/epoch - 9ms/step\n",
            "Epoch 476/500\n",
            "12/12 - 0s - loss: 0.0111 - mae: 0.0735 - val_loss: 0.0109 - val_mae: 0.0766 - 112ms/epoch - 9ms/step\n",
            "Epoch 477/500\n",
            "12/12 - 0s - loss: 0.0111 - mae: 0.0730 - val_loss: 0.0109 - val_mae: 0.0767 - 108ms/epoch - 9ms/step\n",
            "Epoch 478/500\n",
            "12/12 - 0s - loss: 0.0111 - mae: 0.0730 - val_loss: 0.0110 - val_mae: 0.0769 - 99ms/epoch - 8ms/step\n",
            "Epoch 479/500\n",
            "12/12 - 0s - loss: 0.0111 - mae: 0.0729 - val_loss: 0.0110 - val_mae: 0.0771 - 91ms/epoch - 8ms/step\n",
            "Epoch 480/500\n",
            "12/12 - 0s - loss: 0.0110 - mae: 0.0725 - val_loss: 0.0109 - val_mae: 0.0767 - 117ms/epoch - 10ms/step\n",
            "Epoch 481/500\n",
            "12/12 - 0s - loss: 0.0110 - mae: 0.0726 - val_loss: 0.0106 - val_mae: 0.0763 - 111ms/epoch - 9ms/step\n",
            "Epoch 482/500\n",
            "12/12 - 0s - loss: 0.0110 - mae: 0.0733 - val_loss: 0.0106 - val_mae: 0.0762 - 106ms/epoch - 9ms/step\n",
            "Epoch 483/500\n",
            "12/12 - 0s - loss: 0.0110 - mae: 0.0735 - val_loss: 0.0109 - val_mae: 0.0767 - 103ms/epoch - 9ms/step\n",
            "Epoch 484/500\n",
            "12/12 - 0s - loss: 0.0110 - mae: 0.0725 - val_loss: 0.0105 - val_mae: 0.0763 - 114ms/epoch - 9ms/step\n",
            "Epoch 485/500\n",
            "12/12 - 0s - loss: 0.0110 - mae: 0.0741 - val_loss: 0.0108 - val_mae: 0.0766 - 103ms/epoch - 9ms/step\n",
            "Epoch 486/500\n",
            "12/12 - 0s - loss: 0.0109 - mae: 0.0724 - val_loss: 0.0107 - val_mae: 0.0763 - 108ms/epoch - 9ms/step\n",
            "Epoch 487/500\n",
            "12/12 - 0s - loss: 0.0110 - mae: 0.0728 - val_loss: 0.0107 - val_mae: 0.0762 - 93ms/epoch - 8ms/step\n",
            "Epoch 488/500\n",
            "12/12 - 0s - loss: 0.0109 - mae: 0.0726 - val_loss: 0.0104 - val_mae: 0.0761 - 70ms/epoch - 6ms/step\n",
            "Epoch 489/500\n",
            "12/12 - 0s - loss: 0.0109 - mae: 0.0737 - val_loss: 0.0104 - val_mae: 0.0761 - 70ms/epoch - 6ms/step\n",
            "Epoch 490/500\n",
            "12/12 - 0s - loss: 0.0109 - mae: 0.0739 - val_loss: 0.0115 - val_mae: 0.0786 - 85ms/epoch - 7ms/step\n",
            "Epoch 491/500\n",
            "12/12 - 0s - loss: 0.0111 - mae: 0.0719 - val_loss: 0.0112 - val_mae: 0.0777 - 81ms/epoch - 7ms/step\n",
            "Epoch 492/500\n",
            "12/12 - 0s - loss: 0.0110 - mae: 0.0719 - val_loss: 0.0104 - val_mae: 0.0762 - 75ms/epoch - 6ms/step\n",
            "Epoch 493/500\n",
            "12/12 - 0s - loss: 0.0110 - mae: 0.0742 - val_loss: 0.0107 - val_mae: 0.0764 - 71ms/epoch - 6ms/step\n",
            "Epoch 494/500\n",
            "12/12 - 0s - loss: 0.0109 - mae: 0.0722 - val_loss: 0.0106 - val_mae: 0.0763 - 80ms/epoch - 7ms/step\n",
            "Epoch 495/500\n",
            "12/12 - 0s - loss: 0.0108 - mae: 0.0724 - val_loss: 0.0105 - val_mae: 0.0760 - 85ms/epoch - 7ms/step\n",
            "Epoch 496/500\n",
            "12/12 - 0s - loss: 0.0108 - mae: 0.0726 - val_loss: 0.0107 - val_mae: 0.0765 - 71ms/epoch - 6ms/step\n",
            "Epoch 497/500\n",
            "12/12 - 0s - loss: 0.0109 - mae: 0.0723 - val_loss: 0.0110 - val_mae: 0.0770 - 82ms/epoch - 7ms/step\n",
            "Epoch 498/500\n",
            "12/12 - 0s - loss: 0.0108 - mae: 0.0716 - val_loss: 0.0106 - val_mae: 0.0759 - 81ms/epoch - 7ms/step\n",
            "Epoch 499/500\n",
            "12/12 - 0s - loss: 0.0108 - mae: 0.0721 - val_loss: 0.0106 - val_mae: 0.0760 - 80ms/epoch - 7ms/step\n",
            "Epoch 500/500\n",
            "12/12 - 0s - loss: 0.0108 - mae: 0.0724 - val_loss: 0.0109 - val_mae: 0.0767 - 87ms/epoch - 7ms/step\n"
          ]
        }
      ]
    },
    {
      "cell_type": "code",
      "metadata": {
        "id": "UY5XJDDICvJI",
        "colab": {
          "base_uri": "https://localhost:8080/"
        },
        "outputId": "9fde0958-8eb9-477a-83b5-15417088def6"
      },
      "source": [
        "print(model.summary())"
      ],
      "execution_count": null,
      "outputs": [
        {
          "output_type": "stream",
          "name": "stdout",
          "text": [
            "Model: \"sequential\"\n",
            "_________________________________________________________________\n",
            " Layer (type)                Output Shape              Param #   \n",
            "=================================================================\n",
            " dense (Dense)               (None, 8)                 112       \n",
            "                                                                 \n",
            " dense_1 (Dense)             (None, 6)                 54        \n",
            "                                                                 \n",
            " dense_2 (Dense)             (None, 3)                 21        \n",
            "                                                                 \n",
            " dense_3 (Dense)             (None, 1)                 4         \n",
            "                                                                 \n",
            "=================================================================\n",
            "Total params: 191\n",
            "Trainable params: 191\n",
            "Non-trainable params: 0\n",
            "_________________________________________________________________\n",
            "None\n"
          ]
        }
      ]
    },
    {
      "cell_type": "code",
      "metadata": {
        "id": "1sooKB-jfCnb"
      },
      "source": [
        "%matplotlib inline\n",
        "import matplotlib.pyplot as plt"
      ],
      "execution_count": null,
      "outputs": []
    },
    {
      "cell_type": "code",
      "metadata": {
        "id": "2_h9_lF3gB-x",
        "colab": {
          "base_uri": "https://localhost:8080/",
          "height": 295
        },
        "outputId": "b77d5df9-0383-41c4-d811-b2a08239207b"
      },
      "source": [
        "\n",
        "plt.plot(history.history['loss'])\n",
        "plt.plot(history.history['val_loss'])\n",
        "plt.title('model loss')\n",
        "plt.ylabel('loss')\n",
        "plt.xlabel('epoch')\n",
        "plt.legend(['train', 'test'], loc='upper right')\n",
        "plt.show()"
      ],
      "execution_count": null,
      "outputs": [
        {
          "output_type": "display_data",
          "data": {
            "text/plain": [
              "<Figure size 432x288 with 1 Axes>"
            ],
            "image/png": "[encoded data removed]"
          },
          "metadata": {
            "needs_background": "light"
          }
        }
      ]
    },
    {
      "cell_type": "code",
      "metadata": {
        "id": "GjwmE8hKCvJJ",
        "colab": {
          "base_uri": "https://localhost:8080/"
        },
        "outputId": "a86f8373-8fec-472c-cdf0-404f1a64a1d5"
      },
      "source": [
        "from sklearn.metrics import mean_squared_error\n",
        "y_pred_ = model.predict(X_tst_scl)\n",
        "MSE = mean_squared_error(y_true=y_tst_scl,y_pred=y_pred_)\n",
        "print(f\"MSE: {MSE}\")"
      ],
      "execution_count": null,
      "outputs": [
        {
          "output_type": "stream",
          "name": "stdout",
          "text": [
            "5/5 [==============================] - 0s 2ms/step\n",
            "MSE: 0.010204994359652959\n"
          ]
        }
      ]
    },
    {
      "cell_type": "code",
      "metadata": {
        "id": "oH2_jBuKCvJL",
        "colab": {
          "base_uri": "https://localhost:8080/"
        },
        "outputId": "d3f01953-72c7-4ee5-ae25-8dac32f0f13c"
      },
      "source": [
        "from sklearn.metrics import mean_absolute_error\n",
        "MAE = mean_absolute_error(y_true=y_tst_scl,y_pred=y_pred_)\n",
        "print(f\"MAE: {MAE}\")"
      ],
      "execution_count": null,
      "outputs": [
        {
          "output_type": "stream",
          "name": "stdout",
          "text": [
            "MAE: 0.07376297424803352\n"
          ]
        }
      ]
    },
    {
      "cell_type": "markdown",
      "metadata": {
        "id": "SFvA-tu-CvJM"
      },
      "source": [
        "# Early Stopping"
      ]
    },
    {
      "cell_type": "markdown",
      "metadata": {
        "id": "zHQE5mzUCvJM"
      },
      "source": [
        "If we continue to train the network, it may overfit. We can have a stop point where the accuracy may start falling."
      ]
    },
    {
      "cell_type": "markdown",
      "metadata": {
        "id": "kKb2BQyrCvJO"
      },
      "source": [
        "**Model Definition:**"
      ]
    },
    {
      "cell_type": "code",
      "metadata": {
        "id": "lDXYvFy5CvJP"
      },
      "source": [
        "tf.random.set_seed(2022)\n",
        "model = tf.keras.models.Sequential([\n",
        "    tf.keras.layers.Dense(8, activation='relu',input_shape=(13,)),\n",
        "    tf.keras.layers.Dense(6, activation='relu'),\n",
        "    tf.keras.layers.Dense(3, activation='relu'),\n",
        "    tf.keras.layers.Dense(1, activation='relu')\n",
        "])\n",
        "model.compile(optimizer='sgd', loss='mean_squared_error',metrics=['mae'])"
      ],
      "execution_count": null,
      "outputs": []
    },
    {
      "cell_type": "code",
      "metadata": {
        "id": "4kKO2XNtCvJP",
        "colab": {
          "base_uri": "https://localhost:8080/"
        },
        "outputId": "4565b464-2a83-4860-964d-1c23d31560c7"
      },
      "source": [
        "from tensorflow.keras.callbacks import EarlyStopping\n",
        "\n",
        "monitor = EarlyStopping(monitor='val_loss', min_delta=0.001, patience=7, verbose=1,\n",
        "        restore_best_weights=True)\n",
        "history2 = model.fit( X_trn_scl,y_trn_scl,validation_data=(X_tst_scl,y_tst_scl),\n",
        "                     callbacks=[monitor],verbose=2,epochs=500)"
      ],
      "execution_count": null,
      "outputs": [
        {
          "output_type": "stream",
          "name": "stdout",
          "text": [
            "Epoch 1/500\n",
            "12/12 - 1s - loss: 0.1227 - mae: 0.2785 - val_loss: 0.1039 - val_mae: 0.2421 - 1s/epoch - 98ms/step\n",
            "Epoch 2/500\n",
            "12/12 - 0s - loss: 0.0705 - mae: 0.1949 - val_loss: 0.0679 - val_mae: 0.1893 - 109ms/epoch - 9ms/step\n",
            "Epoch 3/500\n",
            "12/12 - 0s - loss: 0.0534 - mae: 0.1679 - val_loss: 0.0610 - val_mae: 0.1792 - 103ms/epoch - 9ms/step\n",
            "Epoch 4/500\n",
            "12/12 - 0s - loss: 0.0497 - mae: 0.1614 - val_loss: 0.0579 - val_mae: 0.1726 - 84ms/epoch - 7ms/step\n",
            "Epoch 5/500\n",
            "12/12 - 0s - loss: 0.0474 - mae: 0.1555 - val_loss: 0.0551 - val_mae: 0.1677 - 84ms/epoch - 7ms/step\n",
            "Epoch 6/500\n",
            "12/12 - 0s - loss: 0.0455 - mae: 0.1510 - val_loss: 0.0518 - val_mae: 0.1650 - 71ms/epoch - 6ms/step\n",
            "Epoch 7/500\n",
            "12/12 - 0s - loss: 0.0442 - mae: 0.1507 - val_loss: 0.0507 - val_mae: 0.1615 - 74ms/epoch - 6ms/step\n",
            "Epoch 8/500\n",
            "12/12 - 0s - loss: 0.0430 - mae: 0.1471 - val_loss: 0.0485 - val_mae: 0.1604 - 81ms/epoch - 7ms/step\n",
            "Epoch 9/500\n",
            "12/12 - 0s - loss: 0.0421 - mae: 0.1471 - val_loss: 0.0484 - val_mae: 0.1577 - 71ms/epoch - 6ms/step\n",
            "Epoch 10/500\n",
            "12/12 - 0s - loss: 0.0413 - mae: 0.1445 - val_loss: 0.0484 - val_mae: 0.1563 - 69ms/epoch - 6ms/step\n",
            "Epoch 11/500\n",
            "12/12 - 0s - loss: 0.0408 - mae: 0.1415 - val_loss: 0.0467 - val_mae: 0.1578 - 73ms/epoch - 6ms/step\n",
            "Epoch 12/500\n",
            "12/12 - 0s - loss: 0.0405 - mae: 0.1458 - val_loss: 0.0463 - val_mae: 0.1567 - 69ms/epoch - 6ms/step\n",
            "Epoch 13/500\n",
            "12/12 - 0s - loss: 0.0400 - mae: 0.1431 - val_loss: 0.0464 - val_mae: 0.1546 - 86ms/epoch - 7ms/step\n",
            "Epoch 14/500\n",
            "12/12 - 0s - loss: 0.0394 - mae: 0.1411 - val_loss: 0.0466 - val_mae: 0.1529 - 79ms/epoch - 7ms/step\n",
            "Epoch 15/500\n",
            "12/12 - 0s - loss: 0.0390 - mae: 0.1381 - val_loss: 0.0463 - val_mae: 0.1521 - 81ms/epoch - 7ms/step\n",
            "Epoch 16/500\n",
            "12/12 - 0s - loss: 0.0386 - mae: 0.1367 - val_loss: 0.0462 - val_mae: 0.1511 - 67ms/epoch - 6ms/step\n",
            "Epoch 17/500\n",
            "12/12 - 0s - loss: 0.0383 - mae: 0.1347 - val_loss: 0.0459 - val_mae: 0.1503 - 84ms/epoch - 7ms/step\n",
            "Epoch 18/500\n",
            "12/12 - 0s - loss: 0.0377 - mae: 0.1338 - val_loss: 0.0457 - val_mae: 0.1499 - 71ms/epoch - 6ms/step\n",
            "Epoch 19/500\n",
            "12/12 - 0s - loss: 0.0374 - mae: 0.1338 - val_loss: 0.0453 - val_mae: 0.1495 - 68ms/epoch - 6ms/step\n",
            "Epoch 20/500\n",
            "12/12 - 0s - loss: 0.0372 - mae: 0.1333 - val_loss: 0.0449 - val_mae: 0.1495 - 82ms/epoch - 7ms/step\n",
            "Epoch 21/500\n",
            "12/12 - 0s - loss: 0.0369 - mae: 0.1334 - val_loss: 0.0448 - val_mae: 0.1491 - 70ms/epoch - 6ms/step\n",
            "Epoch 22/500\n",
            "12/12 - 0s - loss: 0.0367 - mae: 0.1329 - val_loss: 0.0441 - val_mae: 0.1497 - 70ms/epoch - 6ms/step\n",
            "Epoch 23/500\n",
            "12/12 - 0s - loss: 0.0365 - mae: 0.1343 - val_loss: 0.0440 - val_mae: 0.1496 - 77ms/epoch - 6ms/step\n",
            "Epoch 24/500\n",
            "12/12 - 0s - loss: 0.0363 - mae: 0.1338 - val_loss: 0.0435 - val_mae: 0.1509 - 85ms/epoch - 7ms/step\n",
            "Epoch 25/500\n",
            "12/12 - 0s - loss: 0.0361 - mae: 0.1358 - val_loss: 0.0437 - val_mae: 0.1492 - 69ms/epoch - 6ms/step\n",
            "Epoch 26/500\n",
            "12/12 - 0s - loss: 0.0359 - mae: 0.1327 - val_loss: 0.0439 - val_mae: 0.1480 - 71ms/epoch - 6ms/step\n",
            "Epoch 27/500\n",
            "12/12 - 0s - loss: 0.0357 - mae: 0.1317 - val_loss: 0.0443 - val_mae: 0.1467 - 68ms/epoch - 6ms/step\n",
            "Epoch 28/500\n",
            "12/12 - 0s - loss: 0.0357 - mae: 0.1299 - val_loss: 0.0434 - val_mae: 0.1486 - 82ms/epoch - 7ms/step\n",
            "Epoch 29/500\n",
            "Restoring model weights from the end of the best epoch: 22.\n",
            "12/12 - 0s - loss: 0.0354 - mae: 0.1323 - val_loss: 0.0436 - val_mae: 0.1474 - 93ms/epoch - 8ms/step\n",
            "Epoch 29: early stopping\n"
          ]
        }
      ]
    },
    {
      "cell_type": "markdown",
      "metadata": {
        "id": "s0-9wMV4CvJQ"
      },
      "source": [
        "Let us see the parameters in the early stopping involved:\n",
        "- **monitor**: quantity to be monitored.<br>\n",
        "- **min_delta**: minimum change in the monitored quantity to qualify as an improvement, i.e. an absolute change of less than min_delta, will count as no improvement.<br>\n",
        "- **patience**: number of epochs with no improvement after which training will be stopped.<br>\n",
        "- **restore_best_weights**: whether to restore model weights from the epoch with the best value of the monitored quantity. If False, the model weights obtained at the last step of training are used."
      ]
    },
    {
      "cell_type": "code",
      "metadata": {
        "id": "RTMQCgm0g_4_",
        "colab": {
          "base_uri": "https://localhost:8080/",
          "height": 295
        },
        "outputId": "93fdc2ea-4c96-4e0b-a0ab-5cb4412e6fec"
      },
      "source": [
        "plt.plot(history2.history['loss'])\n",
        "plt.plot(history2.history['val_loss'])\n",
        "plt.title('model loss')\n",
        "plt.ylabel('loss')\n",
        "plt.xlabel('epoch')\n",
        "plt.legend(['train', 'test'], loc='upper right')\n",
        "plt.show()"
      ],
      "execution_count": null,
      "outputs": [
        {
          "output_type": "display_data",
          "data": {
            "text/plain": [
              "<Figure size 432x288 with 1 Axes>"
            ],
            "image/png": "[encoded data removed]"
          },
          "metadata": {
            "needs_background": "light"
          }
        }
      ]
    },
    {
      "cell_type": "code",
      "metadata": {
        "id": "RRG28fq9CvJR",
        "colab": {
          "base_uri": "https://localhost:8080/"
        },
        "outputId": "5efe5997-159d-423d-b22f-63af25ef1147"
      },
      "source": [
        "from sklearn.metrics import mean_squared_error\n",
        "y_pred_ = model.predict(X_tst_scl)\n",
        "MSE = mean_squared_error(y_true=y_tst_scl,y_pred=y_pred_)\n",
        "print(f\"MSE: {MSE}\")"
      ],
      "execution_count": null,
      "outputs": [
        {
          "output_type": "stream",
          "name": "stdout",
          "text": [
            "5/5 [==============================] - 0s 2ms/step\n",
            "MSE: 0.01710203843513103\n"
          ]
        }
      ]
    },
    {
      "cell_type": "code",
      "metadata": {
        "id": "nkKGSvw3CvJR",
        "colab": {
          "base_uri": "https://localhost:8080/"
        },
        "outputId": "77fe8e29-f9de-43cf-fe0c-519129109a3d"
      },
      "source": [
        "from sklearn.metrics import mean_absolute_error\n",
        "MAE = mean_absolute_error(y_true=y_tst_scl,y_pred=y_pred_)\n",
        "print(f\"MAE: {MAE}\")"
      ],
      "execution_count": null,
      "outputs": [
        {
          "output_type": "stream",
          "name": "stdout",
          "text": [
            "MAE: 0.10040556127456023\n"
          ]
        }
      ]
    },
    {
      "cell_type": "markdown",
      "source": [
        "Scaled Predictions:"
      ],
      "metadata": {
        "id": "p864xyrUpeYa"
      }
    },
    {
      "cell_type": "code",
      "metadata": {
        "id": "1liBragWCvJS",
        "colab": {
          "base_uri": "https://localhost:8080/"
        },
        "outputId": "26e5f953-2ce2-44ab-bee6-47f88ed16d7d"
      },
      "source": [
        "y_pred_[:10]"
      ],
      "execution_count": null,
      "outputs": [
        {
          "output_type": "execute_result",
          "data": {
            "text/plain": [
              "array([[0.2772921 ],\n",
              "       [0.38664147],\n",
              "       [0.46365884],\n",
              "       [0.4195871 ],\n",
              "       [0.4683882 ],\n",
              "       [0.6930782 ],\n",
              "       [0.2849858 ],\n",
              "       [0.5855141 ],\n",
              "       [0.42359075],\n",
              "       [0.08795495]], dtype=float32)"
            ]
          },
          "metadata": {},
          "execution_count": 39
        }
      ]
    },
    {
      "cell_type": "markdown",
      "source": [
        "Scaling the Predictions to original scale"
      ],
      "metadata": {
        "id": "_BpYZApnphk6"
      }
    },
    {
      "cell_type": "code",
      "metadata": {
        "id": "SVwyv7GxCvJT",
        "colab": {
          "base_uri": "https://localhost:8080/"
        },
        "outputId": "1c158f8e-c600-49ef-9df4-f360fa6e7cda"
      },
      "source": [
        "y_pred = scaler_y.inverse_transform(y_pred_)\n",
        "y_pred[:10]"
      ],
      "execution_count": null,
      "outputs": [
        {
          "output_type": "execute_result",
          "data": {
            "text/plain": [
              "array([[17.478144],\n",
              "       [22.398867],\n",
              "       [25.864649],\n",
              "       [23.88142 ],\n",
              "       [26.077469],\n",
              "       [36.18852 ],\n",
              "       [17.824362],\n",
              "       [31.348135],\n",
              "       [24.061584],\n",
              "       [ 8.957973]], dtype=float32)"
            ]
          },
          "metadata": {},
          "execution_count": 40
        }
      ]
    },
    {
      "cell_type": "code",
      "source": [
        "MSE = mean_squared_error(y_true=y_test,y_pred=y_pred)\n",
        "print(f\"MSE: {MSE}\")"
      ],
      "metadata": {
        "colab": {
          "base_uri": "https://localhost:8080/"
        },
        "id": "dIi6MJNHnViR",
        "outputId": "a80f4f78-578c-4409-fb93-3349215eef7b"
      },
      "execution_count": null,
      "outputs": [
        {
          "output_type": "stream",
          "name": "stdout",
          "text": [
            "MSE: 34.63163003182857\n"
          ]
        }
      ]
    }
  ]
}