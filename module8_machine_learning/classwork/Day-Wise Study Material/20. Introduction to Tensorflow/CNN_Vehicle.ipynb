{
  "cells": [
    {
      "cell_type": "code",
      "execution_count": null,
      "metadata": {
        "colab": {
          "base_uri": "https://localhost:8080/"
        },
        "id": "tSXgkiFcWS-l",
        "outputId": "832a41f2-de13-4701-fafd-af17b3a1b22a"
      },
      "outputs": [
        {
          "name": "stdout",
          "output_type": "stream",
          "text": [
            "Drive already mounted at /content/drive; to attempt to forcibly remount, call drive.mount(\"/content/drive\", force_remount=True).\n"
          ]
        }
      ],
      "source": [
        "from google.colab import drive\n",
        "drive.mount('/content/drive')"
      ]
    },
    {
      "cell_type": "code",
      "execution_count": null,
      "metadata": {
        "id": "4ApeqbM8VBSD"
      },
      "outputs": [],
      "source": [
        "!pip install -q kaggle"
      ]
    },
    {
      "cell_type": "code",
      "execution_count": null,
      "metadata": {
        "id": "tZCfN3XzXQ7z"
      },
      "outputs": [],
      "source": [
        "!mkdir -p ~/.kaggle\n",
        "!cp kaggle.json ~/.kaggle/"
      ]
    },
    {
      "cell_type": "code",
      "execution_count": null,
      "metadata": {
        "id": "Zel-OiOJX2tj"
      },
      "outputs": [],
      "source": [
        "!chmod 600 /root/.kaggle/kaggle.json"
      ]
    },
    {
      "cell_type": "code",
      "execution_count": null,
      "metadata": {
        "colab": {
          "base_uri": "https://localhost:8080/"
        },
        "id": "GyAoLBeEX9dr",
        "outputId": "e706b559-e1e8-47c6-9840-1572e5dd7929"
      },
      "outputs": [
        {
          "name": "stdout",
          "output_type": "stream",
          "text": [
            "ref                                            deadline             category            reward  teamCount  userHasEntered  \n",
            "---------------------------------------------  -------------------  ---------------  ---------  ---------  --------------  \n",
            "contradictory-my-dear-watson                   2030-07-01 23:59:00  Getting Started     Prizes         45           False  \n",
            "gan-getting-started                            2030-07-01 23:59:00  Getting Started     Prizes        105           False  \n",
            "store-sales-time-series-forecasting            2030-06-30 23:59:00  Getting Started  Knowledge        626            True  \n",
            "tpu-getting-started                            2030-06-03 23:59:00  Getting Started  Knowledge        124           False  \n",
            "digit-recognizer                               2030-01-01 00:00:00  Getting Started  Knowledge       1333            True  \n",
            "titanic                                        2030-01-01 00:00:00  Getting Started  Knowledge      14860            True  \n",
            "house-prices-advanced-regression-techniques    2030-01-01 00:00:00  Getting Started  Knowledge       4138            True  \n",
            "connectx                                       2030-01-01 00:00:00  Getting Started  Knowledge        211           False  \n",
            "nlp-getting-started                            2030-01-01 00:00:00  Getting Started  Knowledge        914            True  \n",
            "spaceship-titanic                              2030-01-01 00:00:00  Getting Started  Knowledge       2339           False  \n",
            "competitive-data-science-predict-future-sales  2022-12-31 23:59:00  Playground           Kudos      15046            True  \n",
            "jpx-tokyo-stock-exchange-prediction            2022-10-07 23:59:00  Featured           $63,000       2085           False  \n",
            "mayo-clinic-strip-ai                           2022-10-05 23:59:00  Research           $10,000          2           False  \n",
            "hubmap-organ-segmentation                      2022-09-22 23:59:00  Research           $60,000        224           False  \n",
            "amex-default-prediction                        2022-08-24 23:59:00  Featured          $100,000       2278           False  \n",
            "feedback-prize-effectiveness                   2022-08-23 23:59:00  Featured           $55,000        770           False  \n",
            "AI4Code                                        2022-08-11 23:59:00  Featured          $150,000        749           False  \n",
            "tabular-playground-series-jul-2022             2022-07-31 23:59:00  Playground            Swag        475           False  \n",
            "smartphone-decimeter-2022                      2022-07-29 23:59:00  Research           $10,000        402           False  \n",
            "ubiquant-market-prediction                     2022-07-18 23:59:00  Featured          $100,000       2459            True  \n"
          ]
        }
      ],
      "source": [
        "!kaggle competitions list"
      ]
    },
    {
      "cell_type": "code",
      "execution_count": null,
      "metadata": {
        "colab": {
          "base_uri": "https://localhost:8080/"
        },
        "id": "AaiceOi3YRSj",
        "outputId": "84b2eb13-eccb-48ff-faea-f4adc736b849"
      },
      "outputs": [
        {
          "name": "stdout",
          "output_type": "stream",
          "text": [
            "Downloading vechicle-dataset.zip to /content\n",
            "\r  0% 0.00/6.21M [00:00<?, ?B/s]\n",
            "\r100% 6.21M/6.21M [00:00<00:00, 141MB/s]\n"
          ]
        }
      ],
      "source": [
        "!kaggle datasets download -d rishabkoul1/vechicle-dataset"
      ]
    },
    {
      "cell_type": "code",
      "execution_count": null,
      "metadata": {
        "id": "O8gly8yhYyrj"
      },
      "outputs": [],
      "source": [
        "!unzip \"/content/vechicle-dataset.zip\" -d \"/content/drive/MyDrive/Kaggle Datasets\""
      ]
    },
    {
      "cell_type": "code",
      "execution_count": null,
      "metadata": {
        "id": "Jad7urFWZRej"
      },
      "outputs": [],
      "source": [
        "train_dir = \"/content/drive/MyDrive/Kaggle Datasets/vechicle_with_train/vechicles/train\"\n",
        "test_dir = \"/content/drive/MyDrive/Kaggle Datasets/vechicle_with_train/vechicles/test\""
      ]
    },
    {
      "cell_type": "code",
      "execution_count": null,
      "metadata": {
        "colab": {
          "base_uri": "https://localhost:8080/"
        },
        "id": "lR6YP8TDXax2",
        "outputId": "b482fb82-b180-44a1-c282-abbc8bca431b"
      },
      "outputs": [
        {
          "output_type": "stream",
          "name": "stdout",
          "text": [
            "Found 528 images belonging to 10 classes.\n"
          ]
        }
      ],
      "source": [
        "from tensorflow.keras.preprocessing.image import ImageDataGenerator\n",
        "# All images will be rescaled by 1./255.\n",
        "train_datagen = ImageDataGenerator( rescale = 1.0/255. )\n",
        "train_generator = train_datagen.flow_from_directory(\n",
        "    directory=train_dir, target_size=(150, 150), color_mode='rgb', class_mode='categorical', batch_size=32,\n",
        "    shuffle=True, seed=2022)"
      ]
    },
    {
      "cell_type": "code",
      "execution_count": null,
      "metadata": {
        "colab": {
          "base_uri": "https://localhost:8080/"
        },
        "id": "q1L0xQlPXuB-",
        "outputId": "13c25e3a-4725-4bc2-df1f-1d770fc262e9"
      },
      "outputs": [
        {
          "output_type": "stream",
          "name": "stdout",
          "text": [
            "Found 74 images belonging to 10 classes.\n"
          ]
        }
      ],
      "source": [
        "test_datagen  = ImageDataGenerator( rescale = 1.0/255. )\n",
        "validation_generator = test_datagen.flow_from_directory(\n",
        "    directory=test_dir, target_size=(150, 150), color_mode='rgb', class_mode='categorical',\n",
        "    batch_size=32, shuffle=True, seed=2022)"
      ]
    },
    {
      "cell_type": "code",
      "execution_count": null,
      "metadata": {
        "id": "KFg_2y8qdNcg"
      },
      "outputs": [],
      "source": [
        "import tensorflow as tf"
      ]
    },
    {
      "cell_type": "markdown",
      "metadata": {
        "id": "MuT1P6N1dEmn"
      },
      "source": [
        "Model Definition"
      ]
    },
    {
      "cell_type": "code",
      "execution_count": null,
      "metadata": {
        "id": "O4H06TQVdGMa"
      },
      "outputs": [],
      "source": [
        "model = tf.keras.models.Sequential([\n",
        "    tf.keras.layers.Conv2D(16, (3,3), activation='relu', input_shape=(150, 150, 3)),\n",
        "    tf.keras.layers.MaxPooling2D(2,1),\n",
        "    tf.keras.layers.Flatten(),\n",
        "    tf.keras.layers.Dense(1024, activation='selu',\n",
        "                          kernel_regularizer=tf.keras.regularizers.L1L2()),\n",
        "    tf.keras.layers.Dense(512, activation='selu'),\n",
        "    tf.keras.layers.Dense(10, activation='softmax')\n",
        "])"
      ]
    },
    {
      "cell_type": "code",
      "execution_count": null,
      "metadata": {
        "id": "GtMf_0nBdp6W"
      },
      "outputs": [],
      "source": [
        "from tensorflow.keras.callbacks import EarlyStopping\n",
        "monitor = EarlyStopping(monitor='val_loss', min_delta=1e-3, patience=5,verbose=2,restore_best_weights=True)\n",
        "model.compile(optimizer='adam',loss='categorical_crossentropy', metrics = ['accuracy'])"
      ]
    },
    {
      "cell_type": "code",
      "execution_count": null,
      "metadata": {
        "colab": {
          "base_uri": "https://localhost:8080/"
        },
        "id": "bdoVkRY1eJ73",
        "outputId": "8ab0603a-420a-4a99-b013-f76f3b1a1d8d"
      },
      "outputs": [
        {
          "output_type": "stream",
          "name": "stdout",
          "text": [
            "Epoch 1/50\n",
            "17/17 - 218s - loss: 162.3212 - accuracy: 0.1061 - val_loss: 24.9403 - val_accuracy: 0.1486 - 218s/epoch - 13s/step\n",
            "Epoch 2/50\n",
            "17/17 - 65s - loss: 14.1022 - accuracy: 0.1439 - val_loss: 8.2552 - val_accuracy: 0.1622 - 65s/epoch - 4s/step\n",
            "Epoch 3/50\n",
            "17/17 - 59s - loss: 3.4282 - accuracy: 0.3106 - val_loss: 2.5998 - val_accuracy: 0.2838 - 59s/epoch - 3s/step\n",
            "Epoch 4/50\n",
            "17/17 - 60s - loss: 1.0748 - accuracy: 0.6629 - val_loss: 1.8645 - val_accuracy: 0.3919 - 60s/epoch - 4s/step\n",
            "Epoch 5/50\n",
            "17/17 - 62s - loss: 0.5145 - accuracy: 0.8428 - val_loss: 1.8114 - val_accuracy: 0.5000 - 62s/epoch - 4s/step\n",
            "Epoch 6/50\n",
            "17/17 - 60s - loss: 0.1720 - accuracy: 0.9583 - val_loss: 1.8954 - val_accuracy: 0.4865 - 60s/epoch - 4s/step\n",
            "Epoch 7/50\n",
            "17/17 - 61s - loss: 0.0630 - accuracy: 0.9943 - val_loss: 2.0011 - val_accuracy: 0.4595 - 61s/epoch - 4s/step\n",
            "Epoch 8/50\n",
            "17/17 - 61s - loss: 0.0230 - accuracy: 1.0000 - val_loss: 1.7864 - val_accuracy: 0.5135 - 61s/epoch - 4s/step\n",
            "Epoch 9/50\n",
            "17/17 - 60s - loss: 0.0109 - accuracy: 1.0000 - val_loss: 1.7393 - val_accuracy: 0.5135 - 60s/epoch - 4s/step\n",
            "Epoch 10/50\n",
            "17/17 - 68s - loss: 0.0064 - accuracy: 1.0000 - val_loss: 1.8450 - val_accuracy: 0.4865 - 68s/epoch - 4s/step\n",
            "Epoch 11/50\n",
            "17/17 - 60s - loss: 0.0044 - accuracy: 1.0000 - val_loss: 1.8088 - val_accuracy: 0.5405 - 60s/epoch - 4s/step\n",
            "Epoch 12/50\n",
            "17/17 - 58s - loss: 0.0034 - accuracy: 1.0000 - val_loss: 1.8607 - val_accuracy: 0.5541 - 58s/epoch - 3s/step\n",
            "Epoch 13/50\n",
            "17/17 - 61s - loss: 0.0029 - accuracy: 1.0000 - val_loss: 1.8438 - val_accuracy: 0.5135 - 61s/epoch - 4s/step\n",
            "Epoch 14/50\n",
            "Restoring model weights from the end of the best epoch: 9.\n",
            "17/17 - 58s - loss: 0.0023 - accuracy: 1.0000 - val_loss: 1.8822 - val_accuracy: 0.5270 - 58s/epoch - 3s/step\n",
            "Epoch 14: early stopping\n"
          ]
        }
      ],
      "source": [
        "history = model.fit(train_generator, validation_data=validation_generator,\n",
        "                    epochs=50,verbose=2, callbacks=[monitor])"
      ]
    },
    {
      "cell_type": "code",
      "execution_count": null,
      "metadata": {
        "id": "DRrTuRyFfeEg"
      },
      "outputs": [],
      "source": [
        "import matplotlib.pyplot as plt\n",
        "plt.plot(history.history['loss'])\n",
        "plt.plot(history.history['val_loss'])\n",
        "plt.title('model loss')\n",
        "plt.ylabel('loss')\n",
        "plt.xlabel('epoch')\n",
        "plt.legend(['train', 'test'], loc='upper right')\n",
        "plt.show()"
      ]
    }
  ],
  "metadata": {
    "colab": {
      "provenance": []
    },
    "gpuClass": "standard",
    "kernelspec": {
      "display_name": "Python 3",
      "name": "python3"
    },
    "language_info": {
      "name": "python"
    }
  },
  "nbformat": 4,
  "nbformat_minor": 0
}