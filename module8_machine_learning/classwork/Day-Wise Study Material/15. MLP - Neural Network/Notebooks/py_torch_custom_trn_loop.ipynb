{
 "cells": [
  {
   "cell_type": "code",
   "execution_count": 24,
   "metadata": {
    "executionInfo": {
     "elapsed": 3,
     "status": "ok",
     "timestamp": 1664432167488,
     "user": {
      "displayName": "Sanjay Sane",
      "userId": "07643709861745318184"
     },
     "user_tz": -330
    },
    "id": "JLckb5vLZn47"
   },
   "outputs": [],
   "source": [
    "import torch.nn as nn\n",
    "import torch\n",
    "import numpy as np\n",
    "import matplotlib.pyplot as plt"
   ]
  },
  {
   "cell_type": "markdown",
   "metadata": {
    "id": "_nTmRjGt9cZP"
   },
   "source": [
    "Creating a Simple Dataset"
   ]
  },
  {
   "cell_type": "code",
   "execution_count": 25,
   "metadata": {
    "id": "GAEC0i5_ZqSx"
   },
   "outputs": [
    {
     "name": "stdout",
     "output_type": "stream",
     "text": [
      "[-2.         -1.95959596 -1.91919192 -1.87878788 -1.83838384 -1.7979798\n",
      " -1.75757576 -1.71717172 -1.67676768 -1.63636364 -1.5959596  -1.55555556\n",
      " -1.51515152 -1.47474747 -1.43434343 -1.39393939 -1.35353535 -1.31313131\n",
      " -1.27272727 -1.23232323 -1.19191919 -1.15151515 -1.11111111 -1.07070707\n",
      " -1.03030303 -0.98989899 -0.94949495 -0.90909091 -0.86868687 -0.82828283\n",
      " -0.78787879 -0.74747475 -0.70707071 -0.66666667 -0.62626263 -0.58585859\n",
      " -0.54545455 -0.50505051 -0.46464646 -0.42424242 -0.38383838 -0.34343434\n",
      " -0.3030303  -0.26262626 -0.22222222 -0.18181818 -0.14141414 -0.1010101\n",
      " -0.06060606 -0.02020202  0.02020202  0.06060606  0.1010101   0.14141414\n",
      "  0.18181818  0.22222222  0.26262626  0.3030303   0.34343434  0.38383838\n",
      "  0.42424242  0.46464646  0.50505051  0.54545455  0.58585859  0.62626263\n",
      "  0.66666667  0.70707071  0.74747475  0.78787879  0.82828283  0.86868687\n",
      "  0.90909091  0.94949495  0.98989899  1.03030303  1.07070707  1.11111111\n",
      "  1.15151515  1.19191919  1.23232323  1.27272727  1.31313131  1.35353535\n",
      "  1.39393939  1.43434343  1.47474747  1.51515152  1.55555556  1.5959596\n",
      "  1.63636364  1.67676768  1.71717172  1.75757576  1.7979798   1.83838384\n",
      "  1.87878788  1.91919192  1.95959596  2.        ]\n",
      "[1.         1.08080808 1.16161616 1.24242424 1.32323232 1.4040404\n",
      " 1.48484848 1.56565657 1.64646465 1.72727273 1.80808081 1.88888889\n",
      " 1.96969697 2.05050505 2.13131313 2.21212121 2.29292929 2.37373737\n",
      " 2.45454545 2.53535354 2.61616162 2.6969697  2.77777778 2.85858586\n",
      " 2.93939394 3.02020202 3.1010101  3.18181818 3.26262626 3.34343434\n",
      " 3.42424242 3.50505051 3.58585859 3.66666667 3.74747475 3.82828283\n",
      " 3.90909091 3.98989899 4.07070707 4.15151515 4.23232323 4.31313131\n",
      " 4.39393939 4.47474747 4.55555556 4.63636364 4.71717172 4.7979798\n",
      " 4.87878788 4.95959596 5.04040404 5.12121212 5.2020202  5.28282828\n",
      " 5.36363636 5.44444444 5.52525253 5.60606061 5.68686869 5.76767677\n",
      " 5.84848485 5.92929293 6.01010101 6.09090909 6.17171717 6.25252525\n",
      " 6.33333333 6.41414141 6.49494949 6.57575758 6.65656566 6.73737374\n",
      " 6.81818182 6.8989899  6.97979798 7.06060606 7.14141414 7.22222222\n",
      " 7.3030303  7.38383838 7.46464646 7.54545455 7.62626263 7.70707071\n",
      " 7.78787879 7.86868687 7.94949495 8.03030303 8.11111111 8.19191919\n",
      " 8.27272727 8.35353535 8.43434343 8.51515152 8.5959596  8.67676768\n",
      " 8.75757576 8.83838384 8.91919192 9.        ]\n"
     ]
    }
   ],
   "source": [
    "x = np.linspace(-2,2, 100)\n",
    "def f(x):\n",
    "  return x * 2.0 + 5.0\n",
    "y = f(x)\n",
    "print(x)\n",
    "print(y)"
   ]
  },
  {
   "cell_type": "code",
   "execution_count": 43,
   "metadata": {
    "executionInfo": {
     "elapsed": 424,
     "status": "ok",
     "timestamp": 1664437897186,
     "user": {
      "displayName": "Sanjay Sane",
      "userId": "07643709861745318184"
     },
     "user_tz": -330
    },
    "id": "g4AnvFxZC5Y9"
   },
   "outputs": [],
   "source": [
    "w = torch.tensor(16.0)\n",
    "b = torch.tensor(-17.0)"
   ]
  },
  {
   "cell_type": "code",
   "execution_count": 44,
   "metadata": {
    "colab": {
     "base_uri": "https://localhost:8080/"
    },
    "executionInfo": {
     "elapsed": 446,
     "status": "ok",
     "timestamp": 1664438336153,
     "user": {
      "displayName": "Sanjay Sane",
      "userId": "07643709861745318184"
     },
     "user_tz": -330
    },
    "id": "SsgTYvLVr--o",
    "outputId": "044287a8-39c2-4ac9-f12e-80e1f46fcf26"
   },
   "outputs": [
    {
     "name": "stderr",
     "output_type": "stream",
     "text": [
      "C:\\Users\\Sanjay Sane\\AppData\\Local\\Temp\\ipykernel_18868\\3525003048.py:1: UserWarning: To copy construct from a tensor, it is recommended to use sourceTensor.clone().detach() or sourceTensor.clone().detach().requires_grad_(True), rather than torch.tensor(sourceTensor).\n",
      "  x = torch.tensor(x)\n"
     ]
    },
    {
     "data": {
      "text/plain": [
       "torch.Tensor"
      ]
     },
     "execution_count": 44,
     "metadata": {},
     "output_type": "execute_result"
    }
   ],
   "source": [
    "x = torch.tensor(x)\n",
    "type(x)"
   ]
  },
  {
   "cell_type": "code",
   "execution_count": 45,
   "metadata": {
    "colab": {
     "base_uri": "https://localhost:8080/"
    },
    "executionInfo": {
     "elapsed": 449,
     "status": "ok",
     "timestamp": 1664438351145,
     "user": {
      "displayName": "Sanjay Sane",
      "userId": "07643709861745318184"
     },
     "user_tz": -330
    },
    "id": "47I5APgYr-50",
    "outputId": "9e294116-bbb8-48a1-eab9-7e9bc71df6a2"
   },
   "outputs": [
    {
     "name": "stderr",
     "output_type": "stream",
     "text": [
      "C:\\Users\\Sanjay Sane\\AppData\\Local\\Temp\\ipykernel_18868\\2521706040.py:1: UserWarning: To copy construct from a tensor, it is recommended to use sourceTensor.clone().detach() or sourceTensor.clone().detach().requires_grad_(True), rather than torch.tensor(sourceTensor).\n",
      "  y = torch.tensor(y)\n"
     ]
    },
    {
     "data": {
      "text/plain": [
       "torch.Tensor"
      ]
     },
     "execution_count": 45,
     "metadata": {},
     "output_type": "execute_result"
    }
   ],
   "source": [
    "y = torch.tensor(y)\n",
    "type(y)"
   ]
  },
  {
   "cell_type": "code",
   "execution_count": 46,
   "metadata": {
    "executionInfo": {
     "elapsed": 421,
     "status": "ok",
     "timestamp": 1664438353687,
     "user": {
      "displayName": "Sanjay Sane",
      "userId": "07643709861745318184"
     },
     "user_tz": -330
    },
    "id": "iBUABwhBZr-J"
   },
   "outputs": [],
   "source": [
    "class Model(nn.Module):\n",
    "  def __init__(self, **kwargs):\n",
    "    super().__init__(**kwargs)\n",
    "    # In practice, these should be randomly initialized\n",
    "    self.w = w.clone().detach().requires_grad_(True)\n",
    "    self.b = b.clone().detach().requires_grad_(True)\n",
    "\n",
    "  def forward(self, x):\n",
    "    return self.w * x + self.b\n",
    "\n",
    "model = Model()"
   ]
  },
  {
   "cell_type": "markdown",
   "metadata": {
    "id": "k6YFin1i6Qe_"
   },
   "source": [
    "Defining the loss function: Mean Squared Error"
   ]
  },
  {
   "cell_type": "code",
   "execution_count": 47,
   "metadata": {
    "executionInfo": {
     "elapsed": 472,
     "status": "ok",
     "timestamp": 1664438268531,
     "user": {
      "displayName": "Sanjay Sane",
      "userId": "07643709861745318184"
     },
     "user_tz": -330
    },
    "id": "cQLx6luO4q7W"
   },
   "outputs": [],
   "source": [
    "def loss(predicted_y, actual_y):\n",
    "  return torch.mean(torch.square(predicted_y - actual_y))"
   ]
  },
  {
   "cell_type": "markdown",
   "metadata": {
    "id": "7rzHfArC-nVe"
   },
   "source": [
    "Function for Plotting "
   ]
  },
  {
   "cell_type": "code",
   "execution_count": 48,
   "metadata": {
    "executionInfo": {
     "elapsed": 669,
     "status": "ok",
     "timestamp": 1664438357736,
     "user": {
      "displayName": "Sanjay Sane",
      "userId": "07643709861745318184"
     },
     "user_tz": -330
    },
    "id": "6FS7p8Sg5e7P"
   },
   "outputs": [],
   "source": [
    "def plot_data(inputs, outputs, pred_outputs):\n",
    "  actual = plt.scatter(inputs, outputs, c='blue',label = 'Actual Data')\n",
    "  predicted = plt.scatter(inputs, pred_outputs, c='red', label = 'Predicted Data')\n",
    "  plt.legend(loc='best')\n",
    "  plt.show()\n"
   ]
  },
  {
   "cell_type": "code",
   "execution_count": 49,
   "metadata": {},
   "outputs": [
    {
     "data": {
      "text/plain": [
       "tensor([-2.0000, -1.9596, -1.9192, -1.8788, -1.8384, -1.7980, -1.7576, -1.7172,\n",
       "        -1.6768, -1.6364, -1.5960, -1.5556, -1.5152, -1.4747, -1.4343, -1.3939,\n",
       "        -1.3535, -1.3131, -1.2727, -1.2323, -1.1919, -1.1515, -1.1111, -1.0707,\n",
       "        -1.0303, -0.9899, -0.9495, -0.9091, -0.8687, -0.8283, -0.7879, -0.7475,\n",
       "        -0.7071, -0.6667, -0.6263, -0.5859, -0.5455, -0.5051, -0.4646, -0.4242,\n",
       "        -0.3838, -0.3434, -0.3030, -0.2626, -0.2222, -0.1818, -0.1414, -0.1010,\n",
       "        -0.0606, -0.0202,  0.0202,  0.0606,  0.1010,  0.1414,  0.1818,  0.2222,\n",
       "         0.2626,  0.3030,  0.3434,  0.3838,  0.4242,  0.4646,  0.5051,  0.5455,\n",
       "         0.5859,  0.6263,  0.6667,  0.7071,  0.7475,  0.7879,  0.8283,  0.8687,\n",
       "         0.9091,  0.9495,  0.9899,  1.0303,  1.0707,  1.1111,  1.1515,  1.1919,\n",
       "         1.2323,  1.2727,  1.3131,  1.3535,  1.3939,  1.4343,  1.4747,  1.5152,\n",
       "         1.5556,  1.5960,  1.6364,  1.6768,  1.7172,  1.7576,  1.7980,  1.8384,\n",
       "         1.8788,  1.9192,  1.9596,  2.0000], dtype=torch.float64)"
      ]
     },
     "execution_count": 49,
     "metadata": {},
     "output_type": "execute_result"
    }
   ],
   "source": [
    "x"
   ]
  },
  {
   "cell_type": "code",
   "execution_count": 50,
   "metadata": {
    "id": "om4Rxq9UBFYc"
   },
   "outputs": [
    {
     "data": {
      "text/plain": [
       "tensor([-49.0000, -48.3535, -47.7071, -47.0606, -46.4141, -45.7677, -45.1212,\n",
       "        -44.4747, -43.8283, -43.1818, -42.5354, -41.8889, -41.2424, -40.5960,\n",
       "        -39.9495, -39.3030, -38.6566, -38.0101, -37.3636, -36.7172, -36.0707,\n",
       "        -35.4242, -34.7778, -34.1313, -33.4848, -32.8384, -32.1919, -31.5455,\n",
       "        -30.8990, -30.2525, -29.6061, -28.9596, -28.3131, -27.6667, -27.0202,\n",
       "        -26.3737, -25.7273, -25.0808, -24.4343, -23.7879, -23.1414, -22.4949,\n",
       "        -21.8485, -21.2020, -20.5556, -19.9091, -19.2626, -18.6162, -17.9697,\n",
       "        -17.3232, -16.6768, -16.0303, -15.3838, -14.7374, -14.0909, -13.4444,\n",
       "        -12.7980, -12.1515, -11.5051, -10.8586, -10.2121,  -9.5657,  -8.9192,\n",
       "         -8.2727,  -7.6263,  -6.9798,  -6.3333,  -5.6869,  -5.0404,  -4.3939,\n",
       "         -3.7475,  -3.1010,  -2.4545,  -1.8081,  -1.1616,  -0.5152,   0.1313,\n",
       "          0.7778,   1.4242,   2.0707,   2.7172,   3.3636,   4.0101,   4.6566,\n",
       "          5.3030,   5.9495,   6.5960,   7.2424,   7.8889,   8.5354,   9.1818,\n",
       "          9.8283,  10.4747,  11.1212,  11.7677,  12.4141,  13.0606,  13.7071,\n",
       "         14.3535,  15.0000], dtype=torch.float64, grad_fn=<AddBackward0>)"
      ]
     },
     "execution_count": 50,
     "metadata": {},
     "output_type": "execute_result"
    }
   ],
   "source": [
    "model(x)"
   ]
  },
  {
   "cell_type": "code",
   "execution_count": 51,
   "metadata": {
    "colab": {
     "base_uri": "https://localhost:8080/",
     "height": 265
    },
    "executionInfo": {
     "elapsed": 492,
     "status": "ok",
     "timestamp": 1664438428529,
     "user": {
      "displayName": "Sanjay Sane",
      "userId": "07643709861745318184"
     },
     "user_tz": -330
    },
    "id": "zCXdH7Sb_bSO",
    "outputId": "f3806eb9-ef71-4f5c-e260-95a44c381c04"
   },
   "outputs": [
    {
     "data": {
      "image/png": "[encoded data removed]",
      "text/plain": [
       "<Figure size 640x480 with 1 Axes>"
      ]
     },
     "metadata": {},
     "output_type": "display_data"
    }
   ],
   "source": [
    "plot_data(x.numpy(),y.numpy(),model(x).detach().numpy())"
   ]
  },
  {
   "cell_type": "markdown",
   "metadata": {
    "id": "gmkrmVHVEF0K"
   },
   "source": [
    "**Initial Loss**: Loss calculated on applying initialized values"
   ]
  },
  {
   "cell_type": "code",
   "execution_count": 52,
   "metadata": {
    "colab": {
     "base_uri": "https://localhost:8080/"
    },
    "executionInfo": {
     "elapsed": 443,
     "status": "ok",
     "timestamp": 1664438432617,
     "user": {
      "displayName": "Sanjay Sane",
      "userId": "07643709861745318184"
     },
     "user_tz": -330
    },
    "id": "R-4_jssREOmB",
    "outputId": "c6dcbff9-3bdd-4f81-c735-986f7a085dad"
   },
   "outputs": [
    {
     "data": {
      "text/plain": [
       "tensor(750.6128, dtype=torch.float64, grad_fn=<MeanBackward0>)"
      ]
     },
     "execution_count": 52,
     "metadata": {},
     "output_type": "execute_result"
    }
   ],
   "source": [
    "loss(model(x),y)"
   ]
  },
  {
   "cell_type": "markdown",
   "metadata": {
    "id": "jjUa9mHPEasF"
   },
   "source": [
    "This is what is to be minimized."
   ]
  },
  {
   "cell_type": "markdown",
   "metadata": {
    "id": "0umJb5IGGewt"
   },
   "source": [
    "Initial Weights:"
   ]
  },
  {
   "cell_type": "code",
   "execution_count": 53,
   "metadata": {
    "colab": {
     "base_uri": "https://localhost:8080/"
    },
    "executionInfo": {
     "elapsed": 441,
     "status": "ok",
     "timestamp": 1664438479711,
     "user": {
      "displayName": "Sanjay Sane",
      "userId": "07643709861745318184"
     },
     "user_tz": -330
    },
    "id": "luqAm4uwGd4s",
    "outputId": "db9693ca-c973-4a4c-92a1-466f0cc883b3"
   },
   "outputs": [
    {
     "name": "stdout",
     "output_type": "stream",
     "text": [
      "16.0 -17.0\n"
     ]
    }
   ],
   "source": [
    "print(model.w.detach().numpy(), model.b.detach().numpy())"
   ]
  },
  {
   "cell_type": "markdown",
   "metadata": {
    "id": "z7PRtu74DvvO"
   },
   "source": [
    "Defining the training loop"
   ]
  },
  {
   "cell_type": "code",
   "execution_count": 54,
   "metadata": {
    "colab": {
     "base_uri": "https://localhost:8080/"
    },
    "executionInfo": {
     "elapsed": 565,
     "status": "ok",
     "timestamp": 1664439288459,
     "user": {
      "displayName": "Sanjay Sane",
      "userId": "07643709861745318184"
     },
     "user_tz": -330
    },
    "id": "I2NVko_4RPyP",
    "outputId": "8ba38df7-c28c-4b31-f007-878de366dac6"
   },
   "outputs": [],
   "source": [
    "model.w.grad"
   ]
  },
  {
   "cell_type": "code",
   "execution_count": 55,
   "metadata": {},
   "outputs": [
    {
     "data": {
      "text/plain": [
       "tensor(16., requires_grad=True)"
      ]
     },
     "execution_count": 55,
     "metadata": {},
     "output_type": "execute_result"
    }
   ],
   "source": [
    "model.w"
   ]
  },
  {
   "cell_type": "code",
   "execution_count": 56,
   "metadata": {},
   "outputs": [
    {
     "data": {
      "text/plain": [
       "NoneType"
      ]
     },
     "execution_count": 56,
     "metadata": {},
     "output_type": "execute_result"
    }
   ],
   "source": [
    "type(model.b.grad)"
   ]
  },
  {
   "cell_type": "code",
   "execution_count": 57,
   "metadata": {
    "executionInfo": {
     "elapsed": 757,
     "status": "ok",
     "timestamp": 1664439300401,
     "user": {
      "displayName": "Sanjay Sane",
      "userId": "07643709861745318184"
     },
     "user_tz": -330
    },
    "id": "auzi_X3WLQnx"
   },
   "outputs": [],
   "source": [
    "def train(model, inputs, outputs, learning_rate):\n",
    "  current_loss = loss(model(inputs),outputs)\n",
    "  current_loss.backward() # Calculates the gradient\n",
    "  model.w.data = w.data - learning_rate * model.w.grad\n",
    "  model.b.data = b.data - learning_rate * model.b.grad\n",
    "  return current_loss;"
   ]
  },
  {
   "cell_type": "code",
   "execution_count": 62,
   "metadata": {
    "colab": {
     "base_uri": "https://localhost:8080/"
    },
    "executionInfo": {
     "elapsed": 451,
     "status": "ok",
     "timestamp": 1664439305505,
     "user": {
      "displayName": "Sanjay Sane",
      "userId": "07643709861745318184"
     },
     "user_tz": -330
    },
    "id": "3zEOxU3t00HV",
    "outputId": "68281e5f-8303-4e1e-e1bd-661c53a0f861"
   },
   "outputs": [
    {
     "name": "stdout",
     "output_type": "stream",
     "text": [
      "Epoch  0: w=16.00 b=-17.00, loss=0.00000\n",
      "Epoch  1: w=12.19 b=-12.60, loss=750.61279\n",
      "Epoch  2: w=9.42 b=-9.08, loss=451.03962\n",
      "Epoch  3: w=7.40 b=-6.26, loss=273.11123\n",
      "Epoch  4: w=5.93 b=-4.01, loss=166.54899\n",
      "Epoch  5: w=4.86 b=-2.21, loss=102.22376\n",
      "Epoch  6: w=4.08 b=-0.77, loss=63.10879\n",
      "Epoch  7: w=3.52 b=0.39, loss=39.16322\n",
      "Epoch  8: w=3.10 b=1.31, loss=24.41456\n",
      "Epoch  9: w=2.80 b=2.05, loss=15.28095\n",
      "Epoch 10: w=2.58 b=2.64, loss=9.59733\n",
      "Epoch 11: w=2.43 b=3.11, loss=6.04558\n",
      "Epoch 12: w=2.31 b=3.49, loss=3.81793\n",
      "Epoch 13: w=2.23 b=3.79, loss=2.41632\n",
      "Epoch 14: w=2.16 b=4.03, loss=1.53206\n",
      "Epoch 15: w=2.12 b=4.23, loss=0.97289\n",
      "Epoch 16: w=2.09 b=4.38, loss=0.61861\n",
      "Epoch 17: w=2.06 b=4.50, loss=0.39377\n",
      "Epoch 18: w=2.05 b=4.60, loss=0.25088\n",
      "Epoch 19: w=2.03 b=4.68, loss=0.15996\n",
      "Epoch 20: w=2.02 b=4.75, loss=0.10206\n",
      "Epoch 21: w=2.02 b=4.80, loss=0.06515\n",
      "Epoch 22: w=2.01 b=4.84, loss=0.04160\n",
      "Epoch 23: w=2.01 b=4.87, loss=0.02658\n",
      "Epoch 24: w=2.01 b=4.90, loss=0.01699\n",
      "Epoch 25: w=2.00 b=4.92, loss=0.01086\n",
      "Epoch 26: w=2.00 b=4.93, loss=0.00694\n",
      "Epoch 27: w=2.00 b=4.95, loss=0.00444\n",
      "Epoch 28: w=2.00 b=4.96, loss=0.00284\n",
      "Epoch 29: w=2.00 b=4.97, loss=0.00182\n",
      "Epoch 30: w=2.00 b=4.97, loss=0.00116\n",
      "Epoch 31: w=2.00 b=4.98, loss=0.00074\n",
      "Epoch 32: w=2.00 b=4.98, loss=0.00048\n",
      "Epoch 33: w=2.00 b=4.99, loss=0.00030\n",
      "Epoch 34: w=2.00 b=4.99, loss=0.00019\n",
      "Epoch 35: w=2.00 b=4.99, loss=0.00012\n",
      "Epoch 36: w=2.00 b=4.99, loss=0.00008\n",
      "Epoch 37: w=2.00 b=4.99, loss=0.00005\n",
      "Epoch 38: w=2.00 b=5.00, loss=0.00003\n",
      "Epoch 39: w=2.00 b=5.00, loss=0.00002\n",
      "Epoch 40: w=2.00 b=5.00, loss=0.00001\n",
      "Epoch 41: w=2.00 b=5.00, loss=0.00001\n",
      "Epoch 42: w=2.00 b=5.00, loss=0.00001\n",
      "Epoch 43: w=2.00 b=5.00, loss=0.00000\n",
      "Epoch 44: w=2.00 b=5.00, loss=0.00000\n",
      "Epoch 45: w=2.00 b=5.00, loss=0.00000\n",
      "Epoch 46: w=2.00 b=5.00, loss=0.00000\n",
      "Epoch 47: w=2.00 b=5.00, loss=0.00000\n",
      "Epoch 48: w=2.00 b=5.00, loss=0.00000\n",
      "Epoch 49: w=2.00 b=5.00, loss=0.00000\n"
     ]
    }
   ],
   "source": [
    "model = Model()\n",
    "list_w = []\n",
    "list_b = []\n",
    "losses = []\n",
    "for epoch in range(50):\n",
    "  print('Epoch %2d: w=%1.2f b=%1.2f, loss=%2.5f' % (epoch,model.w.detach().numpy(),model.b.detach().numpy(),curr_loss))\n",
    "  list_w.append(model.w.detach().numpy())\n",
    "  list_b.append(model.b.detach().numpy())\n",
    "  curr_loss = train(model, x, y, learning_rate=0.1)\n",
    "  losses.append(curr_loss.detach().numpy())\n",
    "  \n"
   ]
  },
  {
   "cell_type": "code",
   "execution_count": 64,
   "metadata": {},
   "outputs": [
    {
     "data": {
      "image/png": "[encoded data removed]",
      "text/plain": [
       "<Figure size 640x480 with 1 Axes>"
      ]
     },
     "metadata": {},
     "output_type": "display_data"
    }
   ],
   "source": [
    "plt.plot(np.arange(0,50), losses)\n",
    "plt.title(\"Learning Curve\")\n",
    "plt.show()"
   ]
  },
  {
   "cell_type": "code",
   "execution_count": null,
   "metadata": {},
   "outputs": [],
   "source": []
  }
 ],
 "metadata": {
  "colab": {
   "authorship_tag": "ABX9TyMwb0YGlh+kYCsrhTV4NjZL",
   "provenance": []
  },
  "kernelspec": {
   "display_name": "Python 3 (ipykernel)",
   "language": "python",
   "name": "python3"
  },
  "language_info": {
   "codemirror_mode": {
    "name": "ipython",
    "version": 3
   },
   "file_extension": ".py",
   "mimetype": "text/x-python",
   "name": "python",
   "nbconvert_exporter": "python",
   "pygments_lexer": "ipython3",
   "version": "3.10.9"
  }
 },
 "nbformat": 4,
 "nbformat_minor": 1
}
