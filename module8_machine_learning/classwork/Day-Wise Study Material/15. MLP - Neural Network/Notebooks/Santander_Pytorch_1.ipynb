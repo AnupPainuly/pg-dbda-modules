{
  "nbformat": 4,
  "nbformat_minor": 0,
  "metadata": {
    "colab": {
      "provenance": [],
      "gpuType": "T4"
    },
    "kernelspec": {
      "name": "python3",
      "display_name": "Python 3"
    },
    "language_info": {
      "name": "python"
    },
    "accelerator": "GPU"
  },
  "cells": [
    {
      "cell_type": "code",
      "metadata": {
        "id": "CXYW6Bj0_M6A"
      },
      "source": [
        "!pip install -q kaggle"
      ],
      "execution_count": 1,
      "outputs": []
    },
    {
      "cell_type": "markdown",
      "metadata": {
        "id": "BRGagFj0_YVc"
      },
      "source": [
        "Moving JSON file into /.kaggle"
      ]
    },
    {
      "cell_type": "code",
      "metadata": {
        "id": "HVjHIVj4_UyV"
      },
      "source": [
        "!mkdir -p ~/.kaggle\n",
        "!cp kaggle.json ~/.kaggle/"
      ],
      "execution_count": 2,
      "outputs": []
    },
    {
      "cell_type": "markdown",
      "metadata": {
        "id": "wcle-dcO_2qI"
      },
      "source": [
        "To Make the JSON file secure"
      ]
    },
    {
      "cell_type": "code",
      "metadata": {
        "id": "Yn2hxW8v_uTc"
      },
      "source": [
        "!chmod 600 /root/.kaggle/kaggle.json"
      ],
      "execution_count": 3,
      "outputs": []
    },
    {
      "cell_type": "markdown",
      "metadata": {
        "id": "cHE4z3KlAxs6"
      },
      "source": [
        "Copying the dataset locally"
      ]
    },
    {
      "cell_type": "code",
      "metadata": {
        "id": "NPMPmcKEAwWq"
      },
      "source": [
        "!kaggle competitions download -c santander-customer-satisfaction"
      ],
      "execution_count": null,
      "outputs": []
    },
    {
      "cell_type": "code",
      "metadata": {
        "id": "cPF4iJZr3gi9",
        "colab": {
          "base_uri": "https://localhost:8080/"
        },
        "outputId": "5de67de4-7243-4e04-cd16-b173c17d4871"
      },
      "source": [
        "! unzip \"/content/santander-customer-satisfaction.zip\" -d \"/content/drive/MyDrive/Kaggle Competitions/Santander Customer Satisfaction\""
      ],
      "execution_count": 7,
      "outputs": [
        {
          "output_type": "stream",
          "name": "stdout",
          "text": [
            "Archive:  /content/santander-customer-satisfaction.zip\n",
            "  inflating: /content/drive/MyDrive/Kaggle Competitions/Santander Customer Satisfaction/sample_submission.csv  \n",
            "  inflating: /content/drive/MyDrive/Kaggle Competitions/Santander Customer Satisfaction/test.csv  \n",
            "  inflating: /content/drive/MyDrive/Kaggle Competitions/Santander Customer Satisfaction/train.csv  \n"
          ]
        }
      ]
    },
    {
      "cell_type": "code",
      "source": [
        "import os\n",
        "os.chdir(\"/content/drive/MyDrive/Kaggle Competitions/Santander Customer Satisfaction\")\n",
        "import torch\n",
        "import pandas as pd\n",
        "import numpy as np\n",
        "import torch.nn as nn\n",
        "from sklearn.preprocessing import LabelEncoder\n",
        "from sklearn.model_selection import train_test_split\n",
        "from sklearn.metrics import accuracy_score, log_loss\n",
        "from sklearn.preprocessing import MinMaxScaler, StandardScaler\n",
        "from sklearn.decomposition import PCA\n",
        "import matplotlib.pyplot as plt"
      ],
      "metadata": {
        "id": "CheTp8fjC4DR"
      },
      "execution_count": 4,
      "outputs": []
    },
    {
      "cell_type": "code",
      "source": [
        "train = pd.read_csv(\"train.csv\")\n",
        "test = pd.read_csv(\"test.csv\")"
      ],
      "metadata": {
        "id": "6cJDr4WbHqBT"
      },
      "execution_count": 5,
      "outputs": []
    },
    {
      "cell_type": "code",
      "source": [
        "X = train.drop(['ID','TARGET'], axis=1).values\n",
        "y = train['TARGET'].values"
      ],
      "metadata": {
        "id": "60IbdLZbH5r8"
      },
      "execution_count": 6,
      "outputs": []
    },
    {
      "cell_type": "code",
      "source": [
        "scaler = StandardScaler()\n",
        "X_train, X_test, y_train, y_test = train_test_split(X, y, test_size = 0.3,\n",
        "                                                    random_state=23,stratify=y)\n",
        "X_scl_trn = scaler.fit_transform(X_train)\n",
        "X_scl_tst = scaler.transform(X_test)\n"
      ],
      "metadata": {
        "id": "WF8EhOWUShl2"
      },
      "execution_count": 7,
      "outputs": []
    },
    {
      "cell_type": "code",
      "source": [
        "pca = PCA(n_components=0.9)\n",
        "X_PC_trn = pca.fit_transform(X_scl_trn)\n",
        "X_PC_tst = pca.transform(X_scl_tst)\n",
        "print(X_PC_trn.shape)\n",
        "print(X_PC_tst.shape)"
      ],
      "metadata": {
        "colab": {
          "base_uri": "https://localhost:8080/"
        },
        "id": "gpcGn_1qSiX2",
        "outputId": "cf730cd0-1893-41b6-c00c-bab88a7a3fd7"
      },
      "execution_count": 8,
      "outputs": [
        {
          "output_type": "stream",
          "name": "stdout",
          "text": [
            "(53214, 74)\n",
            "(22806, 74)\n"
          ]
        }
      ]
    },
    {
      "cell_type": "code",
      "source": [
        "X_torch = torch.from_numpy(X_PC_trn)\n",
        "y_torch = torch.from_numpy(y_train).reshape(-1,1)\n",
        "X_torch_test = torch.from_numpy(X_PC_tst)\n",
        "y_torch_test = torch.from_numpy(y_test).reshape(-1,1)\n",
        "print(X_torch.size())\n",
        "print(y_torch.size())\n",
        "print(X_torch_test.size())\n",
        "print(y_torch_test.size())"
      ],
      "metadata": {
        "colab": {
          "base_uri": "https://localhost:8080/"
        },
        "id": "ftIpne1gIOCF",
        "outputId": "8a51c94d-e0d5-491f-bb11-1f2aefa728b1"
      },
      "execution_count": 9,
      "outputs": [
        {
          "output_type": "stream",
          "name": "stdout",
          "text": [
            "torch.Size([53214, 74])\n",
            "torch.Size([53214, 1])\n",
            "torch.Size([22806, 74])\n",
            "torch.Size([22806, 1])\n"
          ]
        }
      ]
    },
    {
      "cell_type": "markdown",
      "source": [
        "Defining the Model"
      ],
      "metadata": {
        "id": "mGvWC69eI3QW"
      }
    },
    {
      "cell_type": "code",
      "source": [
        "class MLPClassifier(torch.nn.Module):\n",
        "    def __init__(self, num_features):\n",
        "        super().__init__()\n",
        "        self.apply(self._init_weights) # Weight Initialization\n",
        "        self.linear1 = nn.Linear(in_features=num_features, out_features=50)\n",
        "        self.linear2 = nn.Linear(50, 20)\n",
        "        self.linear3 = nn.Linear(20,10)\n",
        "        self.linear4 = nn.Linear(10,1)\n",
        "        self.relu = nn.ReLU()\n",
        "        self.selu = nn.SELU()\n",
        "        self.dropout = nn.Dropout(0.2)\n",
        "        #self.bn = nn.BatchNorm1d(100)\n",
        "\n",
        "    def _init_weights(self, module):\n",
        "        if isinstance(module, nn.Linear):\n",
        "            module.weight.data.xavier_uniform_()\n",
        "            if module.bias is not None:\n",
        "                module.bias.data.zero_()\n",
        "\n",
        "    def forward(self, x):\n",
        "        #x = self.dropout(x)\n",
        "        x = self.linear1(x)\n",
        "        x = self.linear2(x)\n",
        "        #x = self.bn(x)\n",
        "        x = self.linear3(x)\n",
        "        output = self.linear4(x)\n",
        "        return output"
      ],
      "metadata": {
        "id": "YDBa-Ae7I45E"
      },
      "execution_count": 10,
      "outputs": []
    },
    {
      "cell_type": "code",
      "source": [
        "torch.manual_seed(23)\n",
        "model = MLPClassifier(num_features=X_PC_trn.shape[1])"
      ],
      "metadata": {
        "id": "ZNcOHRXDJpNn"
      },
      "execution_count": 11,
      "outputs": []
    },
    {
      "cell_type": "code",
      "source": [
        "criterion = torch.nn.BCEWithLogitsLoss()\n",
        "optimizer = torch.optim.Adamax(model.parameters())\n",
        "optimizer"
      ],
      "metadata": {
        "colab": {
          "base_uri": "https://localhost:8080/"
        },
        "id": "nOypXxsnIztG",
        "outputId": "c5ad3078-0438-4956-8a99-1441b9b8ae19"
      },
      "execution_count": 12,
      "outputs": [
        {
          "output_type": "execute_result",
          "data": {
            "text/plain": [
              "Adamax (\n",
              "Parameter Group 0\n",
              "    betas: (0.9, 0.999)\n",
              "    differentiable: False\n",
              "    eps: 1e-08\n",
              "    foreach: None\n",
              "    lr: 0.002\n",
              "    maximize: False\n",
              "    weight_decay: 0\n",
              ")"
            ]
          },
          "metadata": {},
          "execution_count": 12
        }
      ]
    },
    {
      "cell_type": "markdown",
      "source": [
        "### Training Loop"
      ],
      "metadata": {
        "id": "gv6M5ZYCKOC4"
      }
    },
    {
      "cell_type": "code",
      "source": [
        "train_losses = []\n",
        "test_losses = []\n",
        "for epoch in np.arange(0,500):\n",
        "    # Forward pass: Compute predicted y by passing x to the model\n",
        "    y_pred_prob = model(X_torch.float())\n",
        "    y_pred_prob_test = model(X_torch_test.float())\n",
        "\n",
        "    # Compute and print loss\n",
        "    loss = criterion(y_pred_prob, y_torch.float())\n",
        "    train_losses.append(loss.detach().numpy())\n",
        "    tst_loss = criterion(y_pred_prob_test, y_torch_test.float() )\n",
        "    test_losses.append(tst_loss.detach().numpy())\n",
        "\n",
        "    # Zero gradients, perform a backward pass, and update the weights.\n",
        "    optimizer.zero_grad()\n",
        "\n",
        "    # perform a backward pass (backpropagation)\n",
        "    loss.backward()\n",
        "\n",
        "    # Update the parameters\n",
        "    optimizer.step()\n",
        "    if epoch%10 == 0:\n",
        "      print('epoch: ', epoch+1,' train loss: ', loss.item(), \" test loss:\", tst_loss.item())"
      ],
      "metadata": {
        "colab": {
          "base_uri": "https://localhost:8080/"
        },
        "id": "WhJjjCLmKCe9",
        "outputId": "83935eb9-0dc7-4463-f627-d791b5d61d9a"
      },
      "execution_count": 13,
      "outputs": [
        {
          "output_type": "stream",
          "name": "stdout",
          "text": [
            "epoch:  1  train loss:  0.5776174664497375  test loss: 0.5769173502922058\n",
            "epoch:  11  train loss:  0.4893755614757538  test loss: 0.488797664642334\n",
            "epoch:  21  train loss:  0.4064651131629944  test loss: 0.40595483779907227\n",
            "epoch:  31  train loss:  0.3123723864555359  test loss: 0.3123684525489807\n",
            "epoch:  41  train loss:  0.21887360513210297  test loss: 0.21890360116958618\n",
            "epoch:  51  train loss:  0.16333651542663574  test loss: 0.16367512941360474\n",
            "epoch:  61  train loss:  0.14932623505592346  test loss: 0.14932918548583984\n",
            "epoch:  71  train loss:  0.14753344655036926  test loss: 0.1479054093360901\n",
            "epoch:  81  train loss:  0.14712348580360413  test loss: 0.1481776088476181\n",
            "epoch:  91  train loss:  0.14691299200057983  test loss: 0.1481482833623886\n",
            "epoch:  101  train loss:  0.14678983390331268  test loss: 0.14811602234840393\n",
            "epoch:  111  train loss:  0.14671793580055237  test loss: 0.14831072092056274\n",
            "epoch:  121  train loss:  0.1466740369796753  test loss: 0.1484694927930832\n",
            "epoch:  131  train loss:  0.14663729071617126  test loss: 0.14860041439533234\n",
            "epoch:  141  train loss:  0.1466056853532791  test loss: 0.1487138867378235\n",
            "epoch:  151  train loss:  0.14657902717590332  test loss: 0.14881320297718048\n",
            "epoch:  161  train loss:  0.14655570685863495  test loss: 0.1489124596118927\n",
            "epoch:  171  train loss:  0.1465347856283188  test loss: 0.1490209698677063\n",
            "epoch:  181  train loss:  0.1465158462524414  test loss: 0.14912492036819458\n",
            "epoch:  191  train loss:  0.14649850130081177  test loss: 0.14922663569450378\n",
            "epoch:  201  train loss:  0.14648248255252838  test loss: 0.14932623505592346\n",
            "epoch:  211  train loss:  0.14646771550178528  test loss: 0.14944034814834595\n",
            "epoch:  221  train loss:  0.1464538425207138  test loss: 0.14951179921627045\n",
            "epoch:  231  train loss:  0.14644069969654083  test loss: 0.14959204196929932\n",
            "epoch:  241  train loss:  0.14642812311649323  test loss: 0.14966699481010437\n",
            "epoch:  251  train loss:  0.14641602337360382  test loss: 0.14973703026771545\n",
            "epoch:  261  train loss:  0.14640434086322784  test loss: 0.1498042792081833\n",
            "epoch:  271  train loss:  0.14639297127723694  test loss: 0.1498657912015915\n",
            "epoch:  281  train loss:  0.14638182520866394  test loss: 0.14992624521255493\n",
            "epoch:  291  train loss:  0.14637084305286407  test loss: 0.14998281002044678\n",
            "epoch:  301  train loss:  0.14636000990867615  test loss: 0.1500367373228073\n",
            "epoch:  311  train loss:  0.14634969830513  test loss: 0.1500939130783081\n",
            "epoch:  321  train loss:  0.146339550614357  test loss: 0.15014125406742096\n",
            "epoch:  331  train loss:  0.14632849395275116  test loss: 0.15019136667251587\n",
            "epoch:  341  train loss:  0.1463177651166916  test loss: 0.1502356380224228\n",
            "epoch:  351  train loss:  0.14630736410617828  test loss: 0.15027977526187897\n",
            "epoch:  361  train loss:  0.14629696309566498  test loss: 0.15032996237277985\n",
            "epoch:  371  train loss:  0.14628660678863525  test loss: 0.15037156641483307\n",
            "epoch:  381  train loss:  0.1462763100862503  test loss: 0.15041685104370117\n",
            "epoch:  391  train loss:  0.14626608788967133  test loss: 0.15046143531799316\n",
            "epoch:  401  train loss:  0.14625586569309235  test loss: 0.15050552785396576\n",
            "epoch:  411  train loss:  0.14624571800231934  test loss: 0.1505497246980667\n",
            "epoch:  421  train loss:  0.14623558521270752  test loss: 0.15059363842010498\n",
            "epoch:  431  train loss:  0.1462254822254181  test loss: 0.15063726902008057\n",
            "epoch:  441  train loss:  0.14621540904045105  test loss: 0.15068097412586212\n",
            "epoch:  451  train loss:  0.14620539546012878  test loss: 0.15072457492351532\n",
            "epoch:  461  train loss:  0.1461954116821289  test loss: 0.15076814591884613\n",
            "epoch:  471  train loss:  0.14618545770645142  test loss: 0.15081174671649933\n",
            "epoch:  481  train loss:  0.1461755484342575  test loss: 0.15085536241531372\n",
            "epoch:  491  train loss:  0.146165668964386  test loss: 0.1508989930152893\n"
          ]
        }
      ]
    },
    {
      "cell_type": "code",
      "source": [
        "from sklearn.pipeline import Pipeline\n",
        "scaler = StandardScaler()\n",
        "pca = PCA(n_components=0.9)\n",
        "pipe = Pipeline([('SCL', scaler), ('PCA', pca)])\n",
        "X_PC_trn = pipe.fit_transform(X_train)\n",
        "test_PC = pipe.transform(test.drop('ID', axis=1).values)\n",
        "print(test_PC.shape)"
      ],
      "metadata": {
        "colab": {
          "base_uri": "https://localhost:8080/"
        },
        "id": "KaeVYHo9X8hA",
        "outputId": "c381dc35-cf2f-42b8-885f-f66f50579223"
      },
      "execution_count": 15,
      "outputs": [
        {
          "output_type": "stream",
          "name": "stdout",
          "text": [
            "(75818, 74)\n"
          ]
        }
      ]
    },
    {
      "cell_type": "code",
      "source": [
        "tst_torch_pc = torch.from_numpy(test_PC).float()\n",
        "tst_torch_pc.size()"
      ],
      "metadata": {
        "colab": {
          "base_uri": "https://localhost:8080/"
        },
        "id": "xP_3pTkeZlqO",
        "outputId": "7ce2a1de-052c-4b88-bd44-1fe379478727"
      },
      "execution_count": 28,
      "outputs": [
        {
          "output_type": "execute_result",
          "data": {
            "text/plain": [
              "torch.Size([75818, 74])"
            ]
          },
          "metadata": {},
          "execution_count": 28
        }
      ]
    },
    {
      "cell_type": "code",
      "source": [
        "model = model.eval()\n",
        "y_pred = model(tst_torch_pc)\n",
        "y_pred.shape"
      ],
      "metadata": {
        "colab": {
          "base_uri": "https://localhost:8080/"
        },
        "id": "xLfBz7eZY9uR",
        "outputId": "8da9a2f4-4f38-4adb-eeee-c1f31f8ac00e"
      },
      "execution_count": 32,
      "outputs": [
        {
          "output_type": "execute_result",
          "data": {
            "text/plain": [
              "torch.Size([75818, 1])"
            ]
          },
          "metadata": {},
          "execution_count": 32
        }
      ]
    },
    {
      "cell_type": "code",
      "source": [
        "act = nn.Sigmoid()\n",
        "y_pred_prob = act(y_pred)\n",
        "y_pred_prob[:,0].shape"
      ],
      "metadata": {
        "colab": {
          "base_uri": "https://localhost:8080/"
        },
        "id": "zLDxXhmTamsO",
        "outputId": "ece49c5f-99fe-4ed2-be7d-8ff8f3b053e3"
      },
      "execution_count": 39,
      "outputs": [
        {
          "output_type": "execute_result",
          "data": {
            "text/plain": [
              "torch.Size([75818])"
            ]
          },
          "metadata": {},
          "execution_count": 39
        }
      ]
    },
    {
      "cell_type": "code",
      "source": [
        "submit = pd.DataFrame({'ID':test.ID,'TARGET': y_pred_prob[:,0].detach().numpy()})\n",
        "submit.to_csv(\"sbt_pytrch_1.csv\", index=False)"
      ],
      "metadata": {
        "id": "UBFEt_4hbbjF"
      },
      "execution_count": 41,
      "outputs": []
    },
    {
      "cell_type": "code",
      "source": [
        "!kaggle competitions submit -c santander-customer-satisfaction -f \"sbt_pytrch_1.csv\" -m \"Pytorch 1st\""
      ],
      "metadata": {
        "colab": {
          "base_uri": "https://localhost:8080/"
        },
        "id": "3jhmaN2DcFsP",
        "outputId": "d733b372-7fd2-415f-85a8-9e5fbbe84404"
      },
      "execution_count": 42,
      "outputs": [
        {
          "output_type": "stream",
          "name": "stdout",
          "text": [
            "100% 1.30M/1.30M [00:01<00:00, 939kB/s] \n",
            "Successfully submitted to Santander Customer Satisfaction"
          ]
        }
      ]
    }
  ]
}