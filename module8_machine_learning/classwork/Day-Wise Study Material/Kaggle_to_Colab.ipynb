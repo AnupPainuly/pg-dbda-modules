{
  "nbformat": 4,
  "nbformat_minor": 0,
  "metadata": {
    "colab": {
      "provenance": []
    },
    "kernelspec": {
      "name": "python3",
      "display_name": "Python 3"
    },
    "language_info": {
      "name": "python"
    }
  },
  "cells": [
    {
      "cell_type": "code",
      "metadata": {
        "id": "CXYW6Bj0_M6A"
      },
      "source": [
        "!pip install -q kaggle"
      ],
      "execution_count": 1,
      "outputs": []
    },
    {
      "cell_type": "markdown",
      "metadata": {
        "id": "BRGagFj0_YVc"
      },
      "source": [
        "Moving JSON file into /.kaggle"
      ]
    },
    {
      "cell_type": "code",
      "metadata": {
        "id": "HVjHIVj4_UyV"
      },
      "source": [
        "!mkdir -p ~/.kaggle\n",
        "!cp kaggle.json ~/.kaggle/"
      ],
      "execution_count": 3,
      "outputs": []
    },
    {
      "cell_type": "markdown",
      "metadata": {
        "id": "wcle-dcO_2qI"
      },
      "source": [
        "To Make the JSON file secure"
      ]
    },
    {
      "cell_type": "code",
      "metadata": {
        "id": "Yn2hxW8v_uTc"
      },
      "source": [
        "!chmod 600 /root/.kaggle/kaggle.json"
      ],
      "execution_count": 4,
      "outputs": []
    },
    {
      "cell_type": "markdown",
      "metadata": {
        "id": "cHE4z3KlAxs6"
      },
      "source": [
        "Copying the dataset locally"
      ]
    },
    {
      "cell_type": "code",
      "metadata": {
        "id": "NPMPmcKEAwWq",
        "colab": {
          "base_uri": "https://localhost:8080/"
        },
        "outputId": "ba957b09-a39b-4e69-a3ff-f6893ae88ae9"
      },
      "source": [
        "!kaggle competitions download -c santander-customer-satisfaction"
      ],
      "execution_count": 5,
      "outputs": [
        {
          "output_type": "stream",
          "name": "stdout",
          "text": [
            "Downloading santander-customer-satisfaction.zip to /content\n",
            "\r  0% 0.00/8.25M [00:00<?, ?B/s]\r 61% 5.00M/8.25M [00:00<00:00, 29.9MB/s]\n",
            "\r100% 8.25M/8.25M [00:00<00:00, 45.7MB/s]\n"
          ]
        }
      ]
    },
    {
      "cell_type": "code",
      "metadata": {
        "id": "cPF4iJZr3gi9",
        "colab": {
          "base_uri": "https://localhost:8080/"
        },
        "outputId": "5de67de4-7243-4e04-cd16-b173c17d4871"
      },
      "source": [
        "! unzip \"/content/santander-customer-satisfaction.zip\" -d \"/content/drive/MyDrive/Kaggle Competitions/Santander Customer Satisfaction\""
      ],
      "execution_count": 7,
      "outputs": [
        {
          "output_type": "stream",
          "name": "stdout",
          "text": [
            "Archive:  /content/santander-customer-satisfaction.zip\n",
            "  inflating: /content/drive/MyDrive/Kaggle Competitions/Santander Customer Satisfaction/sample_submission.csv  \n",
            "  inflating: /content/drive/MyDrive/Kaggle Competitions/Santander Customer Satisfaction/test.csv  \n",
            "  inflating: /content/drive/MyDrive/Kaggle Competitions/Santander Customer Satisfaction/train.csv  \n"
          ]
        }
      ]
    },
    {
      "cell_type": "code",
      "source": [],
      "metadata": {
        "id": "CheTp8fjC4DR"
      },
      "execution_count": null,
      "outputs": []
    }
  ]
}