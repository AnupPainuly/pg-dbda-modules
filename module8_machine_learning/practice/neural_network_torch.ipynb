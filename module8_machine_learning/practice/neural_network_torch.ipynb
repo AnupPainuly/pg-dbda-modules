{
 "cells": [
  {
   "cell_type": "code",
   "execution_count": 3,
   "metadata": {
    "id": "JvnOERuqpKL5"
   },
   "outputs": [],
   "source": [
    "import torch\n",
    "import torch.nn as nn\n",
    "import torch.nn.functional as F\n",
    "from torch.optim import SGD\n",
    "from matplotlib import pyplot as plt\n",
    "import seaborn as sns"
   ]
  },
  {
   "cell_type": "code",
   "execution_count": 4,
   "metadata": {},
   "outputs": [],
   "source": [
    "\n",
    "# Building a basic neural network\n",
    "class BasicNN(nn.Module):\n",
    "    # initializing the constructor for our class BasicNN\n",
    "    def __init__(self):\n",
    "        #calling the constructor of parent class (Module)\n",
    "        super().__init__()\n",
    "        # Attributes of weight and biases for the nn\n",
    "        self.w00 = nn.Parameter(torch.tensor(1.7), requires_grad=False)\n",
    "        self.b00 = nn.Parameter(torch.tensor(-0.85), requires_grad=False)\n",
    "        self.w01 = nn.Parameter(torch.tensor(-40.8), requires_grad=False)\n",
    "        self.w10 = nn.Parameter(torch.tensor(12.6), requires_grad=False)\n",
    "        self.b10 = nn.Parameter(torch.tensor(0.0), requires_grad=False)\n",
    "        self.w11 = nn.Parameter(torch.tensor(2.7), requires_grad=False)\n",
    "\n",
    "        self.final_bias = nn.Parameter(torch.tensor(-16.), requires_grad=False)\n",
    "\n",
    "    def forward(self, input):\n",
    "        inp_to_top_relu = input * self.w00 + self.b00\n",
    "        top_relu_out = F.relu(inp_to_top_relu)\n",
    "        scaled_top_relu_out = top_relu_out * self.w01\n",
    "\n",
    "        inp_to_bottom_relu = input * self.w10 + self.b10\n",
    "        bottom_relu_out = F.relu(inp_to_bottom_relu)\n",
    "        scaled_bottom_relu_out = bottom_relu_out * self.w11\n",
    "\n",
    "        inp_to_final_relu = scaled_top_relu_out + scaled_bottom_relu_out + self.final_bias\n",
    "        output = F.relu(inp_to_final_relu)\n",
    "        return output\n",
    "\n"
   ]
  },
  {
   "cell_type": "markdown",
   "metadata": {},
   "source": [
    "![picture](https://drive.google.com/uc?id=1TS2LYebQcOnhdjHfvPIGAENz65-qKu6S)\n"
   ]
  },
  {
   "cell_type": "code",
   "execution_count": 5,
   "metadata": {},
   "outputs": [
    {
     "data": {
      "text/plain": [
       "Text(0, 0.5, 'efficacy')"
      ]
     },
     "execution_count": 5,
     "metadata": {},
     "output_type": "execute_result"
    },
    {
     "data": {
      "image/png": "[encoded data removed]",
      "text/plain": [
       "<Figure size 300x200 with 1 Axes>"
      ]
     },
     "metadata": {},
     "output_type": "display_data"
    }
   ],
   "source": [
    "input_doses = torch.linspace(start=0, end=1, steps=11)\n",
    "input_doses\n",
    "model = BasicNN()\n",
    "output_values = model(input_doses)\n",
    "output_values\n",
    "plt.figure(figsize=(3,2))\n",
    "sns.lineplot(x=input_doses, y=output_values, color='green')\n",
    "plt.xlabel('Dose')\n",
    "plt.ylabel('efficacy')"
   ]
  },
  {
   "cell_type": "code",
   "execution_count": 6,
   "metadata": {},
   "outputs": [],
   "source": [
    "# Training Data\n",
    "inputs = torch.tensor([0.0, 0.5, 1.])\n",
    "labels = torch.tensor([0.0, 1.0, 0.0])\n",
    "\n",
    "class BasicNNTrain(nn.Module):\n",
    "    def __init__(self):\n",
    "        super().__init__()\n",
    "        # Attributes of weight and biases for the nn\n",
    "        self.w00 = nn.Parameter(torch.tensor(1.7), requires_grad=False)\n",
    "        self.b00 = nn.Parameter(torch.tensor(-0.85), requires_grad=False)\n",
    "        self.w01 = nn.Parameter(torch.tensor(-40.8), requires_grad=False)\n",
    "        self.w10 = nn.Parameter(torch.tensor(12.6), requires_grad=False)\n",
    "        self.b10 = nn.Parameter(torch.tensor(0.0), requires_grad=False)\n",
    "        self.w11 = nn.Parameter(torch.tensor(2.7), requires_grad=False)\n",
    "\n",
    "        self.final_bias = nn.Parameter(torch.tensor(0.0), requires_grad=True)\n",
    "\n",
    "    def forward(self, input):\n",
    "        inp_to_top_relu = input * self.w00 + self.b00\n",
    "        top_relu_out = F.relu(inp_to_top_relu)\n",
    "        scaled_top_relu_out = top_relu_out * self.w01\n",
    "\n",
    "        inp_to_bottom_relu = input * self.w10 + self.b10\n",
    "        bottom_relu_out = F.relu(inp_to_bottom_relu)\n",
    "        scaled_bottom_relu_out = bottom_relu_out * self.w11\n",
    "\n",
    "        inp_to_final_relu = scaled_top_relu_out + scaled_bottom_relu_out + self.final_bias\n",
    "        output = F.relu(inp_to_final_relu)\n",
    "        return output\n",
    "\n"
   ]
  },
  {
   "cell_type": "code",
   "execution_count": 7,
   "metadata": {},
   "outputs": [
    {
     "name": "stdout",
     "output_type": "stream",
     "text": [
      "Final bias before optimization: 0.0 \n",
      "\n"
     ]
    }
   ],
   "source": [
    "model = BasicNNTrain()\n",
    "\n",
    "# Stochastic Gradient Descent\n",
    "optimizer = SGD(model.parameters(), lr=0.1)\n",
    "print(f\"Final bias before optimization: {model.final_bias.data.item()} \\n\")\n",
    "\n"
   ]
  },
  {
   "cell_type": "code",
   "execution_count": 8,
   "metadata": {},
   "outputs": [
    {
     "data": {
      "text/plain": [
       "Text(0.5, 0, 'Dose')"
      ]
     },
     "execution_count": 8,
     "metadata": {},
     "output_type": "execute_result"
    },
    {
     "data": {
      "image/png": "[encoded data removed]",
      "text/plain": [
       "<Figure size 300x200 with 1 Axes>"
      ]
     },
     "metadata": {},
     "output_type": "display_data"
    }
   ],
   "source": [
    "plt.figure(figsize=(3, 2))\n",
    "output_values = model(input_doses)\n",
    "sns.lineplot(x=input_doses, y=output_values.detach(), color='green')\n",
    "plt.xlabel('Dose')"
   ]
  },
  {
   "cell_type": "code",
   "execution_count": 9,
   "metadata": {
    "scrolled": true
   },
   "outputs": [
    {
     "name": "stdout",
     "output_type": "stream",
     "text": [
      "Epoch 1, Average Loss: 85.44003295898438\n",
      "Epoch 2, Average Loss: 54.68162536621094\n",
      "Epoch 3, Average Loss: 34.996236165364586\n",
      "Epoch 4, Average Loss: 22.39759063720703\n",
      "Epoch 5, Average Loss: 14.334456125895182\n",
      "Epoch 6, Average Loss: 9.174053192138672\n",
      "Epoch 7, Average Loss: 5.8713938395182295\n",
      "Epoch 8, Average Loss: 3.757692019144694\n",
      "Epoch 9, Average Loss: 2.40492312113444\n",
      "Epoch 10, Average Loss: 1.539150555928548\n",
      "Epoch 11, Average Loss: 0.9850567976633707\n",
      "Epoch 12, Average Loss: 0.6304365396499634\n",
      "Epoch 13, Average Loss: 0.40347909927368164\n",
      "Epoch 14, Average Loss: 0.2582268516222636\n",
      "Epoch 15, Average Loss: 0.16526509324709573\n",
      "Epoch 16, Average Loss: 0.1057697335879008\n",
      "Epoch 17, Average Loss: 0.06769262750943501\n",
      "Epoch 18, Average Loss: 0.04332337280114492\n",
      "Epoch 19, Average Loss: 0.027726995448271435\n",
      "Epoch 20, Average Loss: 0.017745306094487507\n",
      "Epoch 21, Average Loss: 0.01135704293847084\n",
      "Epoch 22, Average Loss: 0.007268507654468219\n",
      "Epoch 23, Average Loss: 0.004651844811936219\n",
      "Epoch 24, Average Loss: 0.0029772048195203147\n",
      "Epoch 25, Average Loss: 0.0019053917688628037\n",
      "Epoch 26, Average Loss: 0.0012194353621453047\n",
      "Epoch 27, Average Loss: 0.0007804509562750658\n",
      "Epoch 28, Average Loss: 0.0004994787741452456\n",
      "Epoch 29, Average Loss: 0.00031966640381142497\n",
      "Epoch 30, Average Loss: 0.00020459280737365285\n",
      "Epoch 31, Average Loss: 0.00013093434972688556\n",
      "Epoch 32, Average Loss: 8.38020156758527e-05\n",
      "Epoch 33, Average Loss: 5.363490587721268e-05\n",
      "Epoch 34, Average Loss: 3.432762847902874e-05\n",
      "Epoch 35, Average Loss: 2.1965553363164265e-05\n",
      "Epoch 36, Average Loss: 1.4059605746297166e-05\n",
      "Epoch 37, Average Loss: 8.998147677630186e-06\n",
      "Epoch 38, Average Loss: 5.757757511067514e-06\n",
      "Epoch 39, Average Loss: 3.684119292302057e-06\n",
      "Epoch 40, Average Loss: 2.356483795059224e-06\n",
      "Epoch 41, Average Loss: 1.5076087341488649e-06\n",
      "Epoch 42, Average Loss: 9.648695898552735e-07\n",
      "Epoch 43, Average Loss: 6.18209014646709e-07\n",
      "Epoch 44, Average Loss: 3.953767494143297e-07\n",
      "Epoch 45, Average Loss: 2.5326274529409904e-07\n",
      "Epoch 46, Average Loss: 1.6244302969425917e-07\n",
      "Epoch 47, Average Loss: 1.0410561420333882e-07\n",
      "Epoch 48, Average Loss: 6.640038918703794e-08\n",
      "Epoch 49, Average Loss: 4.240549363506337e-08\n",
      "Epoch 50, Average Loss: 2.7284841053187847e-08\n",
      "Epoch 51, Average Loss: 1.7462298274040222e-08\n",
      "Epoch 52, Average Loss: 1.1175870895385742e-08\n",
      "Epoch 53, Average Loss: 7.1898587824155884e-09\n",
      "Epoch 54, Average Loss: 4.661463511486848e-09\n",
      "Epoch 55, Average Loss: 3.031649005909761e-09\n",
      "Epoch 56, Average Loss: 1.940255363782247e-09\n",
      "Epoch 57, Average Loss: 1.241763432820638e-09\n",
      "Epoch 58, Average Loss: 8.197578911979994e-10\n",
      "Epoch 59, Average Loss: 5.347828846424818e-10\n",
      "Epoch 60, Average Loss: 3.5045862508316833e-10\n",
      "Epoch 61, Average Loss: 2.3768128206332523e-10\n",
      "Epoch 62, Average Loss: 1.4673181188603243e-10\n",
      "Epoch 63, Average Loss: 9.822542779147625e-11\n",
      "Epoch 64, Average Loss: 5.942032051583131e-11\n",
      "Epoch 65, Average Loss: 4.3655745685100555e-11\n",
      "Epoch 66, Average Loss: 3.031649005909761e-11\n",
      "Epoch 67, Average Loss: 1.9402553637822468e-11\n",
      "Epoch 68, Average Loss: 1.0913936421275139e-11\n",
      "Epoch 69, Average Loss: 4.850638409455617e-12\n",
      "Epoch 70, Average Loss: 4.850638409455617e-12\n",
      "Epoch 71, Average Loss: 4.850638409455617e-12\n",
      "Epoch 72, Average Loss: 4.850638409455617e-12\n",
      "Epoch 73, Average Loss: 4.850638409455617e-12\n",
      "Epoch 74, Average Loss: 4.850638409455617e-12\n",
      "Epoch 75, Average Loss: 4.850638409455617e-12\n",
      "Epoch 76, Average Loss: 4.850638409455617e-12\n",
      "Epoch 77, Average Loss: 4.850638409455617e-12\n",
      "Epoch 78, Average Loss: 4.850638409455617e-12\n",
      "Epoch 79, Average Loss: 4.850638409455617e-12\n",
      "Epoch 80, Average Loss: 4.850638409455617e-12\n",
      "Epoch 81, Average Loss: 4.850638409455617e-12\n",
      "Epoch 82, Average Loss: 4.850638409455617e-12\n",
      "Epoch 83, Average Loss: 4.850638409455617e-12\n",
      "Epoch 84, Average Loss: 4.850638409455617e-12\n",
      "Epoch 85, Average Loss: 4.850638409455617e-12\n",
      "Epoch 86, Average Loss: 4.850638409455617e-12\n",
      "Epoch 87, Average Loss: 4.850638409455617e-12\n",
      "Epoch 88, Average Loss: 4.850638409455617e-12\n",
      "Epoch 89, Average Loss: 4.850638409455617e-12\n",
      "Epoch 90, Average Loss: 4.850638409455617e-12\n",
      "Epoch 91, Average Loss: 4.850638409455617e-12\n",
      "Epoch 92, Average Loss: 4.850638409455617e-12\n",
      "Epoch 93, Average Loss: 4.850638409455617e-12\n",
      "Epoch 94, Average Loss: 4.850638409455617e-12\n",
      "Epoch 95, Average Loss: 4.850638409455617e-12\n",
      "Epoch 96, Average Loss: 4.850638409455617e-12\n",
      "Epoch 97, Average Loss: 4.850638409455617e-12\n",
      "Epoch 98, Average Loss: 4.850638409455617e-12\n",
      "Epoch 99, Average Loss: 4.850638409455617e-12\n",
      "Epoch 100, Average Loss: 4.850638409455617e-12\n",
      "Final bias after optimization: -16.00999641418457 \n",
      "\n"
     ]
    }
   ],
   "source": [
    "# Training Loop\n",
    "for epoch in range(100):\n",
    "    total_loss = 0\n",
    "    for i in range(len(inputs)):\n",
    "        input_i = inputs[i]\n",
    "        label_i = labels[i]\n",
    "        output_i = model(input_i)\n",
    "\n",
    "        loss = (output_i - label_i) ** 2\n",
    "        total_loss += float(loss)\n",
    "\n",
    "        loss.backward()\n",
    "        optimizer.step()\n",
    "        optimizer.zero_grad()\n",
    "\n",
    "    avg_loss = total_loss / len(inputs)\n",
    "    print(f\"Epoch {epoch + 1}, Average Loss: {avg_loss}\")\n",
    "\n",
    "print(f\"Final bias after optimization: {model.final_bias.data.item()} \\n\")\n",
    "\n",
    "\n"
   ]
  },
  {
   "cell_type": "code",
   "execution_count": 8,
   "metadata": {
    "scrolled": true
   },
   "outputs": [
    {
     "data": {
      "text/plain": [
       "Text(0.5, 0, 'Dose')"
      ]
     },
     "execution_count": 8,
     "metadata": {},
     "output_type": "execute_result"
    },
    {
     "data": {
      "image/png": "[encoded data removed]",
      "text/plain": [
       "<Figure size 300x200 with 1 Axes>"
      ]
     },
     "metadata": {},
     "output_type": "display_data"
    }
   ],
   "source": [
    "plt.figure(figsize=(3, 2))\n",
    "output_values = model(input_doses)\n",
    "sns.lineplot(x=input_doses, y=output_values.detach(), color='green')\n",
    "plt.xlabel('Dose')"
   ]
  },
  {
   "cell_type": "markdown",
   "metadata": {},
   "source": [
    "## Flow"
   ]
  },
  {
   "cell_type": "markdown",
   "metadata": {},
   "source": [
    "                  +-----------------------------------+\n",
    "                  |       Define BasicNN Class        |\n",
    "                  |-----------------------------------|\n",
    "                  | - w00, b00, w01, w10, b10, w11    |\n",
    "                  |   (Parameters without gradients)  |\n",
    "                  | - final_bias (Parameter with      |\n",
    "                  |   gradients)                      |\n",
    "                  |                                   |\n",
    "                  | - forward(input):                 |\n",
    "                  |   Define forward pass of the NN   |\n",
    "                  +-----------------------------------+\n",
    "                                  ^\n",
    "                                  |\n",
    "                                  |\n",
    "                                  |\n",
    "                                  v\n",
    "                +---------------------------------------+\n",
    "                | Define BasicNNTrain Class             |\n",
    "                |---------------------------------------|\n",
    "                | - w00, b00, w01, w10, b10, w11        |\n",
    "                |   (Parameters without gradients)      |\n",
    "                | - final_bias (Parameter with          |\n",
    "                |   gradients)                          |\n",
    "                |                                       |\n",
    "                | - forward(input):                     |\n",
    "                |   Define forward pass of the NN       |\n",
    "                +---------------------------------------+\n",
    "                                  ^\n",
    "                                  |\n",
    "                                  |\n",
    "                                  |\n",
    "                                  v\n",
    "          +---------------------------------------------------+\n",
    "          |       Training Loop with Stochastic Gradient      |\n",
    "          |                 Descent (SGD)                     |\n",
    "          |---------------------------------------------------|\n",
    "          | - Set the learning rate (lr)                      |\n",
    "          | - Iterate over epochs and data points             |\n",
    "          | - Compute the output of the NN for each input     |\n",
    "          | - Calculate the loss using mean squared error     |\n",
    "          | - Perform backpropagation to compute gradients    |\n",
    "          | - Update the parameters using the optimizer       |\n",
    "          +---------------------------------------------------+\n",
    "                                  ^\n",
    "                                  |\n",
    "                                  |\n",
    "                                  |\n",
    "                                  v\n",
    "              +---------------------------------------------+\n",
    "              |          Output: Trained Model              |\n",
    "              |---------------------------------------------|\n",
    "              | - BasicNNTrain model with optimized         |\n",
    "              |   final_bias parameter                      |\n",
    "              | - Plot showing the output of the model      |\n",
    "              |   (efficacy of dose) for given input doses  |\n",
    "              +---------------------------------------------+"
   ]
  }
 ],
 "metadata": {
  "colab": {
   "provenance": []
  },
  "kernelspec": {
   "display_name": "Python 3 (ipykernel)",
   "language": "python",
   "name": "python3"
  },
  "language_info": {
   "codemirror_mode": {
    "name": "ipython",
    "version": 3
   },
   "file_extension": ".py",
   "mimetype": "text/x-python",
   "name": "python",
   "nbconvert_exporter": "python",
   "pygments_lexer": "ipython3",
   "version": "3.11.2"
  }
 },
 "nbformat": 4,
 "nbformat_minor": 1
}
