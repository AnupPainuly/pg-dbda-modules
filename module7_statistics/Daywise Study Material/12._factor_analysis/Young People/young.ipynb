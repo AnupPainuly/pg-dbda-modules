{
 "cells": [
  {
   "cell_type": "code",
   "execution_count": 1,
   "id": "18687c12",
   "metadata": {},
   "outputs": [],
   "source": [
    "import pandas as pd \n",
    "import numpy as np \n",
    "from factor_analyzer import FactorAnalyzer\n",
    "import matplotlib.pyplot as plt\n",
    "import seaborn as sn"
   ]
  },
  {
   "cell_type": "code",
   "execution_count": 2,
   "id": "ed09bbfd",
   "metadata": {},
   "outputs": [
    {
     "data": {
      "text/html": [
       "<div>\n",
       "<style scoped>\n",
       "    .dataframe tbody tr th:only-of-type {\n",
       "        vertical-align: middle;\n",
       "    }\n",
       "\n",
       "    .dataframe tbody tr th {\n",
       "        vertical-align: top;\n",
       "    }\n",
       "\n",
       "    .dataframe thead th {\n",
       "        text-align: right;\n",
       "    }\n",
       "</style>\n",
       "<table border=\"1\" class=\"dataframe\">\n",
       "  <thead>\n",
       "    <tr style=\"text-align: right;\">\n",
       "      <th></th>\n",
       "      <th>Music</th>\n",
       "      <th>Slow songs or fast songs</th>\n",
       "      <th>Dance</th>\n",
       "      <th>Folk</th>\n",
       "      <th>Country</th>\n",
       "      <th>Classical music</th>\n",
       "      <th>Musical</th>\n",
       "      <th>Pop</th>\n",
       "      <th>Rock</th>\n",
       "      <th>Metal or Hardrock</th>\n",
       "      <th>...</th>\n",
       "      <th>Age</th>\n",
       "      <th>Height</th>\n",
       "      <th>Weight</th>\n",
       "      <th>Number of siblings</th>\n",
       "      <th>Gender</th>\n",
       "      <th>Left - right handed</th>\n",
       "      <th>Education</th>\n",
       "      <th>Only child</th>\n",
       "      <th>Village - town</th>\n",
       "      <th>House - block of flats</th>\n",
       "    </tr>\n",
       "  </thead>\n",
       "  <tbody>\n",
       "    <tr>\n",
       "      <th>0</th>\n",
       "      <td>5.0</td>\n",
       "      <td>3.0</td>\n",
       "      <td>2.0</td>\n",
       "      <td>1.0</td>\n",
       "      <td>2.0</td>\n",
       "      <td>2.0</td>\n",
       "      <td>1.0</td>\n",
       "      <td>5.0</td>\n",
       "      <td>5.0</td>\n",
       "      <td>1.0</td>\n",
       "      <td>...</td>\n",
       "      <td>20.0</td>\n",
       "      <td>163.0</td>\n",
       "      <td>48.0</td>\n",
       "      <td>1.0</td>\n",
       "      <td>female</td>\n",
       "      <td>right handed</td>\n",
       "      <td>college/bachelor degree</td>\n",
       "      <td>no</td>\n",
       "      <td>village</td>\n",
       "      <td>block of flats</td>\n",
       "    </tr>\n",
       "    <tr>\n",
       "      <th>1</th>\n",
       "      <td>4.0</td>\n",
       "      <td>4.0</td>\n",
       "      <td>2.0</td>\n",
       "      <td>1.0</td>\n",
       "      <td>1.0</td>\n",
       "      <td>1.0</td>\n",
       "      <td>2.0</td>\n",
       "      <td>3.0</td>\n",
       "      <td>5.0</td>\n",
       "      <td>4.0</td>\n",
       "      <td>...</td>\n",
       "      <td>19.0</td>\n",
       "      <td>163.0</td>\n",
       "      <td>58.0</td>\n",
       "      <td>2.0</td>\n",
       "      <td>female</td>\n",
       "      <td>right handed</td>\n",
       "      <td>college/bachelor degree</td>\n",
       "      <td>no</td>\n",
       "      <td>city</td>\n",
       "      <td>block of flats</td>\n",
       "    </tr>\n",
       "    <tr>\n",
       "      <th>2</th>\n",
       "      <td>5.0</td>\n",
       "      <td>5.0</td>\n",
       "      <td>2.0</td>\n",
       "      <td>2.0</td>\n",
       "      <td>3.0</td>\n",
       "      <td>4.0</td>\n",
       "      <td>5.0</td>\n",
       "      <td>3.0</td>\n",
       "      <td>5.0</td>\n",
       "      <td>3.0</td>\n",
       "      <td>...</td>\n",
       "      <td>20.0</td>\n",
       "      <td>176.0</td>\n",
       "      <td>67.0</td>\n",
       "      <td>2.0</td>\n",
       "      <td>female</td>\n",
       "      <td>right handed</td>\n",
       "      <td>secondary school</td>\n",
       "      <td>no</td>\n",
       "      <td>city</td>\n",
       "      <td>block of flats</td>\n",
       "    </tr>\n",
       "    <tr>\n",
       "      <th>3</th>\n",
       "      <td>5.0</td>\n",
       "      <td>3.0</td>\n",
       "      <td>2.0</td>\n",
       "      <td>1.0</td>\n",
       "      <td>1.0</td>\n",
       "      <td>1.0</td>\n",
       "      <td>1.0</td>\n",
       "      <td>2.0</td>\n",
       "      <td>2.0</td>\n",
       "      <td>1.0</td>\n",
       "      <td>...</td>\n",
       "      <td>22.0</td>\n",
       "      <td>172.0</td>\n",
       "      <td>59.0</td>\n",
       "      <td>1.0</td>\n",
       "      <td>female</td>\n",
       "      <td>right handed</td>\n",
       "      <td>college/bachelor degree</td>\n",
       "      <td>yes</td>\n",
       "      <td>city</td>\n",
       "      <td>house/bungalow</td>\n",
       "    </tr>\n",
       "    <tr>\n",
       "      <th>4</th>\n",
       "      <td>5.0</td>\n",
       "      <td>3.0</td>\n",
       "      <td>4.0</td>\n",
       "      <td>3.0</td>\n",
       "      <td>2.0</td>\n",
       "      <td>4.0</td>\n",
       "      <td>3.0</td>\n",
       "      <td>5.0</td>\n",
       "      <td>3.0</td>\n",
       "      <td>1.0</td>\n",
       "      <td>...</td>\n",
       "      <td>20.0</td>\n",
       "      <td>170.0</td>\n",
       "      <td>59.0</td>\n",
       "      <td>1.0</td>\n",
       "      <td>female</td>\n",
       "      <td>right handed</td>\n",
       "      <td>secondary school</td>\n",
       "      <td>no</td>\n",
       "      <td>village</td>\n",
       "      <td>house/bungalow</td>\n",
       "    </tr>\n",
       "  </tbody>\n",
       "</table>\n",
       "<p>5 rows × 150 columns</p>\n",
       "</div>"
      ],
      "text/plain": [
       "   Music  Slow songs or fast songs  Dance  Folk  Country  Classical music  \\\n",
       "0    5.0                       3.0    2.0   1.0      2.0              2.0   \n",
       "1    4.0                       4.0    2.0   1.0      1.0              1.0   \n",
       "2    5.0                       5.0    2.0   2.0      3.0              4.0   \n",
       "3    5.0                       3.0    2.0   1.0      1.0              1.0   \n",
       "4    5.0                       3.0    4.0   3.0      2.0              4.0   \n",
       "\n",
       "   Musical  Pop  Rock  Metal or Hardrock  ...   Age  Height  Weight  \\\n",
       "0      1.0  5.0   5.0                1.0  ...  20.0   163.0    48.0   \n",
       "1      2.0  3.0   5.0                4.0  ...  19.0   163.0    58.0   \n",
       "2      5.0  3.0   5.0                3.0  ...  20.0   176.0    67.0   \n",
       "3      1.0  2.0   2.0                1.0  ...  22.0   172.0    59.0   \n",
       "4      3.0  5.0   3.0                1.0  ...  20.0   170.0    59.0   \n",
       "\n",
       "   Number of siblings  Gender  Left - right handed                Education  \\\n",
       "0                 1.0  female         right handed  college/bachelor degree   \n",
       "1                 2.0  female         right handed  college/bachelor degree   \n",
       "2                 2.0  female         right handed         secondary school   \n",
       "3                 1.0  female         right handed  college/bachelor degree   \n",
       "4                 1.0  female         right handed         secondary school   \n",
       "\n",
       "   Only child  Village - town  House - block of flats  \n",
       "0          no         village          block of flats  \n",
       "1          no            city          block of flats  \n",
       "2          no            city          block of flats  \n",
       "3         yes            city          house/bungalow  \n",
       "4          no         village          house/bungalow  \n",
       "\n",
       "[5 rows x 150 columns]"
      ]
     },
     "execution_count": 2,
     "metadata": {},
     "output_type": "execute_result"
    }
   ],
   "source": [
    "young = pd.read_csv(r\"C:\\Users\\Sanjay Sane\\Cases of Factor Analysis\\Young People\\responses.csv\")\n",
    "young.head()"
   ]
  },
  {
   "cell_type": "code",
   "execution_count": 3,
   "id": "64061fa1",
   "metadata": {},
   "outputs": [
    {
     "data": {
      "text/plain": [
       "Index(['Music', 'Slow songs or fast songs', 'Dance', 'Folk', 'Country',\n",
       "       'Classical music', 'Musical', 'Pop', 'Rock', 'Metal or Hardrock',\n",
       "       ...\n",
       "       'Age', 'Height', 'Weight', 'Number of siblings', 'Gender',\n",
       "       'Left - right handed', 'Education', 'Only child', 'Village - town',\n",
       "       'House - block of flats'],\n",
       "      dtype='object', length=150)"
      ]
     },
     "execution_count": 3,
     "metadata": {},
     "output_type": "execute_result"
    }
   ],
   "source": [
    "young.columns"
   ]
  },
  {
   "cell_type": "code",
   "execution_count": 4,
   "id": "ecb62e74",
   "metadata": {},
   "outputs": [
    {
     "data": {
      "text/plain": [
       "Index(['Music', 'Slow songs or fast songs', 'Dance', 'Folk', 'Country',\n",
       "       'Classical music', 'Musical', 'Pop', 'Rock', 'Metal or Hardrock',\n",
       "       ...\n",
       "       'Shopping centres', 'Branded clothing', 'Entertainment spending',\n",
       "       'Spending on looks', 'Spending on gadgets',\n",
       "       'Spending on healthy eating', 'Age', 'Height', 'Weight',\n",
       "       'Number of siblings'],\n",
       "      dtype='object', length=139)"
      ]
     },
     "execution_count": 4,
     "metadata": {},
     "output_type": "execute_result"
    }
   ],
   "source": [
    "young = young.select_dtypes(include='number')\n",
    "young.columns"
   ]
  },
  {
   "cell_type": "code",
   "execution_count": 5,
   "id": "b676b5e9",
   "metadata": {},
   "outputs": [
    {
     "data": {
      "text/plain": [
       "Index(['Music', 'Slow songs or fast songs', 'Dance', 'Folk', 'Country',\n",
       "       'Classical music', 'Musical', 'Pop', 'Rock', 'Metal or Hardrock',\n",
       "       ...\n",
       "       'Interests or hobbies', 'Parents' advice', 'Questionnaires or polls',\n",
       "       'Finances', 'Shopping centres', 'Branded clothing',\n",
       "       'Entertainment spending', 'Spending on looks', 'Spending on gadgets',\n",
       "       'Spending on healthy eating'],\n",
       "      dtype='object', length=134)"
      ]
     },
     "execution_count": 5,
     "metadata": {},
     "output_type": "execute_result"
    }
   ],
   "source": [
    "young.drop(['Number of friends','Age', 'Height', 'Weight', 'Number of siblings'], \n",
    "          axis=1, inplace=True)\n",
    "young.columns"
   ]
  },
  {
   "cell_type": "code",
   "execution_count": 6,
   "id": "5f79fdd3",
   "metadata": {},
   "outputs": [
    {
     "data": {
      "text/plain": [
       "(1010, 134)"
      ]
     },
     "execution_count": 6,
     "metadata": {},
     "output_type": "execute_result"
    }
   ],
   "source": [
    "young.shape"
   ]
  },
  {
   "cell_type": "code",
   "execution_count": 7,
   "id": "022c97d3",
   "metadata": {},
   "outputs": [
    {
     "data": {
      "text/html": [
       "<div>\n",
       "<style scoped>\n",
       "    .dataframe tbody tr th:only-of-type {\n",
       "        vertical-align: middle;\n",
       "    }\n",
       "\n",
       "    .dataframe tbody tr th {\n",
       "        vertical-align: top;\n",
       "    }\n",
       "\n",
       "    .dataframe thead th {\n",
       "        text-align: right;\n",
       "    }\n",
       "</style>\n",
       "<table border=\"1\" class=\"dataframe\">\n",
       "  <thead>\n",
       "    <tr style=\"text-align: right;\">\n",
       "      <th></th>\n",
       "      <th>Music</th>\n",
       "      <th>Slow songs or fast songs</th>\n",
       "      <th>Dance</th>\n",
       "      <th>Folk</th>\n",
       "      <th>Country</th>\n",
       "      <th>Classical music</th>\n",
       "      <th>Musical</th>\n",
       "      <th>Pop</th>\n",
       "      <th>Rock</th>\n",
       "      <th>Metal or Hardrock</th>\n",
       "      <th>...</th>\n",
       "      <th>Interests or hobbies</th>\n",
       "      <th>Parents' advice</th>\n",
       "      <th>Questionnaires or polls</th>\n",
       "      <th>Finances</th>\n",
       "      <th>Shopping centres</th>\n",
       "      <th>Branded clothing</th>\n",
       "      <th>Entertainment spending</th>\n",
       "      <th>Spending on looks</th>\n",
       "      <th>Spending on gadgets</th>\n",
       "      <th>Spending on healthy eating</th>\n",
       "    </tr>\n",
       "  </thead>\n",
       "  <tbody>\n",
       "    <tr>\n",
       "      <th>0</th>\n",
       "      <td>5.0</td>\n",
       "      <td>3.0</td>\n",
       "      <td>2.0</td>\n",
       "      <td>1.0</td>\n",
       "      <td>2.0</td>\n",
       "      <td>2.0</td>\n",
       "      <td>1.0</td>\n",
       "      <td>5.0</td>\n",
       "      <td>5.0</td>\n",
       "      <td>1.0</td>\n",
       "      <td>...</td>\n",
       "      <td>3.0</td>\n",
       "      <td>4.0</td>\n",
       "      <td>3.0</td>\n",
       "      <td>3.0</td>\n",
       "      <td>4.0</td>\n",
       "      <td>5.0</td>\n",
       "      <td>3.0</td>\n",
       "      <td>3.0</td>\n",
       "      <td>1</td>\n",
       "      <td>3.0</td>\n",
       "    </tr>\n",
       "    <tr>\n",
       "      <th>1</th>\n",
       "      <td>4.0</td>\n",
       "      <td>4.0</td>\n",
       "      <td>2.0</td>\n",
       "      <td>1.0</td>\n",
       "      <td>1.0</td>\n",
       "      <td>1.0</td>\n",
       "      <td>2.0</td>\n",
       "      <td>3.0</td>\n",
       "      <td>5.0</td>\n",
       "      <td>4.0</td>\n",
       "      <td>...</td>\n",
       "      <td>3.0</td>\n",
       "      <td>2.0</td>\n",
       "      <td>3.0</td>\n",
       "      <td>3.0</td>\n",
       "      <td>4.0</td>\n",
       "      <td>1.0</td>\n",
       "      <td>4.0</td>\n",
       "      <td>2.0</td>\n",
       "      <td>5</td>\n",
       "      <td>2.0</td>\n",
       "    </tr>\n",
       "    <tr>\n",
       "      <th>2</th>\n",
       "      <td>5.0</td>\n",
       "      <td>5.0</td>\n",
       "      <td>2.0</td>\n",
       "      <td>2.0</td>\n",
       "      <td>3.0</td>\n",
       "      <td>4.0</td>\n",
       "      <td>5.0</td>\n",
       "      <td>3.0</td>\n",
       "      <td>5.0</td>\n",
       "      <td>3.0</td>\n",
       "      <td>...</td>\n",
       "      <td>5.0</td>\n",
       "      <td>3.0</td>\n",
       "      <td>1.0</td>\n",
       "      <td>2.0</td>\n",
       "      <td>4.0</td>\n",
       "      <td>1.0</td>\n",
       "      <td>4.0</td>\n",
       "      <td>3.0</td>\n",
       "      <td>4</td>\n",
       "      <td>2.0</td>\n",
       "    </tr>\n",
       "    <tr>\n",
       "      <th>3</th>\n",
       "      <td>5.0</td>\n",
       "      <td>3.0</td>\n",
       "      <td>2.0</td>\n",
       "      <td>1.0</td>\n",
       "      <td>1.0</td>\n",
       "      <td>1.0</td>\n",
       "      <td>1.0</td>\n",
       "      <td>2.0</td>\n",
       "      <td>2.0</td>\n",
       "      <td>1.0</td>\n",
       "      <td>...</td>\n",
       "      <td>NaN</td>\n",
       "      <td>2.0</td>\n",
       "      <td>4.0</td>\n",
       "      <td>2.0</td>\n",
       "      <td>4.0</td>\n",
       "      <td>3.0</td>\n",
       "      <td>3.0</td>\n",
       "      <td>4.0</td>\n",
       "      <td>4</td>\n",
       "      <td>1.0</td>\n",
       "    </tr>\n",
       "    <tr>\n",
       "      <th>4</th>\n",
       "      <td>5.0</td>\n",
       "      <td>3.0</td>\n",
       "      <td>4.0</td>\n",
       "      <td>3.0</td>\n",
       "      <td>2.0</td>\n",
       "      <td>4.0</td>\n",
       "      <td>3.0</td>\n",
       "      <td>5.0</td>\n",
       "      <td>3.0</td>\n",
       "      <td>1.0</td>\n",
       "      <td>...</td>\n",
       "      <td>3.0</td>\n",
       "      <td>3.0</td>\n",
       "      <td>3.0</td>\n",
       "      <td>4.0</td>\n",
       "      <td>3.0</td>\n",
       "      <td>4.0</td>\n",
       "      <td>3.0</td>\n",
       "      <td>3.0</td>\n",
       "      <td>2</td>\n",
       "      <td>4.0</td>\n",
       "    </tr>\n",
       "  </tbody>\n",
       "</table>\n",
       "<p>5 rows × 134 columns</p>\n",
       "</div>"
      ],
      "text/plain": [
       "   Music  Slow songs or fast songs  Dance  Folk  Country  Classical music  \\\n",
       "0    5.0                       3.0    2.0   1.0      2.0              2.0   \n",
       "1    4.0                       4.0    2.0   1.0      1.0              1.0   \n",
       "2    5.0                       5.0    2.0   2.0      3.0              4.0   \n",
       "3    5.0                       3.0    2.0   1.0      1.0              1.0   \n",
       "4    5.0                       3.0    4.0   3.0      2.0              4.0   \n",
       "\n",
       "   Musical  Pop  Rock  Metal or Hardrock  ...  Interests or hobbies  \\\n",
       "0      1.0  5.0   5.0                1.0  ...                   3.0   \n",
       "1      2.0  3.0   5.0                4.0  ...                   3.0   \n",
       "2      5.0  3.0   5.0                3.0  ...                   5.0   \n",
       "3      1.0  2.0   2.0                1.0  ...                   NaN   \n",
       "4      3.0  5.0   3.0                1.0  ...                   3.0   \n",
       "\n",
       "   Parents' advice  Questionnaires or polls  Finances  Shopping centres  \\\n",
       "0              4.0                      3.0       3.0               4.0   \n",
       "1              2.0                      3.0       3.0               4.0   \n",
       "2              3.0                      1.0       2.0               4.0   \n",
       "3              2.0                      4.0       2.0               4.0   \n",
       "4              3.0                      3.0       4.0               3.0   \n",
       "\n",
       "   Branded clothing  Entertainment spending  Spending on looks  \\\n",
       "0               5.0                     3.0                3.0   \n",
       "1               1.0                     4.0                2.0   \n",
       "2               1.0                     4.0                3.0   \n",
       "3               3.0                     3.0                4.0   \n",
       "4               4.0                     3.0                3.0   \n",
       "\n",
       "   Spending on gadgets  Spending on healthy eating  \n",
       "0                    1                         3.0  \n",
       "1                    5                         2.0  \n",
       "2                    4                         2.0  \n",
       "3                    4                         1.0  \n",
       "4                    2                         4.0  \n",
       "\n",
       "[5 rows x 134 columns]"
      ]
     },
     "execution_count": 7,
     "metadata": {},
     "output_type": "execute_result"
    }
   ],
   "source": [
    "young.head()"
   ]
  },
  {
   "cell_type": "code",
   "execution_count": 8,
   "id": "d66724fe",
   "metadata": {},
   "outputs": [
    {
     "data": {
      "text/plain": [
       "518"
      ]
     },
     "execution_count": 8,
     "metadata": {},
     "output_type": "execute_result"
    }
   ],
   "source": [
    "young.isnull().sum().sum()"
   ]
  },
  {
   "cell_type": "code",
   "execution_count": 9,
   "id": "6c898b8e",
   "metadata": {},
   "outputs": [
    {
     "data": {
      "text/plain": [
       "(1010, 134)"
      ]
     },
     "execution_count": 9,
     "metadata": {},
     "output_type": "execute_result"
    }
   ],
   "source": [
    "from sklearn.impute import SimpleImputer\n",
    "imputer = SimpleImputer(strategy='median')\n",
    "imp_young = imputer.fit_transform(young)\n",
    "imp_young.shape"
   ]
  },
  {
   "cell_type": "code",
   "execution_count": 10,
   "id": "c95303b5",
   "metadata": {},
   "outputs": [
    {
     "data": {
      "text/plain": [
       "0"
      ]
     },
     "execution_count": 10,
     "metadata": {},
     "output_type": "execute_result"
    }
   ],
   "source": [
    "imp_young = pd.DataFrame(imp_young, columns=young.columns)\n",
    "imp_young.isnull().sum().sum()"
   ]
  },
  {
   "cell_type": "markdown",
   "id": "9775daec",
   "metadata": {},
   "source": [
    "# Bartlett's Test of Adequacy"
   ]
  },
  {
   "cell_type": "code",
   "execution_count": 11,
   "id": "8243703d",
   "metadata": {},
   "outputs": [
    {
     "data": {
      "text/plain": [
       "(43995.65750993663, 0.0)"
      ]
     },
     "execution_count": 11,
     "metadata": {},
     "output_type": "execute_result"
    }
   ],
   "source": [
    "from factor_analyzer.factor_analyzer import calculate_bartlett_sphericity\n",
    "chi_square_value,p_value=calculate_bartlett_sphericity(imp_young)\n",
    "chi_square_value, p_value "
   ]
  },
  {
   "cell_type": "markdown",
   "id": "81ee29a1",
   "metadata": {},
   "source": [
    "# KMO"
   ]
  },
  {
   "cell_type": "code",
   "execution_count": 12,
   "id": "ab1d8e64",
   "metadata": {},
   "outputs": [
    {
     "data": {
      "text/plain": [
       "0.8155789578299125"
      ]
     },
     "execution_count": 12,
     "metadata": {},
     "output_type": "execute_result"
    }
   ],
   "source": [
    "from factor_analyzer.factor_analyzer import calculate_kmo\n",
    "kmo_all,kmo_model=calculate_kmo(imp_young)\n",
    "kmo_model "
   ]
  },
  {
   "cell_type": "code",
   "execution_count": 13,
   "id": "d7140294",
   "metadata": {},
   "outputs": [
    {
     "data": {
      "text/html": [
       "<style>#sk-container-id-1 {color: black;background-color: white;}#sk-container-id-1 pre{padding: 0;}#sk-container-id-1 div.sk-toggleable {background-color: white;}#sk-container-id-1 label.sk-toggleable__label {cursor: pointer;display: block;width: 100%;margin-bottom: 0;padding: 0.3em;box-sizing: border-box;text-align: center;}#sk-container-id-1 label.sk-toggleable__label-arrow:before {content: \"▸\";float: left;margin-right: 0.25em;color: #696969;}#sk-container-id-1 label.sk-toggleable__label-arrow:hover:before {color: black;}#sk-container-id-1 div.sk-estimator:hover label.sk-toggleable__label-arrow:before {color: black;}#sk-container-id-1 div.sk-toggleable__content {max-height: 0;max-width: 0;overflow: hidden;text-align: left;background-color: #f0f8ff;}#sk-container-id-1 div.sk-toggleable__content pre {margin: 0.2em;color: black;border-radius: 0.25em;background-color: #f0f8ff;}#sk-container-id-1 input.sk-toggleable__control:checked~div.sk-toggleable__content {max-height: 200px;max-width: 100%;overflow: auto;}#sk-container-id-1 input.sk-toggleable__control:checked~label.sk-toggleable__label-arrow:before {content: \"▾\";}#sk-container-id-1 div.sk-estimator input.sk-toggleable__control:checked~label.sk-toggleable__label {background-color: #d4ebff;}#sk-container-id-1 div.sk-label input.sk-toggleable__control:checked~label.sk-toggleable__label {background-color: #d4ebff;}#sk-container-id-1 input.sk-hidden--visually {border: 0;clip: rect(1px 1px 1px 1px);clip: rect(1px, 1px, 1px, 1px);height: 1px;margin: -1px;overflow: hidden;padding: 0;position: absolute;width: 1px;}#sk-container-id-1 div.sk-estimator {font-family: monospace;background-color: #f0f8ff;border: 1px dotted black;border-radius: 0.25em;box-sizing: border-box;margin-bottom: 0.5em;}#sk-container-id-1 div.sk-estimator:hover {background-color: #d4ebff;}#sk-container-id-1 div.sk-parallel-item::after {content: \"\";width: 100%;border-bottom: 1px solid gray;flex-grow: 1;}#sk-container-id-1 div.sk-label:hover label.sk-toggleable__label {background-color: #d4ebff;}#sk-container-id-1 div.sk-serial::before {content: \"\";position: absolute;border-left: 1px solid gray;box-sizing: border-box;top: 0;bottom: 0;left: 50%;z-index: 0;}#sk-container-id-1 div.sk-serial {display: flex;flex-direction: column;align-items: center;background-color: white;padding-right: 0.2em;padding-left: 0.2em;position: relative;}#sk-container-id-1 div.sk-item {position: relative;z-index: 1;}#sk-container-id-1 div.sk-parallel {display: flex;align-items: stretch;justify-content: center;background-color: white;position: relative;}#sk-container-id-1 div.sk-item::before, #sk-container-id-1 div.sk-parallel-item::before {content: \"\";position: absolute;border-left: 1px solid gray;box-sizing: border-box;top: 0;bottom: 0;left: 50%;z-index: -1;}#sk-container-id-1 div.sk-parallel-item {display: flex;flex-direction: column;z-index: 1;position: relative;background-color: white;}#sk-container-id-1 div.sk-parallel-item:first-child::after {align-self: flex-end;width: 50%;}#sk-container-id-1 div.sk-parallel-item:last-child::after {align-self: flex-start;width: 50%;}#sk-container-id-1 div.sk-parallel-item:only-child::after {width: 0;}#sk-container-id-1 div.sk-dashed-wrapped {border: 1px dashed gray;margin: 0 0.4em 0.5em 0.4em;box-sizing: border-box;padding-bottom: 0.4em;background-color: white;}#sk-container-id-1 div.sk-label label {font-family: monospace;font-weight: bold;display: inline-block;line-height: 1.2em;}#sk-container-id-1 div.sk-label-container {text-align: center;}#sk-container-id-1 div.sk-container {/* jupyter's `normalize.less` sets `[hidden] { display: none; }` but bootstrap.min.css set `[hidden] { display: none !important; }` so we also need the `!important` here to be able to override the default hidden behavior on the sphinx rendered scikit-learn.org. See: https://github.com/scikit-learn/scikit-learn/issues/21755 */display: inline-block !important;position: relative;}#sk-container-id-1 div.sk-text-repr-fallback {display: none;}</style><div id=\"sk-container-id-1\" class=\"sk-top-container\"><div class=\"sk-text-repr-fallback\"><pre>FactorAnalyzer(rotation_kwargs={})</pre><b>In a Jupyter environment, please rerun this cell to show the HTML representation or trust the notebook. <br />On GitHub, the HTML representation is unable to render, please try loading this page with nbviewer.org.</b></div><div class=\"sk-container\" hidden><div class=\"sk-item\"><div class=\"sk-estimator sk-toggleable\"><input class=\"sk-toggleable__control sk-hidden--visually\" id=\"sk-estimator-id-1\" type=\"checkbox\" checked><label for=\"sk-estimator-id-1\" class=\"sk-toggleable__label sk-toggleable__label-arrow\">FactorAnalyzer</label><div class=\"sk-toggleable__content\"><pre>FactorAnalyzer(rotation_kwargs={})</pre></div></div></div></div></div>"
      ],
      "text/plain": [
       "FactorAnalyzer(rotation_kwargs={})"
      ]
     },
     "execution_count": 13,
     "metadata": {},
     "output_type": "execute_result"
    }
   ],
   "source": [
    "fa = FactorAnalyzer()\n",
    "fa.fit(imp_young)"
   ]
  },
  {
   "cell_type": "code",
   "execution_count": 14,
   "id": "342ca11b",
   "metadata": {},
   "outputs": [
    {
     "data": {
      "image/png": "[encoded data removed]",
      "text/plain": [
       "<Figure size 640x480 with 1 Axes>"
      ]
     },
     "metadata": {},
     "output_type": "display_data"
    }
   ],
   "source": [
    "eigen_values, vectors = fa.get_eigenvalues()\n",
    "\n",
    "# Scree plot of eigen values\n",
    "plt.scatter(range(1,imp_young.shape[1]+1),eigen_values)\n",
    "plt.plot(range(1,imp_young.shape[1]+1),eigen_values)\n",
    "plt.title('Scree Plot')\n",
    "plt.xlabel('Factors')\n",
    "plt.ylabel('Eigenvalue')\n",
    "plt.grid()\n",
    "plt.show()\n"
   ]
  },
  {
   "cell_type": "markdown",
   "id": "21d1314f",
   "metadata": {},
   "source": [
    "# 15 Factors"
   ]
  },
  {
   "cell_type": "code",
   "execution_count": 15,
   "id": "58e39e04",
   "metadata": {},
   "outputs": [
    {
     "data": {
      "text/html": [
       "<div>\n",
       "<style scoped>\n",
       "    .dataframe tbody tr th:only-of-type {\n",
       "        vertical-align: middle;\n",
       "    }\n",
       "\n",
       "    .dataframe tbody tr th {\n",
       "        vertical-align: top;\n",
       "    }\n",
       "\n",
       "    .dataframe thead th {\n",
       "        text-align: right;\n",
       "    }\n",
       "</style>\n",
       "<table border=\"1\" class=\"dataframe\">\n",
       "  <thead>\n",
       "    <tr style=\"text-align: right;\">\n",
       "      <th></th>\n",
       "      <th>Factor1</th>\n",
       "      <th>Factor2</th>\n",
       "      <th>Factor3</th>\n",
       "      <th>Factor4</th>\n",
       "      <th>Factor5</th>\n",
       "      <th>Factor6</th>\n",
       "      <th>Factor7</th>\n",
       "      <th>Factor8</th>\n",
       "      <th>Factor9</th>\n",
       "      <th>Factor10</th>\n",
       "      <th>Factor11</th>\n",
       "      <th>Factor12</th>\n",
       "      <th>Factor13</th>\n",
       "      <th>Factor14</th>\n",
       "      <th>Factor15</th>\n",
       "    </tr>\n",
       "  </thead>\n",
       "  <tbody>\n",
       "    <tr>\n",
       "      <th>Music</th>\n",
       "      <td>0.017112</td>\n",
       "      <td>0.020262</td>\n",
       "      <td>-0.012748</td>\n",
       "      <td>0.087060</td>\n",
       "      <td>0.037652</td>\n",
       "      <td>0.047929</td>\n",
       "      <td>0.180126</td>\n",
       "      <td>0.123681</td>\n",
       "      <td>-0.025620</td>\n",
       "      <td>-0.013818</td>\n",
       "      <td>0.210802</td>\n",
       "      <td>0.069259</td>\n",
       "      <td>0.011912</td>\n",
       "      <td>0.193062</td>\n",
       "      <td>-0.063819</td>\n",
       "    </tr>\n",
       "    <tr>\n",
       "      <th>Slow songs or fast songs</th>\n",
       "      <td>0.125768</td>\n",
       "      <td>-0.017440</td>\n",
       "      <td>-0.221045</td>\n",
       "      <td>-0.010565</td>\n",
       "      <td>-0.065871</td>\n",
       "      <td>-0.028394</td>\n",
       "      <td>0.039190</td>\n",
       "      <td>0.136875</td>\n",
       "      <td>-0.012402</td>\n",
       "      <td>0.046603</td>\n",
       "      <td>0.004189</td>\n",
       "      <td>0.160514</td>\n",
       "      <td>0.007934</td>\n",
       "      <td>-0.007210</td>\n",
       "      <td>0.071027</td>\n",
       "    </tr>\n",
       "    <tr>\n",
       "      <th>Dance</th>\n",
       "      <td>0.117727</td>\n",
       "      <td>0.086392</td>\n",
       "      <td>-0.033291</td>\n",
       "      <td>0.100602</td>\n",
       "      <td>0.024461</td>\n",
       "      <td>-0.033137</td>\n",
       "      <td>-0.109782</td>\n",
       "      <td>0.112184</td>\n",
       "      <td>-0.039203</td>\n",
       "      <td>0.056639</td>\n",
       "      <td>0.077187</td>\n",
       "      <td>0.594130</td>\n",
       "      <td>0.097593</td>\n",
       "      <td>0.031078</td>\n",
       "      <td>0.032707</td>\n",
       "    </tr>\n",
       "    <tr>\n",
       "      <th>Folk</th>\n",
       "      <td>0.009262</td>\n",
       "      <td>0.070933</td>\n",
       "      <td>0.469925</td>\n",
       "      <td>-0.167241</td>\n",
       "      <td>0.066763</td>\n",
       "      <td>-0.030288</td>\n",
       "      <td>0.069583</td>\n",
       "      <td>0.101515</td>\n",
       "      <td>0.024402</td>\n",
       "      <td>0.035007</td>\n",
       "      <td>0.008288</td>\n",
       "      <td>0.085104</td>\n",
       "      <td>0.275495</td>\n",
       "      <td>-0.145639</td>\n",
       "      <td>-0.041500</td>\n",
       "    </tr>\n",
       "    <tr>\n",
       "      <th>Country</th>\n",
       "      <td>0.166594</td>\n",
       "      <td>-0.003944</td>\n",
       "      <td>0.410861</td>\n",
       "      <td>-0.086436</td>\n",
       "      <td>0.053773</td>\n",
       "      <td>-0.082008</td>\n",
       "      <td>0.151245</td>\n",
       "      <td>-0.084673</td>\n",
       "      <td>0.020617</td>\n",
       "      <td>-0.030939</td>\n",
       "      <td>-0.079254</td>\n",
       "      <td>0.139112</td>\n",
       "      <td>0.152914</td>\n",
       "      <td>-0.147200</td>\n",
       "      <td>0.051023</td>\n",
       "    </tr>\n",
       "    <tr>\n",
       "      <th>...</th>\n",
       "      <td>...</td>\n",
       "      <td>...</td>\n",
       "      <td>...</td>\n",
       "      <td>...</td>\n",
       "      <td>...</td>\n",
       "      <td>...</td>\n",
       "      <td>...</td>\n",
       "      <td>...</td>\n",
       "      <td>...</td>\n",
       "      <td>...</td>\n",
       "      <td>...</td>\n",
       "      <td>...</td>\n",
       "      <td>...</td>\n",
       "      <td>...</td>\n",
       "      <td>...</td>\n",
       "    </tr>\n",
       "    <tr>\n",
       "      <th>Branded clothing</th>\n",
       "      <td>0.139725</td>\n",
       "      <td>-0.033355</td>\n",
       "      <td>-0.135064</td>\n",
       "      <td>0.563435</td>\n",
       "      <td>-0.015720</td>\n",
       "      <td>-0.061918</td>\n",
       "      <td>-0.048265</td>\n",
       "      <td>0.037468</td>\n",
       "      <td>0.080369</td>\n",
       "      <td>-0.027684</td>\n",
       "      <td>-0.043835</td>\n",
       "      <td>-0.013491</td>\n",
       "      <td>0.030480</td>\n",
       "      <td>-0.061271</td>\n",
       "      <td>0.051139</td>\n",
       "    </tr>\n",
       "    <tr>\n",
       "      <th>Entertainment spending</th>\n",
       "      <td>0.077347</td>\n",
       "      <td>-0.093893</td>\n",
       "      <td>-0.127087</td>\n",
       "      <td>0.448314</td>\n",
       "      <td>-0.182878</td>\n",
       "      <td>-0.053340</td>\n",
       "      <td>0.190089</td>\n",
       "      <td>0.230448</td>\n",
       "      <td>0.046777</td>\n",
       "      <td>-0.047390</td>\n",
       "      <td>-0.016296</td>\n",
       "      <td>-0.003470</td>\n",
       "      <td>0.021730</td>\n",
       "      <td>-0.075489</td>\n",
       "      <td>-0.021288</td>\n",
       "    </tr>\n",
       "    <tr>\n",
       "      <th>Spending on looks</th>\n",
       "      <td>-0.066436</td>\n",
       "      <td>0.118277</td>\n",
       "      <td>-0.068489</td>\n",
       "      <td>0.728933</td>\n",
       "      <td>-0.019888</td>\n",
       "      <td>-0.033227</td>\n",
       "      <td>-0.031685</td>\n",
       "      <td>0.067420</td>\n",
       "      <td>0.069070</td>\n",
       "      <td>-0.006231</td>\n",
       "      <td>0.063717</td>\n",
       "      <td>0.105638</td>\n",
       "      <td>0.020537</td>\n",
       "      <td>0.029638</td>\n",
       "      <td>0.089022</td>\n",
       "    </tr>\n",
       "    <tr>\n",
       "      <th>Spending on gadgets</th>\n",
       "      <td>0.376229</td>\n",
       "      <td>-0.125900</td>\n",
       "      <td>-0.092246</td>\n",
       "      <td>0.434472</td>\n",
       "      <td>0.036351</td>\n",
       "      <td>0.008463</td>\n",
       "      <td>0.037497</td>\n",
       "      <td>0.096607</td>\n",
       "      <td>0.001708</td>\n",
       "      <td>-0.044179</td>\n",
       "      <td>-0.042105</td>\n",
       "      <td>-0.012486</td>\n",
       "      <td>-0.074343</td>\n",
       "      <td>0.025711</td>\n",
       "      <td>0.091007</td>\n",
       "    </tr>\n",
       "    <tr>\n",
       "      <th>Spending on healthy eating</th>\n",
       "      <td>0.027240</td>\n",
       "      <td>-0.020732</td>\n",
       "      <td>0.037143</td>\n",
       "      <td>0.267461</td>\n",
       "      <td>0.245350</td>\n",
       "      <td>-0.090028</td>\n",
       "      <td>0.061229</td>\n",
       "      <td>0.121042</td>\n",
       "      <td>0.075978</td>\n",
       "      <td>0.029217</td>\n",
       "      <td>0.090442</td>\n",
       "      <td>-0.046175</td>\n",
       "      <td>-0.016682</td>\n",
       "      <td>-0.008008</td>\n",
       "      <td>0.063233</td>\n",
       "    </tr>\n",
       "  </tbody>\n",
       "</table>\n",
       "<p>134 rows × 15 columns</p>\n",
       "</div>"
      ],
      "text/plain": [
       "                             Factor1   Factor2   Factor3   Factor4   Factor5  \\\n",
       "Music                       0.017112  0.020262 -0.012748  0.087060  0.037652   \n",
       "Slow songs or fast songs    0.125768 -0.017440 -0.221045 -0.010565 -0.065871   \n",
       "Dance                       0.117727  0.086392 -0.033291  0.100602  0.024461   \n",
       "Folk                        0.009262  0.070933  0.469925 -0.167241  0.066763   \n",
       "Country                     0.166594 -0.003944  0.410861 -0.086436  0.053773   \n",
       "...                              ...       ...       ...       ...       ...   \n",
       "Branded clothing            0.139725 -0.033355 -0.135064  0.563435 -0.015720   \n",
       "Entertainment spending      0.077347 -0.093893 -0.127087  0.448314 -0.182878   \n",
       "Spending on looks          -0.066436  0.118277 -0.068489  0.728933 -0.019888   \n",
       "Spending on gadgets         0.376229 -0.125900 -0.092246  0.434472  0.036351   \n",
       "Spending on healthy eating  0.027240 -0.020732  0.037143  0.267461  0.245350   \n",
       "\n",
       "                             Factor6   Factor7   Factor8   Factor9  Factor10  \\\n",
       "Music                       0.047929  0.180126  0.123681 -0.025620 -0.013818   \n",
       "Slow songs or fast songs   -0.028394  0.039190  0.136875 -0.012402  0.046603   \n",
       "Dance                      -0.033137 -0.109782  0.112184 -0.039203  0.056639   \n",
       "Folk                       -0.030288  0.069583  0.101515  0.024402  0.035007   \n",
       "Country                    -0.082008  0.151245 -0.084673  0.020617 -0.030939   \n",
       "...                              ...       ...       ...       ...       ...   \n",
       "Branded clothing           -0.061918 -0.048265  0.037468  0.080369 -0.027684   \n",
       "Entertainment spending     -0.053340  0.190089  0.230448  0.046777 -0.047390   \n",
       "Spending on looks          -0.033227 -0.031685  0.067420  0.069070 -0.006231   \n",
       "Spending on gadgets         0.008463  0.037497  0.096607  0.001708 -0.044179   \n",
       "Spending on healthy eating -0.090028  0.061229  0.121042  0.075978  0.029217   \n",
       "\n",
       "                            Factor11  Factor12  Factor13  Factor14  Factor15  \n",
       "Music                       0.210802  0.069259  0.011912  0.193062 -0.063819  \n",
       "Slow songs or fast songs    0.004189  0.160514  0.007934 -0.007210  0.071027  \n",
       "Dance                       0.077187  0.594130  0.097593  0.031078  0.032707  \n",
       "Folk                        0.008288  0.085104  0.275495 -0.145639 -0.041500  \n",
       "Country                    -0.079254  0.139112  0.152914 -0.147200  0.051023  \n",
       "...                              ...       ...       ...       ...       ...  \n",
       "Branded clothing           -0.043835 -0.013491  0.030480 -0.061271  0.051139  \n",
       "Entertainment spending     -0.016296 -0.003470  0.021730 -0.075489 -0.021288  \n",
       "Spending on looks           0.063717  0.105638  0.020537  0.029638  0.089022  \n",
       "Spending on gadgets        -0.042105 -0.012486 -0.074343  0.025711  0.091007  \n",
       "Spending on healthy eating  0.090442 -0.046175 -0.016682 -0.008008  0.063233  \n",
       "\n",
       "[134 rows x 15 columns]"
      ]
     },
     "execution_count": 15,
     "metadata": {},
     "output_type": "execute_result"
    }
   ],
   "source": [
    "fa = FactorAnalyzer()\n",
    "fa.set_params(n_factors=15, rotation='varimax')\n",
    "fa.fit(imp_young)\n",
    "loadings = fa.loadings_\n",
    "factor_df=pd.DataFrame(loadings,index=imp_young.columns)\n",
    "fc_cols = ['Factor'+str(i) for i in range(1, 16)]\n",
    "factor_df.columns = fc_cols\n",
    "factor_df"
   ]
  },
  {
   "cell_type": "code",
   "execution_count": 16,
   "id": "b14bc9cf",
   "metadata": {},
   "outputs": [],
   "source": [
    "fact1_cols = list(factor_df[factor_df['Factor1']>0.6].index)\n",
    "fact2_cols = list(factor_df[factor_df['Factor2']>0.6].index)\n",
    "fact3_cols = list(factor_df[factor_df['Factor3']>0.6].index)\n",
    "fact4_cols = list(factor_df[factor_df['Factor4']>0.6].index)\n",
    "fact5_cols = list(factor_df[factor_df['Factor5']>0.5].index)\n",
    "fact6_cols = list(factor_df[factor_df['Factor6']>0.5].index)\n",
    "fact7_cols = list(factor_df[factor_df['Factor7']>0.5].index)\n",
    "fact8_cols = list(factor_df[factor_df['Factor8']>0.5].index)\n",
    "fact9_cols = list(factor_df[factor_df['Factor9']>0.5].index)\n",
    "fact10_cols = list(factor_df[factor_df['Factor10']>0.5].index)\n",
    "fact11_cols = list(factor_df[factor_df['Factor11']>0.5].index)\n",
    "fact12_cols = list(factor_df[factor_df['Factor12']>0.5].index)\n",
    "fact13_cols = list(factor_df[factor_df['Factor13']>0.5].index)\n",
    "fact14_cols = list(factor_df[factor_df['Factor14']>0.5].index)\n",
    "fact15_cols = list(factor_df[factor_df['Factor15']>0.6].index)"
   ]
  },
  {
   "cell_type": "code",
   "execution_count": 17,
   "id": "e4548f4f",
   "metadata": {},
   "outputs": [
    {
     "name": "stdout",
     "output_type": "stream",
     "text": [
      "Factor 1: ['PC']\n",
      "Factor 2: ['Snakes', 'Rats']\n",
      "Factor 3: ['Classical music', 'Opera']\n",
      "Factor 4: ['Spending on looks']\n",
      "Factor 5: ['Prioritising workload', 'Workaholism', 'Thinking ahead']\n",
      "Factor 6: ['Loneliness', 'Changing the past', 'Mood swings']\n",
      "Factor 7: ['Rock', 'Metal or Hardrock', 'Punk', 'Rock n roll', 'Alternative']\n",
      "Factor 8: ['Energy levels', 'Interests or hobbies']\n",
      "Factor 9: ['History', 'Politics', 'Law']\n",
      "Factor 10: ['Biology', 'Chemistry', 'Medicine']\n",
      "Factor 11: ['Fantasy/Fairy tales', 'Animated']\n",
      "Factor 12: ['Dance', 'Pop']\n",
      "Factor 13: ['Religion', 'Final judgement', 'God']\n",
      "Factor 14: []\n",
      "Factor 15: []\n"
     ]
    }
   ],
   "source": [
    "print(\"Factor 1:\", fact1_cols)\n",
    "print(\"Factor 2:\", fact2_cols)\n",
    "print(\"Factor 3:\", fact3_cols)\n",
    "print(\"Factor 4:\", fact4_cols)\n",
    "print(\"Factor 5:\", fact5_cols)\n",
    "print(\"Factor 6:\", fact6_cols)\n",
    "print(\"Factor 7:\", fact7_cols)\n",
    "print(\"Factor 8:\", fact8_cols)\n",
    "print(\"Factor 9:\", fact9_cols)\n",
    "print(\"Factor 10:\", fact10_cols)\n",
    "print(\"Factor 11:\", fact11_cols)\n",
    "print(\"Factor 12:\", fact12_cols)\n",
    "print(\"Factor 13:\", fact13_cols)\n",
    "print(\"Factor 14:\", fact14_cols)\n",
    "print(\"Factor 15:\", fact15_cols)"
   ]
  },
  {
   "cell_type": "code",
   "execution_count": 18,
   "id": "e8fa9cdb",
   "metadata": {},
   "outputs": [
    {
     "data": {
      "text/plain": [
       "Index(['Music', 'Slow songs or fast songs', 'Dance', 'Folk', 'Country',\n",
       "       'Classical music', 'Musical', 'Pop', 'Rock', 'Metal or Hardrock',\n",
       "       ...\n",
       "       'Age', 'Height', 'Weight', 'Number of siblings', 'Gender',\n",
       "       'Left - right handed', 'Education', 'Only child', 'Village - town',\n",
       "       'House - block of flats'],\n",
       "      dtype='object', name='short', length=150)"
      ]
     },
     "execution_count": 18,
     "metadata": {},
     "output_type": "execute_result"
    }
   ],
   "source": [
    "questions = pd.read_csv(r\"C:\\Users\\Sanjay Sane\\Cases of Factor Analysis\\Young People\\columns.csv\",\n",
    "                        index_col=1)\n",
    "questions.index"
   ]
  },
  {
   "cell_type": "markdown",
   "id": "eb2d1a23",
   "metadata": {},
   "source": [
    "### Factor 1:  Computer Liking"
   ]
  },
  {
   "cell_type": "code",
   "execution_count": 19,
   "id": "18b22b13",
   "metadata": {},
   "outputs": [
    {
     "data": {
      "text/html": [
       "<div>\n",
       "<style scoped>\n",
       "    .dataframe tbody tr th:only-of-type {\n",
       "        vertical-align: middle;\n",
       "    }\n",
       "\n",
       "    .dataframe tbody tr th {\n",
       "        vertical-align: top;\n",
       "    }\n",
       "\n",
       "    .dataframe thead th {\n",
       "        text-align: right;\n",
       "    }\n",
       "</style>\n",
       "<table border=\"1\" class=\"dataframe\">\n",
       "  <thead>\n",
       "    <tr style=\"text-align: right;\">\n",
       "      <th></th>\n",
       "      <th>original</th>\n",
       "    </tr>\n",
       "    <tr>\n",
       "      <th>short</th>\n",
       "      <th></th>\n",
       "    </tr>\n",
       "  </thead>\n",
       "  <tbody>\n",
       "    <tr>\n",
       "      <th>PC</th>\n",
       "      <td>PC Software, Hardware</td>\n",
       "    </tr>\n",
       "  </tbody>\n",
       "</table>\n",
       "</div>"
      ],
      "text/plain": [
       "                    original\n",
       "short                       \n",
       "PC     PC Software, Hardware"
      ]
     },
     "execution_count": 19,
     "metadata": {},
     "output_type": "execute_result"
    }
   ],
   "source": [
    "questions.loc[fact1_cols]"
   ]
  },
  {
   "cell_type": "markdown",
   "id": "da22f46a",
   "metadata": {},
   "source": [
    "### Factor 2: Brave"
   ]
  },
  {
   "cell_type": "code",
   "execution_count": 20,
   "id": "0bc609d4",
   "metadata": {},
   "outputs": [
    {
     "data": {
      "text/html": [
       "<div>\n",
       "<style scoped>\n",
       "    .dataframe tbody tr th:only-of-type {\n",
       "        vertical-align: middle;\n",
       "    }\n",
       "\n",
       "    .dataframe tbody tr th {\n",
       "        vertical-align: top;\n",
       "    }\n",
       "\n",
       "    .dataframe thead th {\n",
       "        text-align: right;\n",
       "    }\n",
       "</style>\n",
       "<table border=\"1\" class=\"dataframe\">\n",
       "  <thead>\n",
       "    <tr style=\"text-align: right;\">\n",
       "      <th></th>\n",
       "      <th>original</th>\n",
       "    </tr>\n",
       "    <tr>\n",
       "      <th>short</th>\n",
       "      <th></th>\n",
       "    </tr>\n",
       "  </thead>\n",
       "  <tbody>\n",
       "    <tr>\n",
       "      <th>Snakes</th>\n",
       "      <td>Snakes</td>\n",
       "    </tr>\n",
       "    <tr>\n",
       "      <th>Rats</th>\n",
       "      <td>Rats, mice</td>\n",
       "    </tr>\n",
       "  </tbody>\n",
       "</table>\n",
       "</div>"
      ],
      "text/plain": [
       "          original\n",
       "short             \n",
       "Snakes      Snakes\n",
       "Rats    Rats, mice"
      ]
     },
     "execution_count": 20,
     "metadata": {},
     "output_type": "execute_result"
    }
   ],
   "source": [
    "questions.loc[fact2_cols]"
   ]
  },
  {
   "cell_type": "markdown",
   "id": "03e11f50",
   "metadata": {},
   "source": [
    "### Factor 3: Music Lover"
   ]
  },
  {
   "cell_type": "code",
   "execution_count": 21,
   "id": "2e05ee20",
   "metadata": {},
   "outputs": [
    {
     "data": {
      "text/html": [
       "<div>\n",
       "<style scoped>\n",
       "    .dataframe tbody tr th:only-of-type {\n",
       "        vertical-align: middle;\n",
       "    }\n",
       "\n",
       "    .dataframe tbody tr th {\n",
       "        vertical-align: top;\n",
       "    }\n",
       "\n",
       "    .dataframe thead th {\n",
       "        text-align: right;\n",
       "    }\n",
       "</style>\n",
       "<table border=\"1\" class=\"dataframe\">\n",
       "  <thead>\n",
       "    <tr style=\"text-align: right;\">\n",
       "      <th></th>\n",
       "      <th>original</th>\n",
       "    </tr>\n",
       "    <tr>\n",
       "      <th>short</th>\n",
       "      <th></th>\n",
       "    </tr>\n",
       "  </thead>\n",
       "  <tbody>\n",
       "    <tr>\n",
       "      <th>Classical music</th>\n",
       "      <td>Classical</td>\n",
       "    </tr>\n",
       "    <tr>\n",
       "      <th>Opera</th>\n",
       "      <td>Opera</td>\n",
       "    </tr>\n",
       "  </tbody>\n",
       "</table>\n",
       "</div>"
      ],
      "text/plain": [
       "                  original\n",
       "short                     \n",
       "Classical music  Classical\n",
       "Opera                Opera"
      ]
     },
     "execution_count": 21,
     "metadata": {},
     "output_type": "execute_result"
    }
   ],
   "source": [
    "questions.loc[fact3_cols]"
   ]
  },
  {
   "cell_type": "markdown",
   "id": "7fd652a8",
   "metadata": {},
   "source": [
    "### Factor 4:  Spending on Looks"
   ]
  },
  {
   "cell_type": "code",
   "execution_count": 22,
   "id": "7e6776ef",
   "metadata": {},
   "outputs": [
    {
     "data": {
      "text/html": [
       "<div>\n",
       "<style scoped>\n",
       "    .dataframe tbody tr th:only-of-type {\n",
       "        vertical-align: middle;\n",
       "    }\n",
       "\n",
       "    .dataframe tbody tr th {\n",
       "        vertical-align: top;\n",
       "    }\n",
       "\n",
       "    .dataframe thead th {\n",
       "        text-align: right;\n",
       "    }\n",
       "</style>\n",
       "<table border=\"1\" class=\"dataframe\">\n",
       "  <thead>\n",
       "    <tr style=\"text-align: right;\">\n",
       "      <th></th>\n",
       "      <th>original</th>\n",
       "    </tr>\n",
       "    <tr>\n",
       "      <th>short</th>\n",
       "      <th></th>\n",
       "    </tr>\n",
       "  </thead>\n",
       "  <tbody>\n",
       "    <tr>\n",
       "      <th>Spending on looks</th>\n",
       "      <td>I spend a lot of money on my appearance.</td>\n",
       "    </tr>\n",
       "  </tbody>\n",
       "</table>\n",
       "</div>"
      ],
      "text/plain": [
       "                                                   original\n",
       "short                                                      \n",
       "Spending on looks  I spend a lot of money on my appearance."
      ]
     },
     "execution_count": 22,
     "metadata": {},
     "output_type": "execute_result"
    }
   ],
   "source": [
    "questions.loc[fact4_cols]"
   ]
  },
  {
   "cell_type": "markdown",
   "id": "56773d01",
   "metadata": {},
   "source": [
    "### Factor 5: Hard Working"
   ]
  },
  {
   "cell_type": "code",
   "execution_count": 23,
   "id": "3076482d",
   "metadata": {},
   "outputs": [
    {
     "data": {
      "text/html": [
       "<div>\n",
       "<style scoped>\n",
       "    .dataframe tbody tr th:only-of-type {\n",
       "        vertical-align: middle;\n",
       "    }\n",
       "\n",
       "    .dataframe tbody tr th {\n",
       "        vertical-align: top;\n",
       "    }\n",
       "\n",
       "    .dataframe thead th {\n",
       "        text-align: right;\n",
       "    }\n",
       "</style>\n",
       "<table border=\"1\" class=\"dataframe\">\n",
       "  <thead>\n",
       "    <tr style=\"text-align: right;\">\n",
       "      <th></th>\n",
       "      <th>original</th>\n",
       "    </tr>\n",
       "    <tr>\n",
       "      <th>short</th>\n",
       "      <th></th>\n",
       "    </tr>\n",
       "  </thead>\n",
       "  <tbody>\n",
       "    <tr>\n",
       "      <th>Prioritising workload</th>\n",
       "      <td>I try to do tasks as soon as possible and not ...</td>\n",
       "    </tr>\n",
       "    <tr>\n",
       "      <th>Workaholism</th>\n",
       "      <td>I often study or work even in my spare time.</td>\n",
       "    </tr>\n",
       "    <tr>\n",
       "      <th>Thinking ahead</th>\n",
       "      <td>I look at things from all different angles bef...</td>\n",
       "    </tr>\n",
       "  </tbody>\n",
       "</table>\n",
       "</div>"
      ],
      "text/plain": [
       "                                                                original\n",
       "short                                                                   \n",
       "Prioritising workload  I try to do tasks as soon as possible and not ...\n",
       "Workaholism                 I often study or work even in my spare time.\n",
       "Thinking ahead         I look at things from all different angles bef..."
      ]
     },
     "execution_count": 23,
     "metadata": {},
     "output_type": "execute_result"
    }
   ],
   "source": [
    "questions.loc[fact5_cols]"
   ]
  },
  {
   "cell_type": "markdown",
   "id": "ec8c7a29",
   "metadata": {},
   "source": [
    "### Factor 6:  Psychic Problem"
   ]
  },
  {
   "cell_type": "code",
   "execution_count": 24,
   "id": "21f25a93",
   "metadata": {},
   "outputs": [
    {
     "data": {
      "text/html": [
       "<div>\n",
       "<style scoped>\n",
       "    .dataframe tbody tr th:only-of-type {\n",
       "        vertical-align: middle;\n",
       "    }\n",
       "\n",
       "    .dataframe tbody tr th {\n",
       "        vertical-align: top;\n",
       "    }\n",
       "\n",
       "    .dataframe thead th {\n",
       "        text-align: right;\n",
       "    }\n",
       "</style>\n",
       "<table border=\"1\" class=\"dataframe\">\n",
       "  <thead>\n",
       "    <tr style=\"text-align: right;\">\n",
       "      <th></th>\n",
       "      <th>original</th>\n",
       "    </tr>\n",
       "    <tr>\n",
       "      <th>short</th>\n",
       "      <th></th>\n",
       "    </tr>\n",
       "  </thead>\n",
       "  <tbody>\n",
       "    <tr>\n",
       "      <th>Loneliness</th>\n",
       "      <td>I feel lonely in life.</td>\n",
       "    </tr>\n",
       "    <tr>\n",
       "      <th>Changing the past</th>\n",
       "      <td>I wish I could change the past because of the ...</td>\n",
       "    </tr>\n",
       "    <tr>\n",
       "      <th>Mood swings</th>\n",
       "      <td>My moods change quickly.</td>\n",
       "    </tr>\n",
       "  </tbody>\n",
       "</table>\n",
       "</div>"
      ],
      "text/plain": [
       "                                                            original\n",
       "short                                                               \n",
       "Loneliness                                    I feel lonely in life.\n",
       "Changing the past  I wish I could change the past because of the ...\n",
       "Mood swings                                 My moods change quickly."
      ]
     },
     "execution_count": 24,
     "metadata": {},
     "output_type": "execute_result"
    }
   ],
   "source": [
    "questions.loc[fact6_cols]"
   ]
  },
  {
   "cell_type": "markdown",
   "id": "09f33c1f",
   "metadata": {},
   "source": [
    "### Factor 7:  Rock & Metal Music"
   ]
  },
  {
   "cell_type": "code",
   "execution_count": 25,
   "id": "b9cc8d9d",
   "metadata": {},
   "outputs": [
    {
     "data": {
      "text/html": [
       "<div>\n",
       "<style scoped>\n",
       "    .dataframe tbody tr th:only-of-type {\n",
       "        vertical-align: middle;\n",
       "    }\n",
       "\n",
       "    .dataframe tbody tr th {\n",
       "        vertical-align: top;\n",
       "    }\n",
       "\n",
       "    .dataframe thead th {\n",
       "        text-align: right;\n",
       "    }\n",
       "</style>\n",
       "<table border=\"1\" class=\"dataframe\">\n",
       "  <thead>\n",
       "    <tr style=\"text-align: right;\">\n",
       "      <th></th>\n",
       "      <th>original</th>\n",
       "    </tr>\n",
       "    <tr>\n",
       "      <th>short</th>\n",
       "      <th></th>\n",
       "    </tr>\n",
       "  </thead>\n",
       "  <tbody>\n",
       "    <tr>\n",
       "      <th>Rock</th>\n",
       "      <td>Rock</td>\n",
       "    </tr>\n",
       "    <tr>\n",
       "      <th>Metal or Hardrock</th>\n",
       "      <td>Metal, Hard rock</td>\n",
       "    </tr>\n",
       "    <tr>\n",
       "      <th>Punk</th>\n",
       "      <td>Punk</td>\n",
       "    </tr>\n",
       "    <tr>\n",
       "      <th>Rock n roll</th>\n",
       "      <td>Rock n Roll</td>\n",
       "    </tr>\n",
       "    <tr>\n",
       "      <th>Alternative</th>\n",
       "      <td>Alternative music</td>\n",
       "    </tr>\n",
       "  </tbody>\n",
       "</table>\n",
       "</div>"
      ],
      "text/plain": [
       "                            original\n",
       "short                               \n",
       "Rock                            Rock\n",
       "Metal or Hardrock   Metal, Hard rock\n",
       "Punk                            Punk\n",
       "Rock n roll              Rock n Roll\n",
       "Alternative        Alternative music"
      ]
     },
     "execution_count": 25,
     "metadata": {},
     "output_type": "execute_result"
    }
   ],
   "source": [
    "questions.loc[fact7_cols]"
   ]
  },
  {
   "cell_type": "markdown",
   "id": "64d0f764",
   "metadata": {},
   "source": [
    "### Factor 8:  Energic"
   ]
  },
  {
   "cell_type": "code",
   "execution_count": 26,
   "id": "52917014",
   "metadata": {},
   "outputs": [
    {
     "data": {
      "text/html": [
       "<div>\n",
       "<style scoped>\n",
       "    .dataframe tbody tr th:only-of-type {\n",
       "        vertical-align: middle;\n",
       "    }\n",
       "\n",
       "    .dataframe tbody tr th {\n",
       "        vertical-align: top;\n",
       "    }\n",
       "\n",
       "    .dataframe thead th {\n",
       "        text-align: right;\n",
       "    }\n",
       "</style>\n",
       "<table border=\"1\" class=\"dataframe\">\n",
       "  <thead>\n",
       "    <tr style=\"text-align: right;\">\n",
       "      <th></th>\n",
       "      <th>original</th>\n",
       "    </tr>\n",
       "    <tr>\n",
       "      <th>short</th>\n",
       "      <th></th>\n",
       "    </tr>\n",
       "  </thead>\n",
       "  <tbody>\n",
       "    <tr>\n",
       "      <th>Energy levels</th>\n",
       "      <td>I am always full of life and energy.</td>\n",
       "    </tr>\n",
       "    <tr>\n",
       "      <th>Interests or hobbies</th>\n",
       "      <td>I have many different hobbies and interests.</td>\n",
       "    </tr>\n",
       "  </tbody>\n",
       "</table>\n",
       "</div>"
      ],
      "text/plain": [
       "                                                          original\n",
       "short                                                             \n",
       "Energy levels                 I am always full of life and energy.\n",
       "Interests or hobbies  I have many different hobbies and interests."
      ]
     },
     "execution_count": 26,
     "metadata": {},
     "output_type": "execute_result"
    }
   ],
   "source": [
    "questions.loc[fact8_cols]"
   ]
  },
  {
   "cell_type": "markdown",
   "id": "9e3620a0",
   "metadata": {},
   "source": [
    "### Factor 9:  Humanities"
   ]
  },
  {
   "cell_type": "code",
   "execution_count": 27,
   "id": "4e840ed0",
   "metadata": {},
   "outputs": [
    {
     "data": {
      "text/html": [
       "<div>\n",
       "<style scoped>\n",
       "    .dataframe tbody tr th:only-of-type {\n",
       "        vertical-align: middle;\n",
       "    }\n",
       "\n",
       "    .dataframe tbody tr th {\n",
       "        vertical-align: top;\n",
       "    }\n",
       "\n",
       "    .dataframe thead th {\n",
       "        text-align: right;\n",
       "    }\n",
       "</style>\n",
       "<table border=\"1\" class=\"dataframe\">\n",
       "  <thead>\n",
       "    <tr style=\"text-align: right;\">\n",
       "      <th></th>\n",
       "      <th>original</th>\n",
       "    </tr>\n",
       "    <tr>\n",
       "      <th>short</th>\n",
       "      <th></th>\n",
       "    </tr>\n",
       "  </thead>\n",
       "  <tbody>\n",
       "    <tr>\n",
       "      <th>History</th>\n",
       "      <td>History</td>\n",
       "    </tr>\n",
       "    <tr>\n",
       "      <th>Politics</th>\n",
       "      <td>Politics</td>\n",
       "    </tr>\n",
       "    <tr>\n",
       "      <th>Law</th>\n",
       "      <td>Law</td>\n",
       "    </tr>\n",
       "  </tbody>\n",
       "</table>\n",
       "</div>"
      ],
      "text/plain": [
       "          original\n",
       "short             \n",
       "History    History\n",
       "Politics  Politics\n",
       "Law            Law"
      ]
     },
     "execution_count": 27,
     "metadata": {},
     "output_type": "execute_result"
    }
   ],
   "source": [
    "questions.loc[fact9_cols]"
   ]
  },
  {
   "cell_type": "markdown",
   "id": "48d02686",
   "metadata": {},
   "source": [
    "### Factor 10:  Biologist"
   ]
  },
  {
   "cell_type": "code",
   "execution_count": 28,
   "id": "bffb2c13",
   "metadata": {},
   "outputs": [
    {
     "data": {
      "text/html": [
       "<div>\n",
       "<style scoped>\n",
       "    .dataframe tbody tr th:only-of-type {\n",
       "        vertical-align: middle;\n",
       "    }\n",
       "\n",
       "    .dataframe tbody tr th {\n",
       "        vertical-align: top;\n",
       "    }\n",
       "\n",
       "    .dataframe thead th {\n",
       "        text-align: right;\n",
       "    }\n",
       "</style>\n",
       "<table border=\"1\" class=\"dataframe\">\n",
       "  <thead>\n",
       "    <tr style=\"text-align: right;\">\n",
       "      <th></th>\n",
       "      <th>original</th>\n",
       "    </tr>\n",
       "    <tr>\n",
       "      <th>short</th>\n",
       "      <th></th>\n",
       "    </tr>\n",
       "  </thead>\n",
       "  <tbody>\n",
       "    <tr>\n",
       "      <th>Biology</th>\n",
       "      <td>Biology</td>\n",
       "    </tr>\n",
       "    <tr>\n",
       "      <th>Chemistry</th>\n",
       "      <td>Chemistry</td>\n",
       "    </tr>\n",
       "    <tr>\n",
       "      <th>Medicine</th>\n",
       "      <td>Medicine</td>\n",
       "    </tr>\n",
       "  </tbody>\n",
       "</table>\n",
       "</div>"
      ],
      "text/plain": [
       "            original\n",
       "short               \n",
       "Biology      Biology\n",
       "Chemistry  Chemistry\n",
       "Medicine    Medicine"
      ]
     },
     "execution_count": 28,
     "metadata": {},
     "output_type": "execute_result"
    }
   ],
   "source": [
    "questions.loc[fact10_cols]"
   ]
  },
  {
   "cell_type": "markdown",
   "id": "549f3cb9",
   "metadata": {},
   "source": [
    "### Factor 11:  Animation Films"
   ]
  },
  {
   "cell_type": "code",
   "execution_count": 29,
   "id": "b73a1033",
   "metadata": {},
   "outputs": [
    {
     "data": {
      "text/html": [
       "<div>\n",
       "<style scoped>\n",
       "    .dataframe tbody tr th:only-of-type {\n",
       "        vertical-align: middle;\n",
       "    }\n",
       "\n",
       "    .dataframe tbody tr th {\n",
       "        vertical-align: top;\n",
       "    }\n",
       "\n",
       "    .dataframe thead th {\n",
       "        text-align: right;\n",
       "    }\n",
       "</style>\n",
       "<table border=\"1\" class=\"dataframe\">\n",
       "  <thead>\n",
       "    <tr style=\"text-align: right;\">\n",
       "      <th></th>\n",
       "      <th>original</th>\n",
       "    </tr>\n",
       "    <tr>\n",
       "      <th>short</th>\n",
       "      <th></th>\n",
       "    </tr>\n",
       "  </thead>\n",
       "  <tbody>\n",
       "    <tr>\n",
       "      <th>Fantasy/Fairy tales</th>\n",
       "      <td>Tales</td>\n",
       "    </tr>\n",
       "    <tr>\n",
       "      <th>Animated</th>\n",
       "      <td>Cartoons</td>\n",
       "    </tr>\n",
       "  </tbody>\n",
       "</table>\n",
       "</div>"
      ],
      "text/plain": [
       "                     original\n",
       "short                        \n",
       "Fantasy/Fairy tales     Tales\n",
       "Animated             Cartoons"
      ]
     },
     "execution_count": 29,
     "metadata": {},
     "output_type": "execute_result"
    }
   ],
   "source": [
    "questions.loc[fact11_cols]"
   ]
  },
  {
   "cell_type": "markdown",
   "id": "f8ac6387",
   "metadata": {},
   "source": [
    "### Factor 12:  Dance with Music"
   ]
  },
  {
   "cell_type": "code",
   "execution_count": 30,
   "id": "32b5279f",
   "metadata": {},
   "outputs": [
    {
     "data": {
      "text/html": [
       "<div>\n",
       "<style scoped>\n",
       "    .dataframe tbody tr th:only-of-type {\n",
       "        vertical-align: middle;\n",
       "    }\n",
       "\n",
       "    .dataframe tbody tr th {\n",
       "        vertical-align: top;\n",
       "    }\n",
       "\n",
       "    .dataframe thead th {\n",
       "        text-align: right;\n",
       "    }\n",
       "</style>\n",
       "<table border=\"1\" class=\"dataframe\">\n",
       "  <thead>\n",
       "    <tr style=\"text-align: right;\">\n",
       "      <th></th>\n",
       "      <th>original</th>\n",
       "    </tr>\n",
       "    <tr>\n",
       "      <th>short</th>\n",
       "      <th></th>\n",
       "    </tr>\n",
       "  </thead>\n",
       "  <tbody>\n",
       "    <tr>\n",
       "      <th>Dance</th>\n",
       "      <td>Dance, Disco, Funk</td>\n",
       "    </tr>\n",
       "    <tr>\n",
       "      <th>Pop</th>\n",
       "      <td>Pop</td>\n",
       "    </tr>\n",
       "  </tbody>\n",
       "</table>\n",
       "</div>"
      ],
      "text/plain": [
       "                 original\n",
       "short                    \n",
       "Dance  Dance, Disco, Funk\n",
       "Pop                   Pop"
      ]
     },
     "execution_count": 30,
     "metadata": {},
     "output_type": "execute_result"
    }
   ],
   "source": [
    "questions.loc[fact12_cols]"
   ]
  },
  {
   "cell_type": "markdown",
   "id": "e92ee4a3",
   "metadata": {},
   "source": [
    "### Factor 13:  Religious"
   ]
  },
  {
   "cell_type": "code",
   "execution_count": 31,
   "id": "fe59433d",
   "metadata": {},
   "outputs": [
    {
     "data": {
      "text/html": [
       "<div>\n",
       "<style scoped>\n",
       "    .dataframe tbody tr th:only-of-type {\n",
       "        vertical-align: middle;\n",
       "    }\n",
       "\n",
       "    .dataframe tbody tr th {\n",
       "        vertical-align: top;\n",
       "    }\n",
       "\n",
       "    .dataframe thead th {\n",
       "        text-align: right;\n",
       "    }\n",
       "</style>\n",
       "<table border=\"1\" class=\"dataframe\">\n",
       "  <thead>\n",
       "    <tr style=\"text-align: right;\">\n",
       "      <th></th>\n",
       "      <th>original</th>\n",
       "    </tr>\n",
       "    <tr>\n",
       "      <th>short</th>\n",
       "      <th></th>\n",
       "    </tr>\n",
       "  </thead>\n",
       "  <tbody>\n",
       "    <tr>\n",
       "      <th>Religion</th>\n",
       "      <td>Religion</td>\n",
       "    </tr>\n",
       "    <tr>\n",
       "      <th>Final judgement</th>\n",
       "      <td>I believe that bad people will suffer one day ...</td>\n",
       "    </tr>\n",
       "    <tr>\n",
       "      <th>God</th>\n",
       "      <td>I believe in God.</td>\n",
       "    </tr>\n",
       "  </tbody>\n",
       "</table>\n",
       "</div>"
      ],
      "text/plain": [
       "                                                          original\n",
       "short                                                             \n",
       "Religion                                                  Religion\n",
       "Final judgement  I believe that bad people will suffer one day ...\n",
       "God                                              I believe in God."
      ]
     },
     "execution_count": 31,
     "metadata": {},
     "output_type": "execute_result"
    }
   ],
   "source": [
    "questions.loc[fact13_cols]"
   ]
  }
 ],
 "metadata": {
  "kernelspec": {
   "display_name": "Python 3 (ipykernel)",
   "language": "python",
   "name": "python3"
  },
  "language_info": {
   "codemirror_mode": {
    "name": "ipython",
    "version": 3
   },
   "file_extension": ".py",
   "mimetype": "text/x-python",
   "name": "python",
   "nbconvert_exporter": "python",
   "pygments_lexer": "ipython3",
   "version": "3.10.9"
  }
 },
 "nbformat": 4,
 "nbformat_minor": 5
}
